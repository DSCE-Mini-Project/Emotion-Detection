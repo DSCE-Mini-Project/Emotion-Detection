{
<<<<<<< HEAD
  "nbformat": 4,
  "nbformat_minor": 0,
  "metadata": {
    "colab": {
      "name": "EmotionRecognition.ipynb",
      "provenance": []
    },
    "kernelspec": {
      "name": "python3",
      "display_name": "Python 3"
    },
    "language_info": {
      "name": "python"
    }
  },
  "cells": [
    {
      "cell_type": "code",
      "metadata": {
        "id": "n6Ps_o9lKS5g",
        "colab": {
          "base_uri": "https://localhost:8080/"
        },
        "outputId": "aa143539-c7e1-492d-a8a2-580985552ba9"
      },
      "source": [
        "from google.colab import drive\n",
        "drive.mount('/content/drive')\n"
      ],
      "execution_count": 3,
      "outputs": [
        {
          "output_type": "stream",
          "text": [
            "Mounted at /content/drive\n"
          ],
          "name": "stdout"
        }
      ]
    },
    {
      "cell_type": "code",
      "metadata": {
        "colab": {
          "base_uri": "https://localhost:8080/"
        },
        "id": "qBMmK0_7gKpD",
        "outputId": "889ebfe3-edd8-431c-ce2b-426778f5d01a"
      },
      "source": [
        "!pip install librosa"
      ],
      "execution_count": null,
      "outputs": [
        {
          "output_type": "stream",
          "text": [
            "Requirement already satisfied: librosa in /usr/local/lib/python3.7/dist-packages (0.8.1)\n",
            "Requirement already satisfied: numba>=0.43.0 in /usr/local/lib/python3.7/dist-packages (from librosa) (0.51.2)\n",
            "Requirement already satisfied: soundfile>=0.10.2 in /usr/local/lib/python3.7/dist-packages (from librosa) (0.10.3.post1)\n",
            "Requirement already satisfied: decorator>=3.0.0 in /usr/local/lib/python3.7/dist-packages (from librosa) (4.4.2)\n",
            "Requirement already satisfied: numpy>=1.15.0 in /usr/local/lib/python3.7/dist-packages (from librosa) (1.19.5)\n",
            "Requirement already satisfied: resampy>=0.2.2 in /usr/local/lib/python3.7/dist-packages (from librosa) (0.2.2)\n",
            "Requirement already satisfied: joblib>=0.14 in /usr/local/lib/python3.7/dist-packages (from librosa) (1.0.1)\n",
            "Requirement already satisfied: scipy>=1.0.0 in /usr/local/lib/python3.7/dist-packages (from librosa) (1.4.1)\n",
            "Requirement already satisfied: scikit-learn!=0.19.0,>=0.14.0 in /usr/local/lib/python3.7/dist-packages (from librosa) (0.22.2.post1)\n",
            "Requirement already satisfied: pooch>=1.0 in /usr/local/lib/python3.7/dist-packages (from librosa) (1.4.0)\n",
            "Requirement already satisfied: audioread>=2.0.0 in /usr/local/lib/python3.7/dist-packages (from librosa) (2.1.9)\n",
            "Requirement already satisfied: packaging>=20.0 in /usr/local/lib/python3.7/dist-packages (from librosa) (20.9)\n",
            "Requirement already satisfied: llvmlite<0.35,>=0.34.0.dev0 in /usr/local/lib/python3.7/dist-packages (from numba>=0.43.0->librosa) (0.34.0)\n",
            "Requirement already satisfied: setuptools in /usr/local/lib/python3.7/dist-packages (from numba>=0.43.0->librosa) (57.0.0)\n",
            "Requirement already satisfied: cffi>=1.0 in /usr/local/lib/python3.7/dist-packages (from soundfile>=0.10.2->librosa) (1.14.5)\n",
            "Requirement already satisfied: six>=1.3 in /usr/local/lib/python3.7/dist-packages (from resampy>=0.2.2->librosa) (1.15.0)\n",
            "Requirement already satisfied: requests in /usr/local/lib/python3.7/dist-packages (from pooch>=1.0->librosa) (2.23.0)\n",
            "Requirement already satisfied: appdirs in /usr/local/lib/python3.7/dist-packages (from pooch>=1.0->librosa) (1.4.4)\n",
            "Requirement already satisfied: pyparsing>=2.0.2 in /usr/local/lib/python3.7/dist-packages (from packaging>=20.0->librosa) (2.4.7)\n",
            "Requirement already satisfied: pycparser in /usr/local/lib/python3.7/dist-packages (from cffi>=1.0->soundfile>=0.10.2->librosa) (2.20)\n",
            "Requirement already satisfied: idna<3,>=2.5 in /usr/local/lib/python3.7/dist-packages (from requests->pooch>=1.0->librosa) (2.10)\n",
            "Requirement already satisfied: certifi>=2017.4.17 in /usr/local/lib/python3.7/dist-packages (from requests->pooch>=1.0->librosa) (2021.5.30)\n",
            "Requirement already satisfied: urllib3!=1.25.0,!=1.25.1,<1.26,>=1.21.1 in /usr/local/lib/python3.7/dist-packages (from requests->pooch>=1.0->librosa) (1.24.3)\n",
            "Requirement already satisfied: chardet<4,>=3.0.2 in /usr/local/lib/python3.7/dist-packages (from requests->pooch>=1.0->librosa) (3.0.4)\n"
          ],
          "name": "stdout"
        }
      ]
    },
    {
      "cell_type": "code",
      "metadata": {
        "id": "PHbDOD_OgZr3"
      },
      "source": [
        "\n",
        "import librosa\n",
        "from librosa import display\n",
        "\n",
        "data, sampling_rate = librosa.load('/content/drive/My Drive/Ravdess/03-01-08-02-02-02-01.wav')"
      ],
      "execution_count": null,
      "outputs": []
    },
    {
      "cell_type": "code",
      "metadata": {
        "colab": {
          "base_uri": "https://localhost:8080/",
          "height": 366
        },
        "id": "WSBABK1_gduf",
        "outputId": "d90856ec-348e-46a4-fd8a-3b851edb21a5"
      },
      "source": [
        "\n",
        "% pylab inline\n",
        "import os\n",
        "import pandas as pd\n",
        "import glob \n",
        "\n",
        "plt.figure(figsize=(12, 4))\n",
        "librosa.display.waveplot(data, sr=sampling_rate)"
      ],
      "execution_count": null,
      "outputs": [
        {
          "output_type": "stream",
          "text": [
            "Populating the interactive namespace from numpy and matplotlib\n"
          ],
          "name": "stdout"
        },
        {
          "output_type": "stream",
          "text": [
            "/usr/local/lib/python3.7/dist-packages/IPython/core/magics/pylab.py:161: UserWarning: pylab import has clobbered these variables: ['display']\n",
            "`%matplotlib` prevents importing * from pylab and numpy\n",
            "  \"\\n`%matplotlib` prevents importing * from pylab and numpy\"\n"
          ],
          "name": "stderr"
        },
        {
          "output_type": "execute_result",
          "data": {
            "text/plain": [
              "<matplotlib.collections.PolyCollection at 0x7f117c2c7e50>"
            ]
          },
          "metadata": {
            "tags": []
          },
          "execution_count": 4
        },
        {
          "output_type": "display_data",
          "data": {
            "image/png": "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\n",
            "text/plain": [
              "<Figure size 864x288 with 1 Axes>"
            ]
          },
          "metadata": {
            "tags": [],
            "needs_background": "light"
          }
        }
      ]
    },
    {
      "cell_type": "code",
      "metadata": {
        "colab": {
          "base_uri": "https://localhost:8080/"
        },
        "id": "igbWzvh7glJA",
        "outputId": "4d63d44b-a94b-48d4-e722-eafe1594f9fe"
      },
      "source": [
        "import time\n",
        "\n",
        "path = '/content/drive/My Drive/Tess/features/'\n",
        "lst = []\n",
        "\n",
        "start_time = time.time()\n",
        "\n",
        "for subdir, dirs, files in os.walk(path):\n",
        "  for file in files:\n",
        "      try:\n",
        "        #Load librosa array, obtain mfcss, store the file and the mcss information in a new array\n",
        "        X, sample_rate = librosa.load(os.path.join(subdir,file), res_type='kaiser_fast')\n",
        "        mfccs = np.mean(librosa.feature.mfcc(y=X, sr=sample_rate, n_mfcc=40).T,axis=0) \n",
        "        # The instruction below converts the labels (from 1 to 8) to a series from 0 to 7\n",
        "        # This is because our predictor needs to start from 0 otherwise it will try to predict also 0.\n",
        "        file = int(file[7:8]) - 1 \n",
        "        arr = mfccs, file\n",
        "        lst.append(arr)\n",
        "      # If the file is not valid, skip it\n",
        "      except ValueError:\n",
        "        continue\n",
        "\n",
        "print(\"--- Data loaded. Loading time: %s seconds ---\" % (time.time() - start_time))\n"
      ],
      "execution_count": null,
      "outputs": [
        {
          "output_type": "stream",
          "text": [
            "--- Data loaded. Loading time: 2239.194626569748 seconds ---\n"
          ],
          "name": "stdout"
        }
      ]
    },
    {
      "cell_type": "code",
      "metadata": {
        "id": "dwKRS8FLguSh",
        "colab": {
          "base_uri": "https://localhost:8080/",
          "height": 166
        },
        "outputId": "b2f4ef9a-0c3e-43e1-f289-9b3bac47a088"
      },
      "source": [
        " X, y = zip(*lst)"
      ],
      "execution_count": null,
      "outputs": [
        {
          "output_type": "error",
          "ename": "NameError",
          "evalue": "ignored",
          "traceback": [
            "\u001b[0;31m---------------------------------------------------------------------------\u001b[0m",
            "\u001b[0;31mNameError\u001b[0m                                 Traceback (most recent call last)",
            "\u001b[0;32m<ipython-input-5-8b9a9a5d61a8>\u001b[0m in \u001b[0;36m<module>\u001b[0;34m()\u001b[0m\n\u001b[0;32m----> 1\u001b[0;31m \u001b[0mX\u001b[0m\u001b[0;34m,\u001b[0m \u001b[0my\u001b[0m \u001b[0;34m=\u001b[0m \u001b[0mzip\u001b[0m\u001b[0;34m(\u001b[0m\u001b[0;34m*\u001b[0m\u001b[0mlst\u001b[0m\u001b[0;34m)\u001b[0m\u001b[0;34m\u001b[0m\u001b[0;34m\u001b[0m\u001b[0m\n\u001b[0m",
            "\u001b[0;31mNameError\u001b[0m: name 'lst' is not defined"
          ]
        }
      ]
    },
    {
      "cell_type": "code",
      "metadata": {
        "colab": {
          "base_uri": "https://localhost:8080/",
          "height": 235
        },
        "id": "3xePxgPVhUnc",
        "outputId": "cd13f76c-0fcd-43f2-8ed8-7f2105f784da"
      },
      "source": [
        "\n",
        "import numpy as np\n",
        "X = np.asarray(X)\n",
        "y = np.asarray(y)\n",
        "\n",
        "\n",
        "X.shape, y.shape"
      ],
      "execution_count": null,
      "outputs": [
        {
          "output_type": "error",
          "ename": "NameError",
          "evalue": "ignored",
          "traceback": [
            "\u001b[0;31m---------------------------------------------------------------------------\u001b[0m",
            "\u001b[0;31mNameError\u001b[0m                                 Traceback (most recent call last)",
            "\u001b[0;32m<ipython-input-6-a99dcf4b984d>\u001b[0m in \u001b[0;36m<module>\u001b[0;34m()\u001b[0m\n\u001b[1;32m      1\u001b[0m \u001b[0;34m\u001b[0m\u001b[0m\n\u001b[1;32m      2\u001b[0m \u001b[0;32mimport\u001b[0m \u001b[0mnumpy\u001b[0m \u001b[0;32mas\u001b[0m \u001b[0mnp\u001b[0m\u001b[0;34m\u001b[0m\u001b[0;34m\u001b[0m\u001b[0m\n\u001b[0;32m----> 3\u001b[0;31m \u001b[0mX\u001b[0m \u001b[0;34m=\u001b[0m \u001b[0mnp\u001b[0m\u001b[0;34m.\u001b[0m\u001b[0masarray\u001b[0m\u001b[0;34m(\u001b[0m\u001b[0mX\u001b[0m\u001b[0;34m)\u001b[0m\u001b[0;34m\u001b[0m\u001b[0;34m\u001b[0m\u001b[0m\n\u001b[0m\u001b[1;32m      4\u001b[0m \u001b[0my\u001b[0m \u001b[0;34m=\u001b[0m \u001b[0mnp\u001b[0m\u001b[0;34m.\u001b[0m\u001b[0masarray\u001b[0m\u001b[0;34m(\u001b[0m\u001b[0my\u001b[0m\u001b[0;34m)\u001b[0m\u001b[0;34m\u001b[0m\u001b[0;34m\u001b[0m\u001b[0m\n\u001b[1;32m      5\u001b[0m \u001b[0;34m\u001b[0m\u001b[0m\n",
            "\u001b[0;31mNameError\u001b[0m: name 'X' is not defined"
          ]
        }
      ]
    },
    {
      "cell_type": "code",
      "metadata": {
        "id": "iAyghTZdhWg_",
        "colab": {
          "base_uri": "https://localhost:8080/",
          "height": 218
        },
        "outputId": "6feb2e6e-0df4-4d6b-ae8b-1eb8f04c9320"
      },
      "source": [
        "import joblib\n",
        "\n",
        "X_name = 'X.joblib'\n",
        "y_name = 'y.joblib'\n",
        "save_dir = '/content/drive/My Drive/Ravdess/Ravdess_model'\n",
        "\n",
        "savedX = joblib.dump(X, os.path.join(save_dir, X_name))\n",
        "savedy = joblib.dump(y, os.path.join(save_dir, y_name))\n"
      ],
      "execution_count": null,
      "outputs": [
        {
          "output_type": "error",
          "ename": "NameError",
          "evalue": "ignored",
          "traceback": [
            "\u001b[0;31m---------------------------------------------------------------------------\u001b[0m",
            "\u001b[0;31mNameError\u001b[0m                                 Traceback (most recent call last)",
            "\u001b[0;32m<ipython-input-4-03af3cb8ee9a>\u001b[0m in \u001b[0;36m<module>\u001b[0;34m()\u001b[0m\n\u001b[1;32m      5\u001b[0m \u001b[0msave_dir\u001b[0m \u001b[0;34m=\u001b[0m \u001b[0;34m'/content/drive/My Drive/Ravdess/Ravdess_model'\u001b[0m\u001b[0;34m\u001b[0m\u001b[0;34m\u001b[0m\u001b[0m\n\u001b[1;32m      6\u001b[0m \u001b[0;34m\u001b[0m\u001b[0m\n\u001b[0;32m----> 7\u001b[0;31m \u001b[0msavedX\u001b[0m \u001b[0;34m=\u001b[0m \u001b[0mjoblib\u001b[0m\u001b[0;34m.\u001b[0m\u001b[0mdump\u001b[0m\u001b[0;34m(\u001b[0m\u001b[0mX\u001b[0m\u001b[0;34m,\u001b[0m \u001b[0mos\u001b[0m\u001b[0;34m.\u001b[0m\u001b[0mpath\u001b[0m\u001b[0;34m.\u001b[0m\u001b[0mjoin\u001b[0m\u001b[0;34m(\u001b[0m\u001b[0msave_dir\u001b[0m\u001b[0;34m,\u001b[0m \u001b[0mX_name\u001b[0m\u001b[0;34m)\u001b[0m\u001b[0;34m)\u001b[0m\u001b[0;34m\u001b[0m\u001b[0;34m\u001b[0m\u001b[0m\n\u001b[0m\u001b[1;32m      8\u001b[0m \u001b[0msavedy\u001b[0m \u001b[0;34m=\u001b[0m \u001b[0mjoblib\u001b[0m\u001b[0;34m.\u001b[0m\u001b[0mdump\u001b[0m\u001b[0;34m(\u001b[0m\u001b[0my\u001b[0m\u001b[0;34m,\u001b[0m \u001b[0mos\u001b[0m\u001b[0;34m.\u001b[0m\u001b[0mpath\u001b[0m\u001b[0;34m.\u001b[0m\u001b[0mjoin\u001b[0m\u001b[0;34m(\u001b[0m\u001b[0msave_dir\u001b[0m\u001b[0;34m,\u001b[0m \u001b[0my_name\u001b[0m\u001b[0;34m)\u001b[0m\u001b[0;34m)\u001b[0m\u001b[0;34m\u001b[0m\u001b[0;34m\u001b[0m\u001b[0m\n",
            "\u001b[0;31mNameError\u001b[0m: name 'X' is not defined"
          ]
        }
      ]
    },
    {
      "cell_type": "code",
      "metadata": {
        "id": "u-SidlfKrCn0",
        "colab": {
          "base_uri": "https://localhost:8080/"
        },
        "outputId": "d4418127-091e-4b2a-e62c-f3114532385d"
      },
      "source": [
        "import joblib\n",
        "X = joblib.load('/content/drive/My Drive/Ravdess/Ravdess_model/X.joblib')\n",
        "y = joblib.load('/content/drive/My Drive/Ravdess/Ravdess_model/y.joblib')\n",
        "X"
      ],
      "execution_count": 42,
      "outputs": [
        {
          "output_type": "execute_result",
          "data": {
            "text/plain": [
              "array([[-6.8929297e+02,  4.6676765e+01, -1.0846545e+01, ...,\n",
              "         6.0305113e-01,  1.0846035e-01, -3.9446238e-01],\n",
              "       [-6.9034174e+02,  4.5730690e+01, -1.6708593e+01, ...,\n",
              "         2.1202380e-02,  2.4008772e-01, -5.6385523e-01],\n",
              "       [-6.8517169e+02,  4.8146206e+01, -1.1034463e+01, ...,\n",
              "        -3.8675420e+00, -3.1485486e+00, -8.9789593e-01],\n",
              "       ...,\n",
              "       [-3.3706293e+02,  7.5775146e+01, -2.6872540e+01, ...,\n",
              "         9.6422920e+00,  9.8437338e+00,  7.2223358e+00],\n",
              "       [-3.8420758e+02,  5.1662548e+01, -3.1358000e+01, ...,\n",
              "         4.5397177e+00,  6.7247601e+00,  9.7415018e+00],\n",
              "       [-3.7404776e+02,  6.1768642e+01, -2.0707418e+01, ...,\n",
              "         7.6036015e+00,  6.8756013e+00,  7.0608563e+00]], dtype=float32)"
            ]
          },
          "metadata": {
            "tags": []
          },
          "execution_count": 42
        }
      ]
    },
    {
      "cell_type": "code",
      "metadata": {
        "id": "K-z4cFqar2zb"
      },
      "source": [
        "from sklearn.model_selection import train_test_split\n",
        "\n",
        "X_train, X_test, y_train, y_test = train_test_split(X, y, test_size=0.33, random_state=42)"
      ],
      "execution_count": 5,
      "outputs": []
    },
    {
      "cell_type": "code",
      "metadata": {
        "id": "Bf_2elz6r-7h",
        "colab": {
          "base_uri": "https://localhost:8080/"
        },
        "outputId": "df7710c1-0c4a-4c90-9912-c6032e1047a5"
      },
      "source": [
        "import numpy as np\n",
        "x_traincnn = np.expand_dims(X_train, axis=2)\n",
        "x_testcnn = np.expand_dims(X_test, axis=2)\n"
      ],
      "execution_count": 43,
      "outputs": [
        {
          "output_type": "execute_result",
          "data": {
            "text/plain": [
              "array([[[-4.9345456e+02],\n",
              "        [ 2.7768471e+01],\n",
              "        [-2.0497866e+01],\n",
              "        ...,\n",
              "        [-3.1355975e+00],\n",
              "        [-2.7767689e+00],\n",
              "        [-1.2081119e+00]],\n",
              "\n",
              "       [[-4.1170908e+02],\n",
              "        [ 8.5290512e+01],\n",
              "        [ 2.1014071e+01],\n",
              "        ...,\n",
              "        [ 4.3846595e-01],\n",
              "        [ 7.8152847e+00],\n",
              "        [ 9.8920193e+00]],\n",
              "\n",
              "       [[-4.5926105e+02],\n",
              "        [ 9.7272430e+01],\n",
              "        [ 2.2360987e+01],\n",
              "        ...,\n",
              "        [ 1.8691431e+01],\n",
              "        [ 1.4991128e+01],\n",
              "        [ 1.2810494e+01]],\n",
              "\n",
              "       ...,\n",
              "\n",
              "       [[-5.8791650e+02],\n",
              "        [ 5.6699001e+01],\n",
              "        [-4.3029237e+00],\n",
              "        ...,\n",
              "        [-3.9360371e+00],\n",
              "        [-2.9762077e+00],\n",
              "        [-2.2495208e+00]],\n",
              "\n",
              "       [[-3.9728802e+02],\n",
              "        [ 5.7131607e+01],\n",
              "        [-2.7385630e+01],\n",
              "        ...,\n",
              "        [ 8.7047377e+00],\n",
              "        [ 1.1048983e+01],\n",
              "        [ 1.0263797e+01]],\n",
              "\n",
              "       [[-3.1776398e+02],\n",
              "        [ 3.7331470e+01],\n",
              "        [-2.3718431e+01],\n",
              "        ...,\n",
              "        [-3.8076599e+00],\n",
              "        [-2.1652029e+00],\n",
              "        [-2.8584698e-01]]], dtype=float32)"
            ]
          },
          "metadata": {
            "tags": []
          },
          "execution_count": 43
        }
      ]
    },
    {
      "cell_type": "code",
      "metadata": {
        "colab": {
          "base_uri": "https://localhost:8080/"
        },
        "id": "O2vMnLI5sWAW",
        "outputId": "38ebf8a6-3cb9-4cce-824b-680a2154750e"
      },
      "source": [
        "\n",
        "x_traincnn.shape, x_testcnn.shape"
      ],
      "execution_count": 7,
      "outputs": [
        {
          "output_type": "execute_result",
          "data": {
            "text/plain": [
              "((3518, 40, 1), (1734, 40, 1))"
            ]
          },
          "metadata": {
            "tags": []
          },
          "execution_count": 7
        }
      ]
    },
    {
      "cell_type": "code",
      "metadata": {
        "id": "nDqVAD8_sXy7"
      },
      "source": [
        "import keras\n",
        "import numpy as np\n",
        "import matplotlib.pyplot as plt\n",
        "import tensorflow as tf\n",
        "from keras.preprocessing import sequence\n",
        "from keras.models import Sequential\n",
        "from keras.layers import Dense, Embedding\n",
        "from tensorflow.keras.utils import to_categorical\n",
        "\n",
        "from keras.layers import Input, Flatten, Dropout, Activation\n",
        "from keras.layers import Conv1D, MaxPooling1D\n",
        "from keras.models import Model\n",
        "from keras.callbacks import ModelCheckpoint\n",
        "\n",
        "model = Sequential()\n",
        "\n",
        "model.add(Conv1D(128, 5,padding='same',\n",
        "                 input_shape=(40,1)))\n",
        "model.add(Activation('relu'))\n",
        "model.add(Dropout(0.1))\n",
        "model.add(MaxPooling1D(pool_size=(8)))\n",
        "model.add(Conv1D(128, 5,padding='same',))\n",
        "model.add(Activation('relu'))\n",
        "model.add(Dropout(0.1))\n",
        "model.add(Flatten())\n",
        "model.add(Dense(8))\n",
        "model.add(Activation('softmax'))\n",
        "opt = keras.optimizers.RMSprop(learning_rate=0.00005, rho=0.9, epsilon=None, decay=0.0)\n"
      ],
      "execution_count": 8,
      "outputs": []
    },
    {
      "cell_type": "code",
      "metadata": {
        "colab": {
          "base_uri": "https://localhost:8080/"
        },
        "id": "anhBteS_sbAb",
        "outputId": "9f496b42-0d27-4be1-8846-702480840469"
      },
      "source": [
        "model.summary()\n"
      ],
      "execution_count": 9,
      "outputs": [
        {
          "output_type": "stream",
          "text": [
            "Model: \"sequential\"\n",
            "_________________________________________________________________\n",
            "Layer (type)                 Output Shape              Param #   \n",
            "=================================================================\n",
            "conv1d (Conv1D)              (None, 40, 128)           768       \n",
            "_________________________________________________________________\n",
            "activation (Activation)      (None, 40, 128)           0         \n",
            "_________________________________________________________________\n",
            "dropout (Dropout)            (None, 40, 128)           0         \n",
            "_________________________________________________________________\n",
            "max_pooling1d (MaxPooling1D) (None, 5, 128)            0         \n",
            "_________________________________________________________________\n",
            "conv1d_1 (Conv1D)            (None, 5, 128)            82048     \n",
            "_________________________________________________________________\n",
            "activation_1 (Activation)    (None, 5, 128)            0         \n",
            "_________________________________________________________________\n",
            "dropout_1 (Dropout)          (None, 5, 128)            0         \n",
            "_________________________________________________________________\n",
            "flatten (Flatten)            (None, 640)               0         \n",
            "_________________________________________________________________\n",
            "dense (Dense)                (None, 8)                 5128      \n",
            "_________________________________________________________________\n",
            "activation_2 (Activation)    (None, 8)                 0         \n",
            "=================================================================\n",
            "Total params: 87,944\n",
            "Trainable params: 87,944\n",
            "Non-trainable params: 0\n",
            "_________________________________________________________________\n"
          ],
          "name": "stdout"
        }
      ]
    },
    {
      "cell_type": "code",
      "metadata": {
        "id": "wdP9AzTNtJni"
      },
      "source": [
        "model.compile(loss='sparse_categorical_crossentropy',\n",
        "              optimizer=opt,\n",
        "              metrics=['accuracy'])"
      ],
      "execution_count": 10,
      "outputs": []
    },
    {
      "cell_type": "code",
      "metadata": {
        "colab": {
          "base_uri": "https://localhost:8080/"
        },
        "id": "qCC_I3vEtMNZ",
        "outputId": "8d60d1eb-4ed9-4285-dba7-cc4510facd76"
      },
      "source": [
        "cnnhistory=model.fit(x_traincnn, y_train, batch_size=16, epochs=500, validation_data=(x_testcnn, y_test))\n"
      ],
      "execution_count": 11,
      "outputs": [
        {
          "output_type": "stream",
          "text": [
            "Epoch 1/500\n",
            "220/220 [==============================] - 16s 10ms/step - loss: 6.9920 - accuracy: 0.1536 - val_loss: 1.8288 - val_accuracy: 0.3293\n",
            "Epoch 2/500\n",
            "220/220 [==============================] - 1s 7ms/step - loss: 4.1474 - accuracy: 0.2637 - val_loss: 1.6241 - val_accuracy: 0.4233\n",
            "Epoch 3/500\n",
            "220/220 [==============================] - 1s 7ms/step - loss: 3.0308 - accuracy: 0.3198 - val_loss: 1.5084 - val_accuracy: 0.4642\n",
            "Epoch 4/500\n",
            "220/220 [==============================] - 1s 6ms/step - loss: 2.3188 - accuracy: 0.3908 - val_loss: 1.3270 - val_accuracy: 0.5236\n",
            "Epoch 5/500\n",
            "220/220 [==============================] - 1s 6ms/step - loss: 2.0019 - accuracy: 0.4015 - val_loss: 1.2797 - val_accuracy: 0.5306\n",
            "Epoch 6/500\n",
            "220/220 [==============================] - 1s 6ms/step - loss: 1.5967 - accuracy: 0.4829 - val_loss: 1.2842 - val_accuracy: 0.5652\n",
            "Epoch 7/500\n",
            "220/220 [==============================] - 2s 7ms/step - loss: 1.5206 - accuracy: 0.4865 - val_loss: 1.1832 - val_accuracy: 0.5923\n",
            "Epoch 8/500\n",
            "220/220 [==============================] - 1s 7ms/step - loss: 1.4402 - accuracy: 0.5265 - val_loss: 1.2293 - val_accuracy: 0.5669\n",
            "Epoch 9/500\n",
            "220/220 [==============================] - 1s 6ms/step - loss: 1.3395 - accuracy: 0.5434 - val_loss: 1.1662 - val_accuracy: 0.5940\n",
            "Epoch 10/500\n",
            "220/220 [==============================] - 1s 6ms/step - loss: 1.3207 - accuracy: 0.5395 - val_loss: 1.1225 - val_accuracy: 0.6101\n",
            "Epoch 11/500\n",
            "220/220 [==============================] - 2s 7ms/step - loss: 1.2266 - accuracy: 0.5741 - val_loss: 1.0571 - val_accuracy: 0.6344\n",
            "Epoch 12/500\n",
            "220/220 [==============================] - 1s 6ms/step - loss: 1.2166 - accuracy: 0.5778 - val_loss: 1.0376 - val_accuracy: 0.6488\n",
            "Epoch 13/500\n",
            "220/220 [==============================] - 1s 7ms/step - loss: 1.1723 - accuracy: 0.5859 - val_loss: 1.0632 - val_accuracy: 0.6159\n",
            "Epoch 14/500\n",
            "220/220 [==============================] - 1s 6ms/step - loss: 1.1367 - accuracy: 0.5994 - val_loss: 1.0409 - val_accuracy: 0.6309\n",
            "Epoch 15/500\n",
            "220/220 [==============================] - 1s 7ms/step - loss: 1.1163 - accuracy: 0.5990 - val_loss: 0.9976 - val_accuracy: 0.6511\n",
            "Epoch 16/500\n",
            "220/220 [==============================] - 1s 7ms/step - loss: 1.0810 - accuracy: 0.6212 - val_loss: 0.9468 - val_accuracy: 0.6684\n",
            "Epoch 17/500\n",
            "220/220 [==============================] - 1s 7ms/step - loss: 1.0160 - accuracy: 0.6402 - val_loss: 0.9499 - val_accuracy: 0.6701\n",
            "Epoch 18/500\n",
            "220/220 [==============================] - 2s 7ms/step - loss: 1.0096 - accuracy: 0.6350 - val_loss: 0.9323 - val_accuracy: 0.6655\n",
            "Epoch 19/500\n",
            "220/220 [==============================] - 1s 7ms/step - loss: 1.0051 - accuracy: 0.6313 - val_loss: 0.9032 - val_accuracy: 0.6753\n",
            "Epoch 20/500\n",
            "220/220 [==============================] - 1s 7ms/step - loss: 0.9931 - accuracy: 0.6461 - val_loss: 0.9188 - val_accuracy: 0.6649\n",
            "Epoch 21/500\n",
            "220/220 [==============================] - 1s 7ms/step - loss: 1.0028 - accuracy: 0.6390 - val_loss: 0.9057 - val_accuracy: 0.6765\n",
            "Epoch 22/500\n",
            "220/220 [==============================] - 1s 6ms/step - loss: 0.9653 - accuracy: 0.6477 - val_loss: 0.8725 - val_accuracy: 0.6753\n",
            "Epoch 23/500\n",
            "220/220 [==============================] - 1s 6ms/step - loss: 0.9654 - accuracy: 0.6375 - val_loss: 0.8807 - val_accuracy: 0.6840\n",
            "Epoch 24/500\n",
            "220/220 [==============================] - 1s 7ms/step - loss: 0.9164 - accuracy: 0.6755 - val_loss: 0.8702 - val_accuracy: 0.6776\n",
            "Epoch 25/500\n",
            "220/220 [==============================] - 1s 7ms/step - loss: 0.9185 - accuracy: 0.6738 - val_loss: 0.8660 - val_accuracy: 0.6730\n",
            "Epoch 26/500\n",
            "220/220 [==============================] - 1s 6ms/step - loss: 0.8778 - accuracy: 0.6762 - val_loss: 0.8605 - val_accuracy: 0.6880\n",
            "Epoch 27/500\n",
            "220/220 [==============================] - 1s 7ms/step - loss: 0.8903 - accuracy: 0.6779 - val_loss: 0.8300 - val_accuracy: 0.6995\n",
            "Epoch 28/500\n",
            "220/220 [==============================] - 1s 7ms/step - loss: 0.8757 - accuracy: 0.6816 - val_loss: 0.8356 - val_accuracy: 0.6955\n",
            "Epoch 29/500\n",
            "220/220 [==============================] - 1s 6ms/step - loss: 0.8824 - accuracy: 0.6760 - val_loss: 0.8172 - val_accuracy: 0.7111\n",
            "Epoch 30/500\n",
            "220/220 [==============================] - 1s 7ms/step - loss: 0.8571 - accuracy: 0.6819 - val_loss: 0.8123 - val_accuracy: 0.7140\n",
            "Epoch 31/500\n",
            "220/220 [==============================] - 2s 7ms/step - loss: 0.8690 - accuracy: 0.6813 - val_loss: 0.8101 - val_accuracy: 0.7065\n",
            "Epoch 32/500\n",
            "220/220 [==============================] - 1s 7ms/step - loss: 0.8268 - accuracy: 0.6953 - val_loss: 0.7946 - val_accuracy: 0.7174\n",
            "Epoch 33/500\n",
            "220/220 [==============================] - 1s 6ms/step - loss: 0.8386 - accuracy: 0.6970 - val_loss: 0.7931 - val_accuracy: 0.7099\n",
            "Epoch 34/500\n",
            "220/220 [==============================] - 1s 6ms/step - loss: 0.8075 - accuracy: 0.7041 - val_loss: 0.8174 - val_accuracy: 0.6932\n",
            "Epoch 35/500\n",
            "220/220 [==============================] - 1s 7ms/step - loss: 0.8033 - accuracy: 0.7149 - val_loss: 0.8033 - val_accuracy: 0.7070\n",
            "Epoch 36/500\n",
            "220/220 [==============================] - 1s 6ms/step - loss: 0.8297 - accuracy: 0.6972 - val_loss: 0.7970 - val_accuracy: 0.7059\n",
            "Epoch 37/500\n",
            "220/220 [==============================] - 1s 7ms/step - loss: 0.7771 - accuracy: 0.7222 - val_loss: 0.7625 - val_accuracy: 0.7163\n",
            "Epoch 38/500\n",
            "220/220 [==============================] - 1s 7ms/step - loss: 0.7513 - accuracy: 0.7103 - val_loss: 0.7720 - val_accuracy: 0.7157\n",
            "Epoch 39/500\n",
            "220/220 [==============================] - 1s 7ms/step - loss: 0.8008 - accuracy: 0.7015 - val_loss: 0.7521 - val_accuracy: 0.7249\n",
            "Epoch 40/500\n",
            "220/220 [==============================] - 1s 7ms/step - loss: 0.7749 - accuracy: 0.7206 - val_loss: 0.7636 - val_accuracy: 0.7128\n",
            "Epoch 41/500\n",
            "220/220 [==============================] - 1s 7ms/step - loss: 0.7472 - accuracy: 0.7181 - val_loss: 0.7532 - val_accuracy: 0.7301\n",
            "Epoch 42/500\n",
            "220/220 [==============================] - 1s 6ms/step - loss: 0.7642 - accuracy: 0.7246 - val_loss: 0.7473 - val_accuracy: 0.7266\n",
            "Epoch 43/500\n",
            "220/220 [==============================] - 1s 6ms/step - loss: 0.7339 - accuracy: 0.7324 - val_loss: 0.7364 - val_accuracy: 0.7364\n",
            "Epoch 44/500\n",
            "220/220 [==============================] - 1s 7ms/step - loss: 0.7286 - accuracy: 0.7302 - val_loss: 0.7380 - val_accuracy: 0.7313\n",
            "Epoch 45/500\n",
            "220/220 [==============================] - 1s 6ms/step - loss: 0.7216 - accuracy: 0.7365 - val_loss: 0.7235 - val_accuracy: 0.7330\n",
            "Epoch 46/500\n",
            "220/220 [==============================] - 1s 6ms/step - loss: 0.7190 - accuracy: 0.7368 - val_loss: 0.7261 - val_accuracy: 0.7434\n",
            "Epoch 47/500\n",
            "220/220 [==============================] - 1s 7ms/step - loss: 0.7347 - accuracy: 0.7316 - val_loss: 0.7383 - val_accuracy: 0.7226\n",
            "Epoch 48/500\n",
            "220/220 [==============================] - 1s 7ms/step - loss: 0.6909 - accuracy: 0.7429 - val_loss: 0.7420 - val_accuracy: 0.7284\n",
            "Epoch 49/500\n",
            "220/220 [==============================] - 1s 6ms/step - loss: 0.7352 - accuracy: 0.7361 - val_loss: 0.7255 - val_accuracy: 0.7272\n",
            "Epoch 50/500\n",
            "220/220 [==============================] - 1s 6ms/step - loss: 0.6910 - accuracy: 0.7394 - val_loss: 0.7148 - val_accuracy: 0.7422\n",
            "Epoch 51/500\n",
            "220/220 [==============================] - 1s 7ms/step - loss: 0.6920 - accuracy: 0.7596 - val_loss: 0.7204 - val_accuracy: 0.7434\n",
            "Epoch 52/500\n",
            "220/220 [==============================] - 1s 6ms/step - loss: 0.7084 - accuracy: 0.7335 - val_loss: 0.7252 - val_accuracy: 0.7416\n",
            "Epoch 53/500\n",
            "220/220 [==============================] - 1s 6ms/step - loss: 0.6929 - accuracy: 0.7443 - val_loss: 0.7072 - val_accuracy: 0.7439\n",
            "Epoch 54/500\n",
            "220/220 [==============================] - 1s 6ms/step - loss: 0.6811 - accuracy: 0.7564 - val_loss: 0.6928 - val_accuracy: 0.7422\n",
            "Epoch 55/500\n",
            "220/220 [==============================] - 1s 6ms/step - loss: 0.6874 - accuracy: 0.7411 - val_loss: 0.6984 - val_accuracy: 0.7376\n",
            "Epoch 56/500\n",
            "220/220 [==============================] - 1s 6ms/step - loss: 0.6804 - accuracy: 0.7597 - val_loss: 0.6777 - val_accuracy: 0.7411\n",
            "Epoch 57/500\n",
            "220/220 [==============================] - 1s 6ms/step - loss: 0.6811 - accuracy: 0.7494 - val_loss: 0.7048 - val_accuracy: 0.7359\n",
            "Epoch 58/500\n",
            "220/220 [==============================] - 1s 7ms/step - loss: 0.6712 - accuracy: 0.7551 - val_loss: 0.6851 - val_accuracy: 0.7503\n",
            "Epoch 59/500\n",
            "220/220 [==============================] - 1s 6ms/step - loss: 0.6771 - accuracy: 0.7589 - val_loss: 0.6850 - val_accuracy: 0.7520\n",
            "Epoch 60/500\n",
            "220/220 [==============================] - 1s 6ms/step - loss: 0.6671 - accuracy: 0.7589 - val_loss: 0.6708 - val_accuracy: 0.7422\n",
            "Epoch 61/500\n",
            "220/220 [==============================] - 1s 6ms/step - loss: 0.6710 - accuracy: 0.7434 - val_loss: 0.6672 - val_accuracy: 0.7543\n",
            "Epoch 62/500\n",
            "220/220 [==============================] - 1s 6ms/step - loss: 0.6763 - accuracy: 0.7656 - val_loss: 0.6690 - val_accuracy: 0.7589\n",
            "Epoch 63/500\n",
            "220/220 [==============================] - 1s 6ms/step - loss: 0.6530 - accuracy: 0.7628 - val_loss: 0.6706 - val_accuracy: 0.7468\n",
            "Epoch 64/500\n",
            "220/220 [==============================] - 1s 6ms/step - loss: 0.6455 - accuracy: 0.7667 - val_loss: 0.6750 - val_accuracy: 0.7468\n",
            "Epoch 65/500\n",
            "220/220 [==============================] - 1s 7ms/step - loss: 0.6470 - accuracy: 0.7574 - val_loss: 0.6612 - val_accuracy: 0.7537\n",
            "Epoch 66/500\n",
            "220/220 [==============================] - 1s 6ms/step - loss: 0.6213 - accuracy: 0.7712 - val_loss: 0.6871 - val_accuracy: 0.7463\n",
            "Epoch 67/500\n",
            "220/220 [==============================] - 1s 6ms/step - loss: 0.6241 - accuracy: 0.7692 - val_loss: 0.6779 - val_accuracy: 0.7509\n",
            "Epoch 68/500\n",
            "220/220 [==============================] - 1s 7ms/step - loss: 0.6332 - accuracy: 0.7732 - val_loss: 0.6575 - val_accuracy: 0.7549\n",
            "Epoch 69/500\n",
            "220/220 [==============================] - 1s 7ms/step - loss: 0.6312 - accuracy: 0.7703 - val_loss: 0.6506 - val_accuracy: 0.7537\n",
            "Epoch 70/500\n",
            "220/220 [==============================] - 1s 7ms/step - loss: 0.6302 - accuracy: 0.7795 - val_loss: 0.6687 - val_accuracy: 0.7566\n",
            "Epoch 71/500\n",
            "220/220 [==============================] - 1s 6ms/step - loss: 0.6252 - accuracy: 0.7723 - val_loss: 0.6478 - val_accuracy: 0.7612\n",
            "Epoch 72/500\n",
            "220/220 [==============================] - 1s 6ms/step - loss: 0.6272 - accuracy: 0.7678 - val_loss: 0.6562 - val_accuracy: 0.7549\n",
            "Epoch 73/500\n",
            "220/220 [==============================] - 1s 6ms/step - loss: 0.6058 - accuracy: 0.7772 - val_loss: 0.6316 - val_accuracy: 0.7682\n",
            "Epoch 74/500\n",
            "220/220 [==============================] - 1s 7ms/step - loss: 0.5802 - accuracy: 0.7899 - val_loss: 0.6533 - val_accuracy: 0.7601\n",
            "Epoch 75/500\n",
            "220/220 [==============================] - 1s 7ms/step - loss: 0.5876 - accuracy: 0.7892 - val_loss: 0.6451 - val_accuracy: 0.7491\n",
            "Epoch 76/500\n",
            "220/220 [==============================] - 1s 6ms/step - loss: 0.5994 - accuracy: 0.7794 - val_loss: 0.6277 - val_accuracy: 0.7636\n",
            "Epoch 77/500\n",
            "220/220 [==============================] - 1s 7ms/step - loss: 0.6012 - accuracy: 0.7803 - val_loss: 0.6686 - val_accuracy: 0.7474\n",
            "Epoch 78/500\n",
            "220/220 [==============================] - 2s 7ms/step - loss: 0.6190 - accuracy: 0.7779 - val_loss: 0.6321 - val_accuracy: 0.7636\n",
            "Epoch 79/500\n",
            "220/220 [==============================] - 1s 7ms/step - loss: 0.6268 - accuracy: 0.7681 - val_loss: 0.6334 - val_accuracy: 0.7653\n",
            "Epoch 80/500\n",
            "220/220 [==============================] - 1s 6ms/step - loss: 0.5552 - accuracy: 0.7975 - val_loss: 0.6274 - val_accuracy: 0.7705\n",
            "Epoch 81/500\n",
            "220/220 [==============================] - 1s 7ms/step - loss: 0.5776 - accuracy: 0.8018 - val_loss: 0.6129 - val_accuracy: 0.7814\n",
            "Epoch 82/500\n",
            "220/220 [==============================] - 1s 6ms/step - loss: 0.5865 - accuracy: 0.7842 - val_loss: 0.6213 - val_accuracy: 0.7676\n",
            "Epoch 83/500\n",
            "220/220 [==============================] - 1s 7ms/step - loss: 0.5790 - accuracy: 0.7812 - val_loss: 0.6260 - val_accuracy: 0.7624\n",
            "Epoch 84/500\n",
            "220/220 [==============================] - 1s 7ms/step - loss: 0.5586 - accuracy: 0.7994 - val_loss: 0.6318 - val_accuracy: 0.7578\n",
            "Epoch 85/500\n",
            "220/220 [==============================] - 1s 7ms/step - loss: 0.5673 - accuracy: 0.7861 - val_loss: 0.6249 - val_accuracy: 0.7682\n",
            "Epoch 86/500\n",
            "220/220 [==============================] - 1s 6ms/step - loss: 0.5765 - accuracy: 0.7903 - val_loss: 0.6074 - val_accuracy: 0.7745\n",
            "Epoch 87/500\n",
            "220/220 [==============================] - 1s 6ms/step - loss: 0.6015 - accuracy: 0.7767 - val_loss: 0.6132 - val_accuracy: 0.7710\n",
            "Epoch 88/500\n",
            "220/220 [==============================] - 1s 7ms/step - loss: 0.5825 - accuracy: 0.7753 - val_loss: 0.6116 - val_accuracy: 0.7751\n",
            "Epoch 89/500\n",
            "220/220 [==============================] - 1s 6ms/step - loss: 0.5577 - accuracy: 0.8040 - val_loss: 0.6226 - val_accuracy: 0.7687\n",
            "Epoch 90/500\n",
            "220/220 [==============================] - 1s 7ms/step - loss: 0.5714 - accuracy: 0.7906 - val_loss: 0.6141 - val_accuracy: 0.7803\n",
            "Epoch 91/500\n",
            "220/220 [==============================] - 1s 7ms/step - loss: 0.5828 - accuracy: 0.7892 - val_loss: 0.6158 - val_accuracy: 0.7762\n",
            "Epoch 92/500\n",
            "220/220 [==============================] - 2s 7ms/step - loss: 0.5828 - accuracy: 0.7833 - val_loss: 0.6067 - val_accuracy: 0.7676\n",
            "Epoch 93/500\n",
            "220/220 [==============================] - 1s 6ms/step - loss: 0.5401 - accuracy: 0.8117 - val_loss: 0.6101 - val_accuracy: 0.7734\n",
            "Epoch 94/500\n",
            "220/220 [==============================] - 1s 6ms/step - loss: 0.5491 - accuracy: 0.7995 - val_loss: 0.5932 - val_accuracy: 0.7809\n",
            "Epoch 95/500\n",
            "220/220 [==============================] - 1s 6ms/step - loss: 0.5639 - accuracy: 0.7876 - val_loss: 0.6049 - val_accuracy: 0.7860\n",
            "Epoch 96/500\n",
            "220/220 [==============================] - 2s 7ms/step - loss: 0.5566 - accuracy: 0.7954 - val_loss: 0.6021 - val_accuracy: 0.7757\n",
            "Epoch 97/500\n",
            "220/220 [==============================] - 1s 6ms/step - loss: 0.5526 - accuracy: 0.8058 - val_loss: 0.6094 - val_accuracy: 0.7780\n",
            "Epoch 98/500\n",
            "220/220 [==============================] - 1s 6ms/step - loss: 0.5585 - accuracy: 0.7924 - val_loss: 0.6039 - val_accuracy: 0.7710\n",
            "Epoch 99/500\n",
            "220/220 [==============================] - 2s 7ms/step - loss: 0.5258 - accuracy: 0.8038 - val_loss: 0.6086 - val_accuracy: 0.7774\n",
            "Epoch 100/500\n",
            "220/220 [==============================] - 1s 6ms/step - loss: 0.5690 - accuracy: 0.7999 - val_loss: 0.5850 - val_accuracy: 0.7837\n",
            "Epoch 101/500\n",
            "220/220 [==============================] - 1s 6ms/step - loss: 0.5302 - accuracy: 0.8129 - val_loss: 0.5902 - val_accuracy: 0.7791\n",
            "Epoch 102/500\n",
            "220/220 [==============================] - 1s 6ms/step - loss: 0.5592 - accuracy: 0.7998 - val_loss: 0.5845 - val_accuracy: 0.7855\n",
            "Epoch 103/500\n",
            "220/220 [==============================] - 1s 7ms/step - loss: 0.4953 - accuracy: 0.8222 - val_loss: 0.5791 - val_accuracy: 0.7872\n",
            "Epoch 104/500\n",
            "220/220 [==============================] - 2s 7ms/step - loss: 0.5156 - accuracy: 0.8167 - val_loss: 0.5934 - val_accuracy: 0.7837\n",
            "Epoch 105/500\n",
            "220/220 [==============================] - 1s 6ms/step - loss: 0.5102 - accuracy: 0.8228 - val_loss: 0.6020 - val_accuracy: 0.7774\n",
            "Epoch 106/500\n",
            "220/220 [==============================] - 1s 7ms/step - loss: 0.5288 - accuracy: 0.8051 - val_loss: 0.5946 - val_accuracy: 0.7803\n",
            "Epoch 107/500\n",
            "220/220 [==============================] - 2s 7ms/step - loss: 0.5078 - accuracy: 0.8163 - val_loss: 0.5739 - val_accuracy: 0.7935\n",
            "Epoch 108/500\n",
            "220/220 [==============================] - 1s 6ms/step - loss: 0.5078 - accuracy: 0.8132 - val_loss: 0.5930 - val_accuracy: 0.7762\n",
            "Epoch 109/500\n",
            "220/220 [==============================] - 1s 6ms/step - loss: 0.5141 - accuracy: 0.8080 - val_loss: 0.5765 - val_accuracy: 0.7832\n",
            "Epoch 110/500\n",
            "220/220 [==============================] - 1s 7ms/step - loss: 0.5333 - accuracy: 0.8059 - val_loss: 0.5886 - val_accuracy: 0.7820\n",
            "Epoch 111/500\n",
            "220/220 [==============================] - 1s 6ms/step - loss: 0.5123 - accuracy: 0.8164 - val_loss: 0.5651 - val_accuracy: 0.7935\n",
            "Epoch 112/500\n",
            "220/220 [==============================] - 2s 7ms/step - loss: 0.4970 - accuracy: 0.8280 - val_loss: 0.6030 - val_accuracy: 0.7734\n",
            "Epoch 113/500\n",
            "220/220 [==============================] - 1s 7ms/step - loss: 0.5225 - accuracy: 0.8158 - val_loss: 0.5736 - val_accuracy: 0.7866\n",
            "Epoch 114/500\n",
            "220/220 [==============================] - 1s 7ms/step - loss: 0.5238 - accuracy: 0.8110 - val_loss: 0.5774 - val_accuracy: 0.7895\n",
            "Epoch 115/500\n",
            "220/220 [==============================] - 1s 6ms/step - loss: 0.5203 - accuracy: 0.8099 - val_loss: 0.5724 - val_accuracy: 0.7918\n",
            "Epoch 116/500\n",
            "220/220 [==============================] - 1s 6ms/step - loss: 0.5066 - accuracy: 0.8069 - val_loss: 0.5722 - val_accuracy: 0.7918\n",
            "Epoch 117/500\n",
            "220/220 [==============================] - 2s 7ms/step - loss: 0.4928 - accuracy: 0.8226 - val_loss: 0.5763 - val_accuracy: 0.7889\n",
            "Epoch 118/500\n",
            "220/220 [==============================] - 2s 7ms/step - loss: 0.5129 - accuracy: 0.8085 - val_loss: 0.5811 - val_accuracy: 0.7843\n",
            "Epoch 119/500\n",
            "220/220 [==============================] - 1s 6ms/step - loss: 0.5074 - accuracy: 0.8144 - val_loss: 0.5641 - val_accuracy: 0.7884\n",
            "Epoch 120/500\n",
            "220/220 [==============================] - 1s 7ms/step - loss: 0.5220 - accuracy: 0.8192 - val_loss: 0.5699 - val_accuracy: 0.7889\n",
            "Epoch 121/500\n",
            "220/220 [==============================] - 1s 6ms/step - loss: 0.5134 - accuracy: 0.8142 - val_loss: 0.5892 - val_accuracy: 0.7826\n",
            "Epoch 122/500\n",
            "220/220 [==============================] - 1s 6ms/step - loss: 0.4917 - accuracy: 0.8255 - val_loss: 0.5607 - val_accuracy: 0.7901\n",
            "Epoch 123/500\n",
            "220/220 [==============================] - 1s 6ms/step - loss: 0.4840 - accuracy: 0.8296 - val_loss: 0.5787 - val_accuracy: 0.7855\n",
            "Epoch 124/500\n",
            "220/220 [==============================] - 1s 6ms/step - loss: 0.4736 - accuracy: 0.8228 - val_loss: 0.5599 - val_accuracy: 0.7953\n",
            "Epoch 125/500\n",
            "220/220 [==============================] - 1s 6ms/step - loss: 0.4853 - accuracy: 0.8255 - val_loss: 0.5625 - val_accuracy: 0.7912\n",
            "Epoch 126/500\n",
            "220/220 [==============================] - 1s 6ms/step - loss: 0.4664 - accuracy: 0.8342 - val_loss: 0.5692 - val_accuracy: 0.7884\n",
            "Epoch 127/500\n",
            "220/220 [==============================] - 2s 7ms/step - loss: 0.4953 - accuracy: 0.8263 - val_loss: 0.5647 - val_accuracy: 0.7901\n",
            "Epoch 128/500\n",
            "220/220 [==============================] - 1s 7ms/step - loss: 0.4803 - accuracy: 0.8287 - val_loss: 0.5694 - val_accuracy: 0.7832\n",
            "Epoch 129/500\n",
            "220/220 [==============================] - 1s 6ms/step - loss: 0.4929 - accuracy: 0.8191 - val_loss: 0.5554 - val_accuracy: 0.7935\n",
            "Epoch 130/500\n",
            "220/220 [==============================] - 1s 6ms/step - loss: 0.4661 - accuracy: 0.8374 - val_loss: 0.5566 - val_accuracy: 0.7872\n",
            "Epoch 131/500\n",
            "220/220 [==============================] - 1s 7ms/step - loss: 0.4609 - accuracy: 0.8337 - val_loss: 0.5641 - val_accuracy: 0.7901\n",
            "Epoch 132/500\n",
            "220/220 [==============================] - 2s 7ms/step - loss: 0.4694 - accuracy: 0.8310 - val_loss: 0.5556 - val_accuracy: 0.7918\n",
            "Epoch 133/500\n",
            "220/220 [==============================] - 1s 7ms/step - loss: 0.4875 - accuracy: 0.8279 - val_loss: 0.5513 - val_accuracy: 0.7964\n",
            "Epoch 134/500\n",
            "220/220 [==============================] - 1s 6ms/step - loss: 0.4473 - accuracy: 0.8337 - val_loss: 0.5566 - val_accuracy: 0.7935\n",
            "Epoch 135/500\n",
            "220/220 [==============================] - 1s 6ms/step - loss: 0.4909 - accuracy: 0.8173 - val_loss: 0.5585 - val_accuracy: 0.7941\n",
            "Epoch 136/500\n",
            "220/220 [==============================] - 1s 6ms/step - loss: 0.4461 - accuracy: 0.8406 - val_loss: 0.5576 - val_accuracy: 0.7907\n",
            "Epoch 137/500\n",
            "220/220 [==============================] - 1s 6ms/step - loss: 0.4839 - accuracy: 0.8290 - val_loss: 0.5477 - val_accuracy: 0.7993\n",
            "Epoch 138/500\n",
            "220/220 [==============================] - 2s 7ms/step - loss: 0.4574 - accuracy: 0.8355 - val_loss: 0.5500 - val_accuracy: 0.7964\n",
            "Epoch 139/500\n",
            "220/220 [==============================] - 1s 6ms/step - loss: 0.5011 - accuracy: 0.8266 - val_loss: 0.5560 - val_accuracy: 0.7918\n",
            "Epoch 140/500\n",
            "220/220 [==============================] - 1s 7ms/step - loss: 0.4674 - accuracy: 0.8334 - val_loss: 0.5502 - val_accuracy: 0.7982\n",
            "Epoch 141/500\n",
            "220/220 [==============================] - 1s 6ms/step - loss: 0.4677 - accuracy: 0.8338 - val_loss: 0.5725 - val_accuracy: 0.7884\n",
            "Epoch 142/500\n",
            "220/220 [==============================] - 2s 7ms/step - loss: 0.4617 - accuracy: 0.8312 - val_loss: 0.5539 - val_accuracy: 0.7958\n",
            "Epoch 143/500\n",
            "220/220 [==============================] - 1s 7ms/step - loss: 0.4586 - accuracy: 0.8320 - val_loss: 0.5782 - val_accuracy: 0.7947\n",
            "Epoch 144/500\n",
            "220/220 [==============================] - 1s 6ms/step - loss: 0.4445 - accuracy: 0.8314 - val_loss: 0.5626 - val_accuracy: 0.7860\n",
            "Epoch 145/500\n",
            "220/220 [==============================] - 1s 7ms/step - loss: 0.4299 - accuracy: 0.8437 - val_loss: 0.5719 - val_accuracy: 0.7930\n",
            "Epoch 146/500\n",
            "220/220 [==============================] - 2s 7ms/step - loss: 0.4587 - accuracy: 0.8375 - val_loss: 0.5448 - val_accuracy: 0.7947\n",
            "Epoch 147/500\n",
            "220/220 [==============================] - 1s 6ms/step - loss: 0.4534 - accuracy: 0.8328 - val_loss: 0.5728 - val_accuracy: 0.7809\n",
            "Epoch 148/500\n",
            "220/220 [==============================] - 1s 6ms/step - loss: 0.4372 - accuracy: 0.8429 - val_loss: 0.5405 - val_accuracy: 0.8010\n",
            "Epoch 149/500\n",
            "220/220 [==============================] - 1s 7ms/step - loss: 0.4283 - accuracy: 0.8443 - val_loss: 0.5513 - val_accuracy: 0.7924\n",
            "Epoch 150/500\n",
            "220/220 [==============================] - 1s 6ms/step - loss: 0.4562 - accuracy: 0.8362 - val_loss: 0.5519 - val_accuracy: 0.7918\n",
            "Epoch 151/500\n",
            "220/220 [==============================] - 2s 7ms/step - loss: 0.4429 - accuracy: 0.8387 - val_loss: 0.5446 - val_accuracy: 0.7958\n",
            "Epoch 152/500\n",
            "220/220 [==============================] - 1s 7ms/step - loss: 0.4415 - accuracy: 0.8382 - val_loss: 0.5379 - val_accuracy: 0.8005\n",
            "Epoch 153/500\n",
            "220/220 [==============================] - 1s 6ms/step - loss: 0.4417 - accuracy: 0.8467 - val_loss: 0.5312 - val_accuracy: 0.8057\n",
            "Epoch 154/500\n",
            "220/220 [==============================] - 2s 7ms/step - loss: 0.4436 - accuracy: 0.8462 - val_loss: 0.5356 - val_accuracy: 0.8033\n",
            "Epoch 155/500\n",
            "220/220 [==============================] - 1s 6ms/step - loss: 0.4485 - accuracy: 0.8460 - val_loss: 0.5413 - val_accuracy: 0.8022\n",
            "Epoch 156/500\n",
            "220/220 [==============================] - 2s 7ms/step - loss: 0.4521 - accuracy: 0.8349 - val_loss: 0.5542 - val_accuracy: 0.7958\n",
            "Epoch 157/500\n",
            "220/220 [==============================] - 2s 7ms/step - loss: 0.4397 - accuracy: 0.8451 - val_loss: 0.5389 - val_accuracy: 0.7976\n",
            "Epoch 158/500\n",
            "220/220 [==============================] - 1s 6ms/step - loss: 0.4712 - accuracy: 0.8300 - val_loss: 0.5362 - val_accuracy: 0.8062\n",
            "Epoch 159/500\n",
            "220/220 [==============================] - 1s 6ms/step - loss: 0.4493 - accuracy: 0.8455 - val_loss: 0.5334 - val_accuracy: 0.8068\n",
            "Epoch 160/500\n",
            "220/220 [==============================] - 1s 6ms/step - loss: 0.4271 - accuracy: 0.8501 - val_loss: 0.5344 - val_accuracy: 0.8039\n",
            "Epoch 161/500\n",
            "220/220 [==============================] - 1s 6ms/step - loss: 0.4093 - accuracy: 0.8522 - val_loss: 0.5433 - val_accuracy: 0.7935\n",
            "Epoch 162/500\n",
            "220/220 [==============================] - 2s 7ms/step - loss: 0.4137 - accuracy: 0.8568 - val_loss: 0.5530 - val_accuracy: 0.8005\n",
            "Epoch 163/500\n",
            "220/220 [==============================] - 2s 7ms/step - loss: 0.4233 - accuracy: 0.8492 - val_loss: 0.5479 - val_accuracy: 0.7970\n",
            "Epoch 164/500\n",
            "220/220 [==============================] - 1s 7ms/step - loss: 0.4346 - accuracy: 0.8469 - val_loss: 0.5402 - val_accuracy: 0.7993\n",
            "Epoch 165/500\n",
            "220/220 [==============================] - 1s 6ms/step - loss: 0.4407 - accuracy: 0.8419 - val_loss: 0.5215 - val_accuracy: 0.8091\n",
            "Epoch 166/500\n",
            "220/220 [==============================] - 1s 7ms/step - loss: 0.4429 - accuracy: 0.8393 - val_loss: 0.5345 - val_accuracy: 0.7999\n",
            "Epoch 167/500\n",
            "220/220 [==============================] - 1s 6ms/step - loss: 0.4393 - accuracy: 0.8432 - val_loss: 0.5259 - val_accuracy: 0.8057\n",
            "Epoch 168/500\n",
            "220/220 [==============================] - 1s 7ms/step - loss: 0.4219 - accuracy: 0.8517 - val_loss: 0.5343 - val_accuracy: 0.8039\n",
            "Epoch 169/500\n",
            "220/220 [==============================] - 1s 6ms/step - loss: 0.4068 - accuracy: 0.8486 - val_loss: 0.5506 - val_accuracy: 0.7987\n",
            "Epoch 170/500\n",
            "220/220 [==============================] - 2s 7ms/step - loss: 0.4237 - accuracy: 0.8460 - val_loss: 0.5304 - val_accuracy: 0.8028\n",
            "Epoch 171/500\n",
            "220/220 [==============================] - 2s 7ms/step - loss: 0.4116 - accuracy: 0.8534 - val_loss: 0.5611 - val_accuracy: 0.7993\n",
            "Epoch 172/500\n",
            "220/220 [==============================] - 1s 6ms/step - loss: 0.4098 - accuracy: 0.8580 - val_loss: 0.5258 - val_accuracy: 0.8074\n",
            "Epoch 173/500\n",
            "220/220 [==============================] - 2s 7ms/step - loss: 0.4172 - accuracy: 0.8401 - val_loss: 0.5285 - val_accuracy: 0.8033\n",
            "Epoch 174/500\n",
            "220/220 [==============================] - 1s 6ms/step - loss: 0.4177 - accuracy: 0.8525 - val_loss: 0.5337 - val_accuracy: 0.8045\n",
            "Epoch 175/500\n",
            "220/220 [==============================] - 1s 7ms/step - loss: 0.4233 - accuracy: 0.8514 - val_loss: 0.5251 - val_accuracy: 0.8091\n",
            "Epoch 176/500\n",
            "220/220 [==============================] - 2s 7ms/step - loss: 0.4261 - accuracy: 0.8492 - val_loss: 0.5420 - val_accuracy: 0.7993\n",
            "Epoch 177/500\n",
            "220/220 [==============================] - 2s 7ms/step - loss: 0.4175 - accuracy: 0.8468 - val_loss: 0.5278 - val_accuracy: 0.8039\n",
            "Epoch 178/500\n",
            "220/220 [==============================] - 1s 7ms/step - loss: 0.3958 - accuracy: 0.8589 - val_loss: 0.5515 - val_accuracy: 0.7855\n",
            "Epoch 179/500\n",
            "220/220 [==============================] - 1s 6ms/step - loss: 0.4094 - accuracy: 0.8553 - val_loss: 0.5282 - val_accuracy: 0.8103\n",
            "Epoch 180/500\n",
            "220/220 [==============================] - 2s 7ms/step - loss: 0.4081 - accuracy: 0.8548 - val_loss: 0.5537 - val_accuracy: 0.7884\n",
            "Epoch 181/500\n",
            "220/220 [==============================] - 2s 7ms/step - loss: 0.4028 - accuracy: 0.8534 - val_loss: 0.5322 - val_accuracy: 0.8068\n",
            "Epoch 182/500\n",
            "220/220 [==============================] - 1s 6ms/step - loss: 0.4055 - accuracy: 0.8521 - val_loss: 0.5265 - val_accuracy: 0.8091\n",
            "Epoch 183/500\n",
            "220/220 [==============================] - 1s 6ms/step - loss: 0.3959 - accuracy: 0.8614 - val_loss: 0.5294 - val_accuracy: 0.8057\n",
            "Epoch 184/500\n",
            "220/220 [==============================] - 1s 7ms/step - loss: 0.4515 - accuracy: 0.8396 - val_loss: 0.5447 - val_accuracy: 0.7987\n",
            "Epoch 185/500\n",
            "220/220 [==============================] - 1s 6ms/step - loss: 0.3981 - accuracy: 0.8510 - val_loss: 0.5324 - val_accuracy: 0.8074\n",
            "Epoch 186/500\n",
            "220/220 [==============================] - 2s 7ms/step - loss: 0.4065 - accuracy: 0.8506 - val_loss: 0.5371 - val_accuracy: 0.8091\n",
            "Epoch 187/500\n",
            "220/220 [==============================] - 1s 6ms/step - loss: 0.3850 - accuracy: 0.8595 - val_loss: 0.5299 - val_accuracy: 0.8091\n",
            "Epoch 188/500\n",
            "220/220 [==============================] - 1s 6ms/step - loss: 0.3859 - accuracy: 0.8598 - val_loss: 0.5477 - val_accuracy: 0.8033\n",
            "Epoch 189/500\n",
            "220/220 [==============================] - 1s 6ms/step - loss: 0.3940 - accuracy: 0.8601 - val_loss: 0.5349 - val_accuracy: 0.8057\n",
            "Epoch 190/500\n",
            "220/220 [==============================] - 1s 6ms/step - loss: 0.4167 - accuracy: 0.8554 - val_loss: 0.5282 - val_accuracy: 0.8091\n",
            "Epoch 191/500\n",
            "220/220 [==============================] - 1s 6ms/step - loss: 0.3734 - accuracy: 0.8615 - val_loss: 0.5226 - val_accuracy: 0.8062\n",
            "Epoch 192/500\n",
            "220/220 [==============================] - 1s 6ms/step - loss: 0.3812 - accuracy: 0.8658 - val_loss: 0.5294 - val_accuracy: 0.8022\n",
            "Epoch 193/500\n",
            "220/220 [==============================] - 1s 6ms/step - loss: 0.3961 - accuracy: 0.8635 - val_loss: 0.5325 - val_accuracy: 0.8045\n",
            "Epoch 194/500\n",
            "220/220 [==============================] - 2s 7ms/step - loss: 0.4071 - accuracy: 0.8501 - val_loss: 0.5317 - val_accuracy: 0.7958\n",
            "Epoch 195/500\n",
            "220/220 [==============================] - 2s 7ms/step - loss: 0.3733 - accuracy: 0.8677 - val_loss: 0.5181 - val_accuracy: 0.8091\n",
            "Epoch 196/500\n",
            "220/220 [==============================] - 2s 7ms/step - loss: 0.3733 - accuracy: 0.8688 - val_loss: 0.5195 - val_accuracy: 0.8085\n",
            "Epoch 197/500\n",
            "220/220 [==============================] - 2s 7ms/step - loss: 0.3823 - accuracy: 0.8586 - val_loss: 0.5194 - val_accuracy: 0.8068\n",
            "Epoch 198/500\n",
            "220/220 [==============================] - 2s 7ms/step - loss: 0.3947 - accuracy: 0.8609 - val_loss: 0.5265 - val_accuracy: 0.8051\n",
            "Epoch 199/500\n",
            "220/220 [==============================] - 1s 6ms/step - loss: 0.3925 - accuracy: 0.8568 - val_loss: 0.5125 - val_accuracy: 0.8051\n",
            "Epoch 200/500\n",
            "220/220 [==============================] - 1s 6ms/step - loss: 0.4101 - accuracy: 0.8565 - val_loss: 0.5325 - val_accuracy: 0.8051\n",
            "Epoch 201/500\n",
            "220/220 [==============================] - 1s 6ms/step - loss: 0.3777 - accuracy: 0.8654 - val_loss: 0.5154 - val_accuracy: 0.8120\n",
            "Epoch 202/500\n",
            "220/220 [==============================] - 1s 6ms/step - loss: 0.3780 - accuracy: 0.8592 - val_loss: 0.5138 - val_accuracy: 0.8160\n",
            "Epoch 203/500\n",
            "220/220 [==============================] - 1s 6ms/step - loss: 0.3497 - accuracy: 0.8810 - val_loss: 0.5306 - val_accuracy: 0.8074\n",
            "Epoch 204/500\n",
            "220/220 [==============================] - 2s 7ms/step - loss: 0.3857 - accuracy: 0.8630 - val_loss: 0.5537 - val_accuracy: 0.8051\n",
            "Epoch 205/500\n",
            "220/220 [==============================] - 2s 7ms/step - loss: 0.3887 - accuracy: 0.8594 - val_loss: 0.5178 - val_accuracy: 0.8091\n",
            "Epoch 206/500\n",
            "220/220 [==============================] - 1s 7ms/step - loss: 0.3727 - accuracy: 0.8718 - val_loss: 0.5190 - val_accuracy: 0.8108\n",
            "Epoch 207/500\n",
            "220/220 [==============================] - 1s 6ms/step - loss: 0.3721 - accuracy: 0.8697 - val_loss: 0.5193 - val_accuracy: 0.8091\n",
            "Epoch 208/500\n",
            "220/220 [==============================] - 2s 7ms/step - loss: 0.3596 - accuracy: 0.8729 - val_loss: 0.5226 - val_accuracy: 0.8057\n",
            "Epoch 209/500\n",
            "220/220 [==============================] - 1s 6ms/step - loss: 0.3752 - accuracy: 0.8640 - val_loss: 0.5202 - val_accuracy: 0.8074\n",
            "Epoch 210/500\n",
            "220/220 [==============================] - 1s 6ms/step - loss: 0.3883 - accuracy: 0.8607 - val_loss: 0.5222 - val_accuracy: 0.8039\n",
            "Epoch 211/500\n",
            "220/220 [==============================] - 2s 7ms/step - loss: 0.3906 - accuracy: 0.8598 - val_loss: 0.5272 - val_accuracy: 0.8022\n",
            "Epoch 212/500\n",
            "220/220 [==============================] - 2s 7ms/step - loss: 0.3963 - accuracy: 0.8693 - val_loss: 0.5223 - val_accuracy: 0.8085\n",
            "Epoch 213/500\n",
            "220/220 [==============================] - 2s 7ms/step - loss: 0.3493 - accuracy: 0.8806 - val_loss: 0.5146 - val_accuracy: 0.8155\n",
            "Epoch 214/500\n",
            "220/220 [==============================] - 2s 7ms/step - loss: 0.3638 - accuracy: 0.8693 - val_loss: 0.5140 - val_accuracy: 0.8149\n",
            "Epoch 215/500\n",
            "220/220 [==============================] - 1s 6ms/step - loss: 0.3661 - accuracy: 0.8730 - val_loss: 0.5320 - val_accuracy: 0.8126\n",
            "Epoch 216/500\n",
            "220/220 [==============================] - 1s 6ms/step - loss: 0.3697 - accuracy: 0.8630 - val_loss: 0.5112 - val_accuracy: 0.8085\n",
            "Epoch 217/500\n",
            "220/220 [==============================] - 1s 6ms/step - loss: 0.3641 - accuracy: 0.8702 - val_loss: 0.5145 - val_accuracy: 0.8039\n",
            "Epoch 218/500\n",
            "220/220 [==============================] - 2s 7ms/step - loss: 0.3704 - accuracy: 0.8747 - val_loss: 0.5148 - val_accuracy: 0.8149\n",
            "Epoch 219/500\n",
            "220/220 [==============================] - 1s 6ms/step - loss: 0.3695 - accuracy: 0.8628 - val_loss: 0.5145 - val_accuracy: 0.8085\n",
            "Epoch 220/500\n",
            "220/220 [==============================] - 2s 7ms/step - loss: 0.3633 - accuracy: 0.8701 - val_loss: 0.5168 - val_accuracy: 0.8137\n",
            "Epoch 221/500\n",
            "220/220 [==============================] - 2s 7ms/step - loss: 0.3710 - accuracy: 0.8599 - val_loss: 0.5186 - val_accuracy: 0.8114\n",
            "Epoch 222/500\n",
            "220/220 [==============================] - 1s 6ms/step - loss: 0.3524 - accuracy: 0.8804 - val_loss: 0.5099 - val_accuracy: 0.8201\n",
            "Epoch 223/500\n",
            "220/220 [==============================] - 1s 6ms/step - loss: 0.3818 - accuracy: 0.8557 - val_loss: 0.5235 - val_accuracy: 0.8080\n",
            "Epoch 224/500\n",
            "220/220 [==============================] - 2s 7ms/step - loss: 0.3472 - accuracy: 0.8761 - val_loss: 0.5133 - val_accuracy: 0.8120\n",
            "Epoch 225/500\n",
            "220/220 [==============================] - 2s 7ms/step - loss: 0.3505 - accuracy: 0.8735 - val_loss: 0.5022 - val_accuracy: 0.8149\n",
            "Epoch 226/500\n",
            "220/220 [==============================] - 2s 7ms/step - loss: 0.3575 - accuracy: 0.8683 - val_loss: 0.5154 - val_accuracy: 0.8068\n",
            "Epoch 227/500\n",
            "220/220 [==============================] - 2s 7ms/step - loss: 0.3558 - accuracy: 0.8683 - val_loss: 0.5309 - val_accuracy: 0.8108\n",
            "Epoch 228/500\n",
            "220/220 [==============================] - 2s 7ms/step - loss: 0.3469 - accuracy: 0.8752 - val_loss: 0.5081 - val_accuracy: 0.8131\n",
            "Epoch 229/500\n",
            "220/220 [==============================] - 2s 7ms/step - loss: 0.3474 - accuracy: 0.8751 - val_loss: 0.5183 - val_accuracy: 0.8126\n",
            "Epoch 230/500\n",
            "220/220 [==============================] - 2s 7ms/step - loss: 0.3602 - accuracy: 0.8764 - val_loss: 0.5187 - val_accuracy: 0.8126\n",
            "Epoch 231/500\n",
            "220/220 [==============================] - 2s 7ms/step - loss: 0.3406 - accuracy: 0.8749 - val_loss: 0.5088 - val_accuracy: 0.8126\n",
            "Epoch 232/500\n",
            "220/220 [==============================] - 1s 6ms/step - loss: 0.3315 - accuracy: 0.8756 - val_loss: 0.5196 - val_accuracy: 0.8051\n",
            "Epoch 233/500\n",
            "220/220 [==============================] - 1s 6ms/step - loss: 0.3571 - accuracy: 0.8693 - val_loss: 0.5069 - val_accuracy: 0.8149\n",
            "Epoch 234/500\n",
            "220/220 [==============================] - 1s 6ms/step - loss: 0.3605 - accuracy: 0.8633 - val_loss: 0.5087 - val_accuracy: 0.8103\n",
            "Epoch 235/500\n",
            "220/220 [==============================] - 1s 6ms/step - loss: 0.3426 - accuracy: 0.8753 - val_loss: 0.5123 - val_accuracy: 0.8091\n",
            "Epoch 236/500\n",
            "220/220 [==============================] - 1s 6ms/step - loss: 0.3471 - accuracy: 0.8734 - val_loss: 0.5219 - val_accuracy: 0.8120\n",
            "Epoch 237/500\n",
            "220/220 [==============================] - 2s 7ms/step - loss: 0.3227 - accuracy: 0.8877 - val_loss: 0.5285 - val_accuracy: 0.8068\n",
            "Epoch 238/500\n",
            "220/220 [==============================] - 1s 6ms/step - loss: 0.3455 - accuracy: 0.8708 - val_loss: 0.5165 - val_accuracy: 0.8097\n",
            "Epoch 239/500\n",
            "220/220 [==============================] - 2s 7ms/step - loss: 0.3408 - accuracy: 0.8704 - val_loss: 0.5175 - val_accuracy: 0.8114\n",
            "Epoch 240/500\n",
            "220/220 [==============================] - 1s 6ms/step - loss: 0.3496 - accuracy: 0.8662 - val_loss: 0.5191 - val_accuracy: 0.8120\n",
            "Epoch 241/500\n",
            "220/220 [==============================] - 1s 6ms/step - loss: 0.3213 - accuracy: 0.8870 - val_loss: 0.5066 - val_accuracy: 0.8137\n",
            "Epoch 242/500\n",
            "220/220 [==============================] - 1s 6ms/step - loss: 0.3450 - accuracy: 0.8748 - val_loss: 0.5213 - val_accuracy: 0.8108\n",
            "Epoch 243/500\n",
            "220/220 [==============================] - 1s 7ms/step - loss: 0.3618 - accuracy: 0.8735 - val_loss: 0.5128 - val_accuracy: 0.8114\n",
            "Epoch 244/500\n",
            "220/220 [==============================] - 1s 6ms/step - loss: 0.3326 - accuracy: 0.8807 - val_loss: 0.4982 - val_accuracy: 0.8172\n",
            "Epoch 245/500\n",
            "220/220 [==============================] - 1s 7ms/step - loss: 0.3299 - accuracy: 0.8860 - val_loss: 0.5004 - val_accuracy: 0.8206\n",
            "Epoch 246/500\n",
            "220/220 [==============================] - 2s 7ms/step - loss: 0.3225 - accuracy: 0.8863 - val_loss: 0.5267 - val_accuracy: 0.8137\n",
            "Epoch 247/500\n",
            "220/220 [==============================] - 2s 7ms/step - loss: 0.3245 - accuracy: 0.8809 - val_loss: 0.5077 - val_accuracy: 0.8166\n",
            "Epoch 248/500\n",
            "220/220 [==============================] - 2s 7ms/step - loss: 0.3290 - accuracy: 0.8830 - val_loss: 0.5082 - val_accuracy: 0.8178\n",
            "Epoch 249/500\n",
            "220/220 [==============================] - 2s 7ms/step - loss: 0.3240 - accuracy: 0.8828 - val_loss: 0.5180 - val_accuracy: 0.8091\n",
            "Epoch 250/500\n",
            "220/220 [==============================] - 2s 7ms/step - loss: 0.3373 - accuracy: 0.8751 - val_loss: 0.5188 - val_accuracy: 0.8057\n",
            "Epoch 251/500\n",
            "220/220 [==============================] - 1s 7ms/step - loss: 0.3330 - accuracy: 0.8813 - val_loss: 0.5048 - val_accuracy: 0.8206\n",
            "Epoch 252/500\n",
            "220/220 [==============================] - 2s 7ms/step - loss: 0.3150 - accuracy: 0.8871 - val_loss: 0.5061 - val_accuracy: 0.8091\n",
            "Epoch 253/500\n",
            "220/220 [==============================] - 1s 6ms/step - loss: 0.3231 - accuracy: 0.8895 - val_loss: 0.5007 - val_accuracy: 0.8108\n",
            "Epoch 254/500\n",
            "220/220 [==============================] - 2s 7ms/step - loss: 0.3240 - accuracy: 0.8808 - val_loss: 0.5004 - val_accuracy: 0.8183\n",
            "Epoch 255/500\n",
            "220/220 [==============================] - 1s 6ms/step - loss: 0.3337 - accuracy: 0.8776 - val_loss: 0.5034 - val_accuracy: 0.8206\n",
            "Epoch 256/500\n",
            "220/220 [==============================] - 1s 6ms/step - loss: 0.3431 - accuracy: 0.8766 - val_loss: 0.5092 - val_accuracy: 0.8241\n",
            "Epoch 257/500\n",
            "220/220 [==============================] - 2s 7ms/step - loss: 0.3216 - accuracy: 0.8866 - val_loss: 0.5060 - val_accuracy: 0.8235\n",
            "Epoch 258/500\n",
            "220/220 [==============================] - 2s 7ms/step - loss: 0.3307 - accuracy: 0.8797 - val_loss: 0.5127 - val_accuracy: 0.8114\n",
            "Epoch 259/500\n",
            "220/220 [==============================] - 1s 7ms/step - loss: 0.3179 - accuracy: 0.8933 - val_loss: 0.5155 - val_accuracy: 0.8172\n",
            "Epoch 260/500\n",
            "220/220 [==============================] - 1s 6ms/step - loss: 0.3236 - accuracy: 0.8849 - val_loss: 0.5150 - val_accuracy: 0.8183\n",
            "Epoch 261/500\n",
            "220/220 [==============================] - 1s 6ms/step - loss: 0.3406 - accuracy: 0.8766 - val_loss: 0.5129 - val_accuracy: 0.8120\n",
            "Epoch 262/500\n",
            "220/220 [==============================] - 1s 6ms/step - loss: 0.3032 - accuracy: 0.8900 - val_loss: 0.5188 - val_accuracy: 0.8172\n",
            "Epoch 263/500\n",
            "220/220 [==============================] - 2s 7ms/step - loss: 0.3310 - accuracy: 0.8769 - val_loss: 0.5206 - val_accuracy: 0.8097\n",
            "Epoch 264/500\n",
            "220/220 [==============================] - 1s 6ms/step - loss: 0.3162 - accuracy: 0.8883 - val_loss: 0.5027 - val_accuracy: 0.8183\n",
            "Epoch 265/500\n",
            "220/220 [==============================] - 1s 7ms/step - loss: 0.3283 - accuracy: 0.8800 - val_loss: 0.4951 - val_accuracy: 0.8224\n",
            "Epoch 266/500\n",
            "220/220 [==============================] - 1s 6ms/step - loss: 0.3089 - accuracy: 0.8905 - val_loss: 0.4992 - val_accuracy: 0.8155\n",
            "Epoch 267/500\n",
            "220/220 [==============================] - 2s 7ms/step - loss: 0.3004 - accuracy: 0.8950 - val_loss: 0.5067 - val_accuracy: 0.8178\n",
            "Epoch 268/500\n",
            "220/220 [==============================] - 1s 6ms/step - loss: 0.2973 - accuracy: 0.8920 - val_loss: 0.5062 - val_accuracy: 0.8189\n",
            "Epoch 269/500\n",
            "220/220 [==============================] - 2s 7ms/step - loss: 0.3180 - accuracy: 0.8860 - val_loss: 0.4957 - val_accuracy: 0.8212\n",
            "Epoch 270/500\n",
            "220/220 [==============================] - 2s 7ms/step - loss: 0.3073 - accuracy: 0.8879 - val_loss: 0.5117 - val_accuracy: 0.8201\n",
            "Epoch 271/500\n",
            "220/220 [==============================] - 2s 7ms/step - loss: 0.2858 - accuracy: 0.9016 - val_loss: 0.5132 - val_accuracy: 0.8108\n",
            "Epoch 272/500\n",
            "220/220 [==============================] - 2s 7ms/step - loss: 0.3299 - accuracy: 0.8860 - val_loss: 0.4939 - val_accuracy: 0.8264\n",
            "Epoch 273/500\n",
            "220/220 [==============================] - 2s 7ms/step - loss: 0.3233 - accuracy: 0.8842 - val_loss: 0.5088 - val_accuracy: 0.8143\n",
            "Epoch 274/500\n",
            "220/220 [==============================] - 2s 7ms/step - loss: 0.3112 - accuracy: 0.8900 - val_loss: 0.5233 - val_accuracy: 0.8206\n",
            "Epoch 275/500\n",
            "220/220 [==============================] - 2s 7ms/step - loss: 0.3216 - accuracy: 0.8874 - val_loss: 0.4981 - val_accuracy: 0.8293\n",
            "Epoch 276/500\n",
            "220/220 [==============================] - 2s 7ms/step - loss: 0.3073 - accuracy: 0.8961 - val_loss: 0.5026 - val_accuracy: 0.8155\n",
            "Epoch 277/500\n",
            "220/220 [==============================] - 2s 7ms/step - loss: 0.3063 - accuracy: 0.8846 - val_loss: 0.5058 - val_accuracy: 0.8206\n",
            "Epoch 278/500\n",
            "220/220 [==============================] - 1s 6ms/step - loss: 0.3043 - accuracy: 0.9010 - val_loss: 0.4990 - val_accuracy: 0.8293\n",
            "Epoch 279/500\n",
            "220/220 [==============================] - 2s 7ms/step - loss: 0.3150 - accuracy: 0.8846 - val_loss: 0.5062 - val_accuracy: 0.8166\n",
            "Epoch 280/500\n",
            "220/220 [==============================] - 2s 7ms/step - loss: 0.3102 - accuracy: 0.8843 - val_loss: 0.4986 - val_accuracy: 0.8206\n",
            "Epoch 281/500\n",
            "220/220 [==============================] - 1s 6ms/step - loss: 0.2933 - accuracy: 0.8959 - val_loss: 0.5139 - val_accuracy: 0.8253\n",
            "Epoch 282/500\n",
            "220/220 [==============================] - 2s 7ms/step - loss: 0.3123 - accuracy: 0.8878 - val_loss: 0.5032 - val_accuracy: 0.8183\n",
            "Epoch 283/500\n",
            "220/220 [==============================] - 2s 7ms/step - loss: 0.3067 - accuracy: 0.8879 - val_loss: 0.5005 - val_accuracy: 0.8201\n",
            "Epoch 284/500\n",
            "220/220 [==============================] - 2s 7ms/step - loss: 0.3033 - accuracy: 0.8889 - val_loss: 0.5034 - val_accuracy: 0.8218\n",
            "Epoch 285/500\n",
            "220/220 [==============================] - 2s 7ms/step - loss: 0.2934 - accuracy: 0.8937 - val_loss: 0.5141 - val_accuracy: 0.8235\n",
            "Epoch 286/500\n",
            "220/220 [==============================] - 2s 7ms/step - loss: 0.2908 - accuracy: 0.8882 - val_loss: 0.4952 - val_accuracy: 0.8218\n",
            "Epoch 287/500\n",
            "220/220 [==============================] - 1s 6ms/step - loss: 0.2949 - accuracy: 0.8982 - val_loss: 0.5027 - val_accuracy: 0.8224\n",
            "Epoch 288/500\n",
            "220/220 [==============================] - 2s 7ms/step - loss: 0.2862 - accuracy: 0.9015 - val_loss: 0.5226 - val_accuracy: 0.8114\n",
            "Epoch 289/500\n",
            "220/220 [==============================] - 2s 7ms/step - loss: 0.3037 - accuracy: 0.8830 - val_loss: 0.5109 - val_accuracy: 0.8224\n",
            "Epoch 290/500\n",
            "220/220 [==============================] - 2s 7ms/step - loss: 0.2993 - accuracy: 0.8941 - val_loss: 0.4981 - val_accuracy: 0.8235\n",
            "Epoch 291/500\n",
            "220/220 [==============================] - 2s 7ms/step - loss: 0.2811 - accuracy: 0.9055 - val_loss: 0.4933 - val_accuracy: 0.8253\n",
            "Epoch 292/500\n",
            "220/220 [==============================] - 1s 6ms/step - loss: 0.2868 - accuracy: 0.8892 - val_loss: 0.4942 - val_accuracy: 0.8230\n",
            "Epoch 293/500\n",
            "220/220 [==============================] - 1s 6ms/step - loss: 0.2781 - accuracy: 0.8961 - val_loss: 0.5026 - val_accuracy: 0.8178\n",
            "Epoch 294/500\n",
            "220/220 [==============================] - 1s 6ms/step - loss: 0.2941 - accuracy: 0.8946 - val_loss: 0.5117 - val_accuracy: 0.8195\n",
            "Epoch 295/500\n",
            "220/220 [==============================] - 1s 7ms/step - loss: 0.2886 - accuracy: 0.9029 - val_loss: 0.5030 - val_accuracy: 0.8189\n",
            "Epoch 296/500\n",
            "220/220 [==============================] - 1s 6ms/step - loss: 0.3060 - accuracy: 0.8921 - val_loss: 0.4953 - val_accuracy: 0.8218\n",
            "Epoch 297/500\n",
            "220/220 [==============================] - 1s 6ms/step - loss: 0.2895 - accuracy: 0.8974 - val_loss: 0.5294 - val_accuracy: 0.8149\n",
            "Epoch 298/500\n",
            "220/220 [==============================] - 2s 7ms/step - loss: 0.2814 - accuracy: 0.9037 - val_loss: 0.4982 - val_accuracy: 0.8230\n",
            "Epoch 299/500\n",
            "220/220 [==============================] - 2s 7ms/step - loss: 0.2881 - accuracy: 0.9005 - val_loss: 0.4966 - val_accuracy: 0.8235\n",
            "Epoch 300/500\n",
            "220/220 [==============================] - 1s 7ms/step - loss: 0.3029 - accuracy: 0.8933 - val_loss: 0.5029 - val_accuracy: 0.8224\n",
            "Epoch 301/500\n",
            "220/220 [==============================] - 1s 7ms/step - loss: 0.2784 - accuracy: 0.9104 - val_loss: 0.5095 - val_accuracy: 0.8206\n",
            "Epoch 302/500\n",
            "220/220 [==============================] - 1s 6ms/step - loss: 0.2906 - accuracy: 0.8950 - val_loss: 0.5008 - val_accuracy: 0.8258\n",
            "Epoch 303/500\n",
            "220/220 [==============================] - 1s 6ms/step - loss: 0.2862 - accuracy: 0.8976 - val_loss: 0.5088 - val_accuracy: 0.8201\n",
            "Epoch 304/500\n",
            "220/220 [==============================] - 2s 7ms/step - loss: 0.2706 - accuracy: 0.9053 - val_loss: 0.5171 - val_accuracy: 0.8189\n",
            "Epoch 305/500\n",
            "220/220 [==============================] - 2s 7ms/step - loss: 0.2816 - accuracy: 0.8981 - val_loss: 0.4933 - val_accuracy: 0.8189\n",
            "Epoch 306/500\n",
            "220/220 [==============================] - 2s 7ms/step - loss: 0.2752 - accuracy: 0.8936 - val_loss: 0.4989 - val_accuracy: 0.8241\n",
            "Epoch 307/500\n",
            "220/220 [==============================] - 2s 7ms/step - loss: 0.2767 - accuracy: 0.9054 - val_loss: 0.4884 - val_accuracy: 0.8218\n",
            "Epoch 308/500\n",
            "220/220 [==============================] - 1s 6ms/step - loss: 0.3122 - accuracy: 0.8928 - val_loss: 0.4959 - val_accuracy: 0.8258\n",
            "Epoch 309/500\n",
            "220/220 [==============================] - 2s 7ms/step - loss: 0.2903 - accuracy: 0.9005 - val_loss: 0.4968 - val_accuracy: 0.8235\n",
            "Epoch 310/500\n",
            "220/220 [==============================] - 2s 7ms/step - loss: 0.2785 - accuracy: 0.8976 - val_loss: 0.4975 - val_accuracy: 0.8241\n",
            "Epoch 311/500\n",
            "220/220 [==============================] - 1s 7ms/step - loss: 0.2741 - accuracy: 0.9030 - val_loss: 0.4862 - val_accuracy: 0.8241\n",
            "Epoch 312/500\n",
            "220/220 [==============================] - 2s 7ms/step - loss: 0.2923 - accuracy: 0.8966 - val_loss: 0.4870 - val_accuracy: 0.8230\n",
            "Epoch 313/500\n",
            "220/220 [==============================] - 1s 6ms/step - loss: 0.2726 - accuracy: 0.8947 - val_loss: 0.4943 - val_accuracy: 0.8258\n",
            "Epoch 314/500\n",
            "220/220 [==============================] - 2s 7ms/step - loss: 0.2588 - accuracy: 0.9093 - val_loss: 0.5066 - val_accuracy: 0.8218\n",
            "Epoch 315/500\n",
            "220/220 [==============================] - 2s 7ms/step - loss: 0.2951 - accuracy: 0.8936 - val_loss: 0.4970 - val_accuracy: 0.8304\n",
            "Epoch 316/500\n",
            "220/220 [==============================] - 1s 6ms/step - loss: 0.2801 - accuracy: 0.9031 - val_loss: 0.5020 - val_accuracy: 0.8218\n",
            "Epoch 317/500\n",
            "220/220 [==============================] - 1s 6ms/step - loss: 0.2885 - accuracy: 0.8979 - val_loss: 0.5088 - val_accuracy: 0.8201\n",
            "Epoch 318/500\n",
            "220/220 [==============================] - 2s 7ms/step - loss: 0.2902 - accuracy: 0.8966 - val_loss: 0.5136 - val_accuracy: 0.8212\n",
            "Epoch 319/500\n",
            "220/220 [==============================] - 2s 7ms/step - loss: 0.2722 - accuracy: 0.9012 - val_loss: 0.4980 - val_accuracy: 0.8299\n",
            "Epoch 320/500\n",
            "220/220 [==============================] - 2s 7ms/step - loss: 0.2784 - accuracy: 0.9021 - val_loss: 0.5000 - val_accuracy: 0.8218\n",
            "Epoch 321/500\n",
            "220/220 [==============================] - 2s 7ms/step - loss: 0.2589 - accuracy: 0.9119 - val_loss: 0.5064 - val_accuracy: 0.8247\n",
            "Epoch 322/500\n",
            "220/220 [==============================] - 1s 7ms/step - loss: 0.2693 - accuracy: 0.9049 - val_loss: 0.4946 - val_accuracy: 0.8224\n",
            "Epoch 323/500\n",
            "220/220 [==============================] - 2s 7ms/step - loss: 0.2463 - accuracy: 0.9123 - val_loss: 0.5052 - val_accuracy: 0.8287\n",
            "Epoch 324/500\n",
            "220/220 [==============================] - 1s 7ms/step - loss: 0.2777 - accuracy: 0.8983 - val_loss: 0.5104 - val_accuracy: 0.8264\n",
            "Epoch 325/500\n",
            "220/220 [==============================] - 2s 7ms/step - loss: 0.2928 - accuracy: 0.8988 - val_loss: 0.4947 - val_accuracy: 0.8258\n",
            "Epoch 326/500\n",
            "220/220 [==============================] - 1s 7ms/step - loss: 0.2443 - accuracy: 0.9174 - val_loss: 0.4976 - val_accuracy: 0.8235\n",
            "Epoch 327/500\n",
            "220/220 [==============================] - 2s 7ms/step - loss: 0.2819 - accuracy: 0.9026 - val_loss: 0.4930 - val_accuracy: 0.8253\n",
            "Epoch 328/500\n",
            "220/220 [==============================] - 1s 7ms/step - loss: 0.2554 - accuracy: 0.9086 - val_loss: 0.5092 - val_accuracy: 0.8276\n",
            "Epoch 329/500\n",
            "220/220 [==============================] - 1s 6ms/step - loss: 0.2716 - accuracy: 0.8994 - val_loss: 0.4907 - val_accuracy: 0.8264\n",
            "Epoch 330/500\n",
            "220/220 [==============================] - 1s 7ms/step - loss: 0.2614 - accuracy: 0.9047 - val_loss: 0.5006 - val_accuracy: 0.8304\n",
            "Epoch 331/500\n",
            "220/220 [==============================] - 2s 7ms/step - loss: 0.2590 - accuracy: 0.9094 - val_loss: 0.5099 - val_accuracy: 0.8201\n",
            "Epoch 332/500\n",
            "220/220 [==============================] - 2s 7ms/step - loss: 0.2601 - accuracy: 0.9031 - val_loss: 0.5109 - val_accuracy: 0.8235\n",
            "Epoch 333/500\n",
            "220/220 [==============================] - 1s 7ms/step - loss: 0.2569 - accuracy: 0.9021 - val_loss: 0.4961 - val_accuracy: 0.8339\n",
            "Epoch 334/500\n",
            "220/220 [==============================] - 1s 7ms/step - loss: 0.2639 - accuracy: 0.9026 - val_loss: 0.4990 - val_accuracy: 0.8293\n",
            "Epoch 335/500\n",
            "220/220 [==============================] - 2s 7ms/step - loss: 0.2727 - accuracy: 0.9015 - val_loss: 0.4990 - val_accuracy: 0.8258\n",
            "Epoch 336/500\n",
            "220/220 [==============================] - 1s 7ms/step - loss: 0.2495 - accuracy: 0.9079 - val_loss: 0.4882 - val_accuracy: 0.8345\n",
            "Epoch 337/500\n",
            "220/220 [==============================] - 2s 7ms/step - loss: 0.2456 - accuracy: 0.9134 - val_loss: 0.4914 - val_accuracy: 0.8328\n",
            "Epoch 338/500\n",
            "220/220 [==============================] - 2s 7ms/step - loss: 0.2446 - accuracy: 0.9180 - val_loss: 0.5148 - val_accuracy: 0.8247\n",
            "Epoch 339/500\n",
            "220/220 [==============================] - 1s 7ms/step - loss: 0.2733 - accuracy: 0.9073 - val_loss: 0.4915 - val_accuracy: 0.8339\n",
            "Epoch 340/500\n",
            "220/220 [==============================] - 2s 7ms/step - loss: 0.2689 - accuracy: 0.9035 - val_loss: 0.5149 - val_accuracy: 0.8253\n",
            "Epoch 341/500\n",
            "220/220 [==============================] - 2s 7ms/step - loss: 0.2615 - accuracy: 0.9086 - val_loss: 0.4974 - val_accuracy: 0.8310\n",
            "Epoch 342/500\n",
            "220/220 [==============================] - 1s 7ms/step - loss: 0.2573 - accuracy: 0.9123 - val_loss: 0.4913 - val_accuracy: 0.8333\n",
            "Epoch 343/500\n",
            "220/220 [==============================] - 1s 7ms/step - loss: 0.2373 - accuracy: 0.9196 - val_loss: 0.5044 - val_accuracy: 0.8224\n",
            "Epoch 344/500\n",
            "220/220 [==============================] - 1s 7ms/step - loss: 0.2445 - accuracy: 0.9150 - val_loss: 0.4914 - val_accuracy: 0.8287\n",
            "Epoch 345/500\n",
            "220/220 [==============================] - 2s 7ms/step - loss: 0.2722 - accuracy: 0.8991 - val_loss: 0.5248 - val_accuracy: 0.8258\n",
            "Epoch 346/500\n",
            "220/220 [==============================] - 2s 7ms/step - loss: 0.2360 - accuracy: 0.9183 - val_loss: 0.4923 - val_accuracy: 0.8304\n",
            "Epoch 347/500\n",
            "220/220 [==============================] - 2s 7ms/step - loss: 0.2437 - accuracy: 0.9163 - val_loss: 0.5046 - val_accuracy: 0.8206\n",
            "Epoch 348/500\n",
            "220/220 [==============================] - 2s 7ms/step - loss: 0.2409 - accuracy: 0.9126 - val_loss: 0.4841 - val_accuracy: 0.8356\n",
            "Epoch 349/500\n",
            "220/220 [==============================] - 2s 7ms/step - loss: 0.2576 - accuracy: 0.9051 - val_loss: 0.4998 - val_accuracy: 0.8247\n",
            "Epoch 350/500\n",
            "220/220 [==============================] - 2s 7ms/step - loss: 0.2517 - accuracy: 0.9128 - val_loss: 0.4913 - val_accuracy: 0.8310\n",
            "Epoch 351/500\n",
            "220/220 [==============================] - 1s 7ms/step - loss: 0.2518 - accuracy: 0.9108 - val_loss: 0.4973 - val_accuracy: 0.8299\n",
            "Epoch 352/500\n",
            "220/220 [==============================] - 2s 7ms/step - loss: 0.2562 - accuracy: 0.8998 - val_loss: 0.5107 - val_accuracy: 0.8270\n",
            "Epoch 353/500\n",
            "220/220 [==============================] - 1s 7ms/step - loss: 0.2645 - accuracy: 0.9073 - val_loss: 0.4873 - val_accuracy: 0.8316\n",
            "Epoch 354/500\n",
            "220/220 [==============================] - 1s 7ms/step - loss: 0.2319 - accuracy: 0.9142 - val_loss: 0.4959 - val_accuracy: 0.8316\n",
            "Epoch 355/500\n",
            "220/220 [==============================] - 2s 7ms/step - loss: 0.2627 - accuracy: 0.9140 - val_loss: 0.5054 - val_accuracy: 0.8264\n",
            "Epoch 356/500\n",
            "220/220 [==============================] - 2s 7ms/step - loss: 0.2387 - accuracy: 0.9140 - val_loss: 0.5091 - val_accuracy: 0.8189\n",
            "Epoch 357/500\n",
            "220/220 [==============================] - 2s 7ms/step - loss: 0.2385 - accuracy: 0.9125 - val_loss: 0.4948 - val_accuracy: 0.8293\n",
            "Epoch 358/500\n",
            "220/220 [==============================] - 2s 7ms/step - loss: 0.2441 - accuracy: 0.9083 - val_loss: 0.5126 - val_accuracy: 0.8178\n",
            "Epoch 359/500\n",
            "220/220 [==============================] - 1s 7ms/step - loss: 0.2396 - accuracy: 0.9165 - val_loss: 0.5162 - val_accuracy: 0.8253\n",
            "Epoch 360/500\n",
            "220/220 [==============================] - 1s 7ms/step - loss: 0.2494 - accuracy: 0.9028 - val_loss: 0.4964 - val_accuracy: 0.8328\n",
            "Epoch 361/500\n",
            "220/220 [==============================] - 1s 6ms/step - loss: 0.2475 - accuracy: 0.9125 - val_loss: 0.5047 - val_accuracy: 0.8258\n",
            "Epoch 362/500\n",
            "220/220 [==============================] - 1s 7ms/step - loss: 0.2383 - accuracy: 0.9151 - val_loss: 0.5036 - val_accuracy: 0.8264\n",
            "Epoch 363/500\n",
            "220/220 [==============================] - 2s 7ms/step - loss: 0.2441 - accuracy: 0.9223 - val_loss: 0.4919 - val_accuracy: 0.8345\n",
            "Epoch 364/500\n",
            "220/220 [==============================] - 2s 7ms/step - loss: 0.2544 - accuracy: 0.9082 - val_loss: 0.4965 - val_accuracy: 0.8368\n",
            "Epoch 365/500\n",
            "220/220 [==============================] - 2s 7ms/step - loss: 0.2242 - accuracy: 0.9142 - val_loss: 0.4985 - val_accuracy: 0.8270\n",
            "Epoch 366/500\n",
            "220/220 [==============================] - 1s 7ms/step - loss: 0.2112 - accuracy: 0.9252 - val_loss: 0.5111 - val_accuracy: 0.8241\n",
            "Epoch 367/500\n",
            "220/220 [==============================] - 1s 6ms/step - loss: 0.2268 - accuracy: 0.9216 - val_loss: 0.4932 - val_accuracy: 0.8328\n",
            "Epoch 368/500\n",
            "220/220 [==============================] - 1s 7ms/step - loss: 0.2525 - accuracy: 0.9067 - val_loss: 0.4865 - val_accuracy: 0.8333\n",
            "Epoch 369/500\n",
            "220/220 [==============================] - 2s 7ms/step - loss: 0.2427 - accuracy: 0.9088 - val_loss: 0.5007 - val_accuracy: 0.8276\n",
            "Epoch 370/500\n",
            "220/220 [==============================] - 1s 7ms/step - loss: 0.2556 - accuracy: 0.9091 - val_loss: 0.5115 - val_accuracy: 0.8287\n",
            "Epoch 371/500\n",
            "220/220 [==============================] - 1s 7ms/step - loss: 0.2400 - accuracy: 0.9148 - val_loss: 0.4893 - val_accuracy: 0.8333\n",
            "Epoch 372/500\n",
            "220/220 [==============================] - 1s 6ms/step - loss: 0.2305 - accuracy: 0.9171 - val_loss: 0.4902 - val_accuracy: 0.8235\n",
            "Epoch 373/500\n",
            "220/220 [==============================] - 2s 7ms/step - loss: 0.2289 - accuracy: 0.9212 - val_loss: 0.5010 - val_accuracy: 0.8264\n",
            "Epoch 374/500\n",
            "220/220 [==============================] - 1s 7ms/step - loss: 0.2255 - accuracy: 0.9209 - val_loss: 0.5116 - val_accuracy: 0.8235\n",
            "Epoch 375/500\n",
            "220/220 [==============================] - 2s 7ms/step - loss: 0.2448 - accuracy: 0.9071 - val_loss: 0.4910 - val_accuracy: 0.8281\n",
            "Epoch 376/500\n",
            "220/220 [==============================] - 2s 7ms/step - loss: 0.2263 - accuracy: 0.9124 - val_loss: 0.5145 - val_accuracy: 0.8253\n",
            "Epoch 377/500\n",
            "220/220 [==============================] - 1s 7ms/step - loss: 0.2374 - accuracy: 0.9167 - val_loss: 0.4999 - val_accuracy: 0.8322\n",
            "Epoch 378/500\n",
            "220/220 [==============================] - 1s 7ms/step - loss: 0.2244 - accuracy: 0.9242 - val_loss: 0.5127 - val_accuracy: 0.8276\n",
            "Epoch 379/500\n",
            "220/220 [==============================] - 1s 7ms/step - loss: 0.2516 - accuracy: 0.9098 - val_loss: 0.4965 - val_accuracy: 0.8287\n",
            "Epoch 380/500\n",
            "220/220 [==============================] - 2s 7ms/step - loss: 0.2414 - accuracy: 0.9115 - val_loss: 0.4878 - val_accuracy: 0.8316\n",
            "Epoch 381/500\n",
            "220/220 [==============================] - 2s 7ms/step - loss: 0.2194 - accuracy: 0.9269 - val_loss: 0.5103 - val_accuracy: 0.8293\n",
            "Epoch 382/500\n",
            "220/220 [==============================] - 1s 7ms/step - loss: 0.2458 - accuracy: 0.9135 - val_loss: 0.4832 - val_accuracy: 0.8333\n",
            "Epoch 383/500\n",
            "220/220 [==============================] - 1s 7ms/step - loss: 0.2356 - accuracy: 0.9180 - val_loss: 0.5055 - val_accuracy: 0.8258\n",
            "Epoch 384/500\n",
            "220/220 [==============================] - 2s 7ms/step - loss: 0.2258 - accuracy: 0.9197 - val_loss: 0.5086 - val_accuracy: 0.8276\n",
            "Epoch 385/500\n",
            "220/220 [==============================] - 2s 7ms/step - loss: 0.2312 - accuracy: 0.9189 - val_loss: 0.4992 - val_accuracy: 0.8345\n",
            "Epoch 386/500\n",
            "220/220 [==============================] - 2s 7ms/step - loss: 0.2394 - accuracy: 0.9172 - val_loss: 0.4886 - val_accuracy: 0.8345\n",
            "Epoch 387/500\n",
            "220/220 [==============================] - 2s 7ms/step - loss: 0.2204 - accuracy: 0.9256 - val_loss: 0.5009 - val_accuracy: 0.8253\n",
            "Epoch 388/500\n",
            "220/220 [==============================] - 2s 7ms/step - loss: 0.2267 - accuracy: 0.9115 - val_loss: 0.5326 - val_accuracy: 0.8241\n",
            "Epoch 389/500\n",
            "220/220 [==============================] - 1s 7ms/step - loss: 0.2186 - accuracy: 0.9236 - val_loss: 0.5087 - val_accuracy: 0.8276\n",
            "Epoch 390/500\n",
            "220/220 [==============================] - 2s 7ms/step - loss: 0.2380 - accuracy: 0.9141 - val_loss: 0.5074 - val_accuracy: 0.8339\n",
            "Epoch 391/500\n",
            "220/220 [==============================] - 1s 7ms/step - loss: 0.2101 - accuracy: 0.9332 - val_loss: 0.4925 - val_accuracy: 0.8333\n",
            "Epoch 392/500\n",
            "220/220 [==============================] - 1s 7ms/step - loss: 0.2164 - accuracy: 0.9177 - val_loss: 0.4966 - val_accuracy: 0.8356\n",
            "Epoch 393/500\n",
            "220/220 [==============================] - 1s 7ms/step - loss: 0.2060 - accuracy: 0.9285 - val_loss: 0.4958 - val_accuracy: 0.8316\n",
            "Epoch 394/500\n",
            "220/220 [==============================] - 1s 7ms/step - loss: 0.2275 - accuracy: 0.9264 - val_loss: 0.5060 - val_accuracy: 0.8322\n",
            "Epoch 395/500\n",
            "220/220 [==============================] - 1s 7ms/step - loss: 0.1990 - accuracy: 0.9356 - val_loss: 0.5054 - val_accuracy: 0.8258\n",
            "Epoch 396/500\n",
            "220/220 [==============================] - 2s 7ms/step - loss: 0.2313 - accuracy: 0.9158 - val_loss: 0.5080 - val_accuracy: 0.8322\n",
            "Epoch 397/500\n",
            "220/220 [==============================] - 1s 7ms/step - loss: 0.2146 - accuracy: 0.9237 - val_loss: 0.5095 - val_accuracy: 0.8247\n",
            "Epoch 398/500\n",
            "220/220 [==============================] - 2s 7ms/step - loss: 0.2295 - accuracy: 0.9162 - val_loss: 0.4965 - val_accuracy: 0.8356\n",
            "Epoch 399/500\n",
            "220/220 [==============================] - 1s 7ms/step - loss: 0.2195 - accuracy: 0.9172 - val_loss: 0.5077 - val_accuracy: 0.8362\n",
            "Epoch 400/500\n",
            "220/220 [==============================] - 1s 7ms/step - loss: 0.2126 - accuracy: 0.9239 - val_loss: 0.4985 - val_accuracy: 0.8264\n",
            "Epoch 401/500\n",
            "220/220 [==============================] - 1s 7ms/step - loss: 0.2195 - accuracy: 0.9255 - val_loss: 0.4959 - val_accuracy: 0.8281\n",
            "Epoch 402/500\n",
            "220/220 [==============================] - 2s 8ms/step - loss: 0.2260 - accuracy: 0.9143 - val_loss: 0.5012 - val_accuracy: 0.8270\n",
            "Epoch 403/500\n",
            "220/220 [==============================] - 2s 7ms/step - loss: 0.2460 - accuracy: 0.9100 - val_loss: 0.5056 - val_accuracy: 0.8328\n",
            "Epoch 404/500\n",
            "220/220 [==============================] - 1s 6ms/step - loss: 0.2186 - accuracy: 0.9290 - val_loss: 0.5200 - val_accuracy: 0.8322\n",
            "Epoch 405/500\n",
            "220/220 [==============================] - 1s 7ms/step - loss: 0.2319 - accuracy: 0.9138 - val_loss: 0.5060 - val_accuracy: 0.8316\n",
            "Epoch 406/500\n",
            "220/220 [==============================] - 1s 7ms/step - loss: 0.2083 - accuracy: 0.9232 - val_loss: 0.4938 - val_accuracy: 0.8333\n",
            "Epoch 407/500\n",
            "220/220 [==============================] - 1s 7ms/step - loss: 0.2053 - accuracy: 0.9275 - val_loss: 0.5122 - val_accuracy: 0.8287\n",
            "Epoch 408/500\n",
            "220/220 [==============================] - 2s 7ms/step - loss: 0.2137 - accuracy: 0.9235 - val_loss: 0.4884 - val_accuracy: 0.8345\n",
            "Epoch 409/500\n",
            "220/220 [==============================] - 1s 7ms/step - loss: 0.2150 - accuracy: 0.9242 - val_loss: 0.5059 - val_accuracy: 0.8293\n",
            "Epoch 410/500\n",
            "220/220 [==============================] - 2s 7ms/step - loss: 0.2066 - accuracy: 0.9249 - val_loss: 0.5214 - val_accuracy: 0.8322\n",
            "Epoch 411/500\n",
            "220/220 [==============================] - 2s 7ms/step - loss: 0.2322 - accuracy: 0.9269 - val_loss: 0.4873 - val_accuracy: 0.8368\n",
            "Epoch 412/500\n",
            "220/220 [==============================] - 1s 7ms/step - loss: 0.2023 - accuracy: 0.9281 - val_loss: 0.5009 - val_accuracy: 0.8304\n",
            "Epoch 413/500\n",
            "220/220 [==============================] - 2s 7ms/step - loss: 0.2211 - accuracy: 0.9238 - val_loss: 0.4980 - val_accuracy: 0.8339\n",
            "Epoch 414/500\n",
            "220/220 [==============================] - 1s 7ms/step - loss: 0.2025 - accuracy: 0.9279 - val_loss: 0.5203 - val_accuracy: 0.8247\n",
            "Epoch 415/500\n",
            "220/220 [==============================] - 1s 7ms/step - loss: 0.2196 - accuracy: 0.9197 - val_loss: 0.5138 - val_accuracy: 0.8247\n",
            "Epoch 416/500\n",
            "220/220 [==============================] - 1s 7ms/step - loss: 0.2182 - accuracy: 0.9244 - val_loss: 0.5050 - val_accuracy: 0.8374\n",
            "Epoch 417/500\n",
            "220/220 [==============================] - 2s 7ms/step - loss: 0.1995 - accuracy: 0.9264 - val_loss: 0.5139 - val_accuracy: 0.8351\n",
            "Epoch 418/500\n",
            "220/220 [==============================] - 2s 7ms/step - loss: 0.2099 - accuracy: 0.9227 - val_loss: 0.5207 - val_accuracy: 0.8299\n",
            "Epoch 419/500\n",
            "220/220 [==============================] - 1s 7ms/step - loss: 0.2127 - accuracy: 0.9255 - val_loss: 0.4852 - val_accuracy: 0.8345\n",
            "Epoch 420/500\n",
            "220/220 [==============================] - 2s 7ms/step - loss: 0.2016 - accuracy: 0.9291 - val_loss: 0.5082 - val_accuracy: 0.8385\n",
            "Epoch 421/500\n",
            "220/220 [==============================] - 2s 7ms/step - loss: 0.2074 - accuracy: 0.9268 - val_loss: 0.4936 - val_accuracy: 0.8339\n",
            "Epoch 422/500\n",
            "220/220 [==============================] - 1s 7ms/step - loss: 0.2292 - accuracy: 0.9190 - val_loss: 0.4994 - val_accuracy: 0.8368\n",
            "Epoch 423/500\n",
            "220/220 [==============================] - 2s 7ms/step - loss: 0.1870 - accuracy: 0.9383 - val_loss: 0.5057 - val_accuracy: 0.8362\n",
            "Epoch 424/500\n",
            "220/220 [==============================] - 1s 7ms/step - loss: 0.2016 - accuracy: 0.9304 - val_loss: 0.5114 - val_accuracy: 0.8333\n",
            "Epoch 425/500\n",
            "220/220 [==============================] - 1s 7ms/step - loss: 0.2126 - accuracy: 0.9296 - val_loss: 0.5054 - val_accuracy: 0.8351\n",
            "Epoch 426/500\n",
            "220/220 [==============================] - 1s 7ms/step - loss: 0.1952 - accuracy: 0.9346 - val_loss: 0.4982 - val_accuracy: 0.8333\n",
            "Epoch 427/500\n",
            "220/220 [==============================] - 2s 7ms/step - loss: 0.2192 - accuracy: 0.9265 - val_loss: 0.4998 - val_accuracy: 0.8322\n",
            "Epoch 428/500\n",
            "220/220 [==============================] - 1s 7ms/step - loss: 0.2122 - accuracy: 0.9284 - val_loss: 0.4925 - val_accuracy: 0.8374\n",
            "Epoch 429/500\n",
            "220/220 [==============================] - 2s 7ms/step - loss: 0.2069 - accuracy: 0.9284 - val_loss: 0.4929 - val_accuracy: 0.8356\n",
            "Epoch 430/500\n",
            "220/220 [==============================] - 2s 8ms/step - loss: 0.2168 - accuracy: 0.9168 - val_loss: 0.4983 - val_accuracy: 0.8322\n",
            "Epoch 431/500\n",
            "220/220 [==============================] - 1s 7ms/step - loss: 0.2096 - accuracy: 0.9257 - val_loss: 0.5055 - val_accuracy: 0.8362\n",
            "Epoch 432/500\n",
            "220/220 [==============================] - 1s 7ms/step - loss: 0.2025 - accuracy: 0.9326 - val_loss: 0.5011 - val_accuracy: 0.8368\n",
            "Epoch 433/500\n",
            "220/220 [==============================] - 2s 7ms/step - loss: 0.2025 - accuracy: 0.9288 - val_loss: 0.4986 - val_accuracy: 0.8420\n",
            "Epoch 434/500\n",
            "220/220 [==============================] - 1s 7ms/step - loss: 0.2090 - accuracy: 0.9244 - val_loss: 0.4983 - val_accuracy: 0.8333\n",
            "Epoch 435/500\n",
            "220/220 [==============================] - 2s 7ms/step - loss: 0.1930 - accuracy: 0.9320 - val_loss: 0.5049 - val_accuracy: 0.8339\n",
            "Epoch 436/500\n",
            "220/220 [==============================] - 2s 7ms/step - loss: 0.1889 - accuracy: 0.9317 - val_loss: 0.4960 - val_accuracy: 0.8304\n",
            "Epoch 437/500\n",
            "220/220 [==============================] - 1s 7ms/step - loss: 0.1940 - accuracy: 0.9331 - val_loss: 0.4910 - val_accuracy: 0.8339\n",
            "Epoch 438/500\n",
            "220/220 [==============================] - 2s 7ms/step - loss: 0.1880 - accuracy: 0.9315 - val_loss: 0.5167 - val_accuracy: 0.8310\n",
            "Epoch 439/500\n",
            "220/220 [==============================] - 2s 7ms/step - loss: 0.1994 - accuracy: 0.9306 - val_loss: 0.4878 - val_accuracy: 0.8356\n",
            "Epoch 440/500\n",
            "220/220 [==============================] - 2s 7ms/step - loss: 0.1811 - accuracy: 0.9396 - val_loss: 0.4935 - val_accuracy: 0.8351\n",
            "Epoch 441/500\n",
            "220/220 [==============================] - 1s 7ms/step - loss: 0.2138 - accuracy: 0.9237 - val_loss: 0.5169 - val_accuracy: 0.8310\n",
            "Epoch 442/500\n",
            "220/220 [==============================] - 2s 7ms/step - loss: 0.2138 - accuracy: 0.9301 - val_loss: 0.5023 - val_accuracy: 0.8426\n",
            "Epoch 443/500\n",
            "220/220 [==============================] - 2s 7ms/step - loss: 0.1938 - accuracy: 0.9348 - val_loss: 0.5072 - val_accuracy: 0.8281\n",
            "Epoch 444/500\n",
            "220/220 [==============================] - 2s 8ms/step - loss: 0.2087 - accuracy: 0.9215 - val_loss: 0.5035 - val_accuracy: 0.8322\n",
            "Epoch 445/500\n",
            "220/220 [==============================] - 1s 7ms/step - loss: 0.2021 - accuracy: 0.9327 - val_loss: 0.5096 - val_accuracy: 0.8316\n",
            "Epoch 446/500\n",
            "220/220 [==============================] - 1s 7ms/step - loss: 0.1837 - accuracy: 0.9387 - val_loss: 0.4972 - val_accuracy: 0.8351\n",
            "Epoch 447/500\n",
            "220/220 [==============================] - 1s 7ms/step - loss: 0.1996 - accuracy: 0.9343 - val_loss: 0.5036 - val_accuracy: 0.8356\n",
            "Epoch 448/500\n",
            "220/220 [==============================] - 2s 7ms/step - loss: 0.1739 - accuracy: 0.9387 - val_loss: 0.5032 - val_accuracy: 0.8379\n",
            "Epoch 449/500\n",
            "220/220 [==============================] - 2s 7ms/step - loss: 0.2175 - accuracy: 0.9237 - val_loss: 0.4907 - val_accuracy: 0.8397\n",
            "Epoch 450/500\n",
            "220/220 [==============================] - 2s 8ms/step - loss: 0.2046 - accuracy: 0.9307 - val_loss: 0.5022 - val_accuracy: 0.8339\n",
            "Epoch 451/500\n",
            "220/220 [==============================] - 1s 7ms/step - loss: 0.1804 - accuracy: 0.9382 - val_loss: 0.5053 - val_accuracy: 0.8385\n",
            "Epoch 452/500\n",
            "220/220 [==============================] - 2s 8ms/step - loss: 0.1900 - accuracy: 0.9319 - val_loss: 0.4948 - val_accuracy: 0.8374\n",
            "Epoch 453/500\n",
            "220/220 [==============================] - 2s 7ms/step - loss: 0.2067 - accuracy: 0.9255 - val_loss: 0.5058 - val_accuracy: 0.8385\n",
            "Epoch 454/500\n",
            "220/220 [==============================] - 2s 7ms/step - loss: 0.1878 - accuracy: 0.9403 - val_loss: 0.5116 - val_accuracy: 0.8328\n",
            "Epoch 455/500\n",
            "220/220 [==============================] - 1s 7ms/step - loss: 0.1816 - accuracy: 0.9375 - val_loss: 0.5029 - val_accuracy: 0.8345\n",
            "Epoch 456/500\n",
            "220/220 [==============================] - 2s 7ms/step - loss: 0.1771 - accuracy: 0.9387 - val_loss: 0.5252 - val_accuracy: 0.8351\n",
            "Epoch 457/500\n",
            "220/220 [==============================] - 2s 8ms/step - loss: 0.1977 - accuracy: 0.9310 - val_loss: 0.5068 - val_accuracy: 0.8374\n",
            "Epoch 458/500\n",
            "220/220 [==============================] - 2s 7ms/step - loss: 0.1999 - accuracy: 0.9237 - val_loss: 0.5155 - val_accuracy: 0.8322\n",
            "Epoch 459/500\n",
            "220/220 [==============================] - 2s 7ms/step - loss: 0.2196 - accuracy: 0.9207 - val_loss: 0.5077 - val_accuracy: 0.8374\n",
            "Epoch 460/500\n",
            "220/220 [==============================] - 2s 7ms/step - loss: 0.1955 - accuracy: 0.9346 - val_loss: 0.5141 - val_accuracy: 0.8345\n",
            "Epoch 461/500\n",
            "220/220 [==============================] - 2s 7ms/step - loss: 0.1781 - accuracy: 0.9370 - val_loss: 0.5209 - val_accuracy: 0.8328\n",
            "Epoch 462/500\n",
            "220/220 [==============================] - 2s 8ms/step - loss: 0.2056 - accuracy: 0.9222 - val_loss: 0.5054 - val_accuracy: 0.8351\n",
            "Epoch 463/500\n",
            "220/220 [==============================] - 2s 7ms/step - loss: 0.1876 - accuracy: 0.9311 - val_loss: 0.5034 - val_accuracy: 0.8379\n",
            "Epoch 464/500\n",
            "220/220 [==============================] - 1s 7ms/step - loss: 0.1844 - accuracy: 0.9327 - val_loss: 0.5114 - val_accuracy: 0.8391\n",
            "Epoch 465/500\n",
            "220/220 [==============================] - 2s 7ms/step - loss: 0.1906 - accuracy: 0.9360 - val_loss: 0.5050 - val_accuracy: 0.8316\n",
            "Epoch 466/500\n",
            "220/220 [==============================] - 2s 7ms/step - loss: 0.1921 - accuracy: 0.9301 - val_loss: 0.5121 - val_accuracy: 0.8345\n",
            "Epoch 467/500\n",
            "220/220 [==============================] - 2s 7ms/step - loss: 0.1982 - accuracy: 0.9372 - val_loss: 0.4976 - val_accuracy: 0.8316\n",
            "Epoch 468/500\n",
            "220/220 [==============================] - 2s 7ms/step - loss: 0.1782 - accuracy: 0.9387 - val_loss: 0.4978 - val_accuracy: 0.8310\n",
            "Epoch 469/500\n",
            "220/220 [==============================] - 2s 7ms/step - loss: 0.1945 - accuracy: 0.9343 - val_loss: 0.5076 - val_accuracy: 0.8356\n",
            "Epoch 470/500\n",
            "220/220 [==============================] - 2s 7ms/step - loss: 0.1948 - accuracy: 0.9324 - val_loss: 0.4984 - val_accuracy: 0.8368\n",
            "Epoch 471/500\n",
            "220/220 [==============================] - 2s 7ms/step - loss: 0.1713 - accuracy: 0.9402 - val_loss: 0.5061 - val_accuracy: 0.8362\n",
            "Epoch 472/500\n",
            "220/220 [==============================] - 1s 7ms/step - loss: 0.1803 - accuracy: 0.9376 - val_loss: 0.5021 - val_accuracy: 0.8374\n",
            "Epoch 473/500\n",
            "220/220 [==============================] - 1s 7ms/step - loss: 0.1884 - accuracy: 0.9368 - val_loss: 0.5107 - val_accuracy: 0.8333\n",
            "Epoch 474/500\n",
            "220/220 [==============================] - 2s 7ms/step - loss: 0.1773 - accuracy: 0.9407 - val_loss: 0.5170 - val_accuracy: 0.8449\n",
            "Epoch 475/500\n",
            "220/220 [==============================] - 2s 7ms/step - loss: 0.1792 - accuracy: 0.9364 - val_loss: 0.5249 - val_accuracy: 0.8328\n",
            "Epoch 476/500\n",
            "220/220 [==============================] - 1s 7ms/step - loss: 0.1985 - accuracy: 0.9203 - val_loss: 0.5074 - val_accuracy: 0.8374\n",
            "Epoch 477/500\n",
            "220/220 [==============================] - 2s 8ms/step - loss: 0.1795 - accuracy: 0.9405 - val_loss: 0.5062 - val_accuracy: 0.8351\n",
            "Epoch 478/500\n",
            "220/220 [==============================] - 2s 7ms/step - loss: 0.1675 - accuracy: 0.9399 - val_loss: 0.5297 - val_accuracy: 0.8322\n",
            "Epoch 479/500\n",
            "220/220 [==============================] - 1s 7ms/step - loss: 0.1695 - accuracy: 0.9439 - val_loss: 0.4967 - val_accuracy: 0.8414\n",
            "Epoch 480/500\n",
            "220/220 [==============================] - 2s 7ms/step - loss: 0.1857 - accuracy: 0.9362 - val_loss: 0.5019 - val_accuracy: 0.8368\n",
            "Epoch 481/500\n",
            "220/220 [==============================] - 1s 7ms/step - loss: 0.1990 - accuracy: 0.9235 - val_loss: 0.4949 - val_accuracy: 0.8426\n",
            "Epoch 482/500\n",
            "220/220 [==============================] - 1s 7ms/step - loss: 0.1714 - accuracy: 0.9385 - val_loss: 0.5073 - val_accuracy: 0.8379\n",
            "Epoch 483/500\n",
            "220/220 [==============================] - 2s 7ms/step - loss: 0.1587 - accuracy: 0.9465 - val_loss: 0.4969 - val_accuracy: 0.8345\n",
            "Epoch 484/500\n",
            "220/220 [==============================] - 2s 7ms/step - loss: 0.1829 - accuracy: 0.9353 - val_loss: 0.5144 - val_accuracy: 0.8322\n",
            "Epoch 485/500\n",
            "220/220 [==============================] - 1s 7ms/step - loss: 0.1780 - accuracy: 0.9470 - val_loss: 0.5190 - val_accuracy: 0.8356\n",
            "Epoch 486/500\n",
            "220/220 [==============================] - 2s 7ms/step - loss: 0.1943 - accuracy: 0.9324 - val_loss: 0.5239 - val_accuracy: 0.8351\n",
            "Epoch 487/500\n",
            "220/220 [==============================] - 2s 8ms/step - loss: 0.1750 - accuracy: 0.9416 - val_loss: 0.5147 - val_accuracy: 0.8299\n",
            "Epoch 488/500\n",
            "220/220 [==============================] - 2s 7ms/step - loss: 0.1769 - accuracy: 0.9352 - val_loss: 0.5055 - val_accuracy: 0.8385\n",
            "Epoch 489/500\n",
            "220/220 [==============================] - 2s 7ms/step - loss: 0.1773 - accuracy: 0.9353 - val_loss: 0.5049 - val_accuracy: 0.8333\n",
            "Epoch 490/500\n",
            "220/220 [==============================] - 2s 7ms/step - loss: 0.1903 - accuracy: 0.9298 - val_loss: 0.5066 - val_accuracy: 0.8408\n",
            "Epoch 491/500\n",
            "220/220 [==============================] - 2s 7ms/step - loss: 0.1663 - accuracy: 0.9418 - val_loss: 0.5277 - val_accuracy: 0.8351\n",
            "Epoch 492/500\n",
            "220/220 [==============================] - 2s 8ms/step - loss: 0.1778 - accuracy: 0.9380 - val_loss: 0.5012 - val_accuracy: 0.8391\n",
            "Epoch 493/500\n",
            "220/220 [==============================] - 2s 7ms/step - loss: 0.1685 - accuracy: 0.9374 - val_loss: 0.5103 - val_accuracy: 0.8449\n",
            "Epoch 494/500\n",
            "220/220 [==============================] - 2s 7ms/step - loss: 0.1895 - accuracy: 0.9403 - val_loss: 0.4971 - val_accuracy: 0.8362\n",
            "Epoch 495/500\n",
            "220/220 [==============================] - 2s 8ms/step - loss: 0.1792 - accuracy: 0.9360 - val_loss: 0.5076 - val_accuracy: 0.8339\n",
            "Epoch 496/500\n",
            "220/220 [==============================] - 2s 8ms/step - loss: 0.1759 - accuracy: 0.9423 - val_loss: 0.5069 - val_accuracy: 0.8408\n",
            "Epoch 497/500\n",
            "220/220 [==============================] - 2s 8ms/step - loss: 0.1692 - accuracy: 0.9417 - val_loss: 0.4996 - val_accuracy: 0.8351\n",
            "Epoch 498/500\n",
            "220/220 [==============================] - 2s 8ms/step - loss: 0.1848 - accuracy: 0.9396 - val_loss: 0.5084 - val_accuracy: 0.8345\n",
            "Epoch 499/500\n",
            "220/220 [==============================] - 2s 8ms/step - loss: 0.1550 - accuracy: 0.9456 - val_loss: 0.5156 - val_accuracy: 0.8403\n",
            "Epoch 500/500\n",
            "220/220 [==============================] - 2s 7ms/step - loss: 0.1686 - accuracy: 0.9438 - val_loss: 0.5122 - val_accuracy: 0.8356\n"
          ],
          "name": "stdout"
        }
      ]
    },
    {
      "cell_type": "code",
      "metadata": {
        "colab": {
          "base_uri": "https://localhost:8080/",
          "height": 295
        },
        "id": "J1mJrn3LtO_M",
        "outputId": "83b81b18-df6a-4a21-abfb-57535ec14770"
      },
      "source": [
        "plt.plot(cnnhistory.history['loss'])\n",
        "plt.plot(cnnhistory.history['val_loss'])\n",
        "plt.title('model loss')\n",
        "plt.ylabel('loss')\n",
        "plt.xlabel('epoch')\n",
        "plt.legend(['train', 'test'], loc='upper left')\n",
        "plt.show()"
      ],
      "execution_count": 12,
      "outputs": [
        {
          "output_type": "display_data",
          "data": {
            "image/png": "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\n",
            "text/plain": [
              "<Figure size 432x288 with 1 Axes>"
            ]
          },
          "metadata": {
            "tags": [],
            "needs_background": "light"
          }
        }
      ]
    },
    {
      "cell_type": "code",
      "metadata": {
        "colab": {
          "base_uri": "https://localhost:8080/",
          "height": 295
        },
        "id": "8tkiuu1VvF-Q",
        "outputId": "c5a92204-77ef-4a8f-f1b6-94c815e787b3"
      },
      "source": [
        "\n",
        "plt.plot(cnnhistory.history['accuracy'])\n",
        "plt.plot(cnnhistory.history['val_accuracy'])\n",
        "plt.title('model accuracy')\n",
        "plt.ylabel('acc')\n",
        "plt.xlabel('epoch')\n",
        "plt.legend(['train', 'test'], loc='upper left')\n",
        "plt.show()"
      ],
      "execution_count": 13,
      "outputs": [
        {
          "output_type": "display_data",
          "data": {
            "image/png": "iVBORw0KGgoAAAANSUhEUgAAAYIAAAEWCAYAAABrDZDcAAAABHNCSVQICAgIfAhkiAAAAAlwSFlzAAALEgAACxIB0t1+/AAAADh0RVh0U29mdHdhcmUAbWF0cGxvdGxpYiB2ZXJzaW9uMy4yLjIsIGh0dHA6Ly9tYXRwbG90bGliLm9yZy+WH4yJAAAgAElEQVR4nO3dd3xV9f348dc7e5OQhBn2HjJkuHAgUlEUnLirrS3aStVWraOOattf7bcWrVurVlu3WBUVRVBQEWUjewskQCAQsnfy/v3xOUluBhiRmwu57+fjkUfOuud8Ppdw3uczj6gqxhhjgldIoBNgjDEmsCwQGGNMkLNAYIwxQc4CgTHGBDkLBMYYE+QsEBhjTJCzQGCCioi8KCJ/buKxW0XkDH+nyZhAs0BgjDFBzgKBMUchEQkLdBpMy2GBwBxxvCqZ20RkhYgUisjzItJWRD4SkXwRmS0iST7HTxCR1SKSIyJzRaSfz76hIrLU+9wbQFS9a50jIsu9z84XkUFNTON4EVkmInkiki4if6y3f5R3vhxv/zXe9mgR+YeIbBORXBGZ5207TUQyGvkezvCW/ygi00TkZRHJA64RkZEi8rV3jV0i8riIRPh8foCIzBKRbBHZLSJ3iUg7ESkSkWSf444VkSwRCW9K3k3LY4HAHKkuBMYCvYFzgY+Au4BU3N/tjQAi0ht4DbjZ2zcDeF9EIryb4rvAf4HWwFveefE+OxR4AbgOSAaeAaaLSGQT0lcI/BRIBMYDvxKR87zzdvHS+5iXpiHAcu9zDwHDgBO9NP0eqGridzIRmOZd8xWgEvgtkAKcAIwBfu2lIR6YDXwMdAB6Ap+qaiYwF5jkc96rgNdVtbyJ6TAtjAUCc6R6TFV3q+oO4EtggaouU9US4B1gqHfcJcCHqjrLu5E9BETjbrTHA+HAI6parqrTgEU+15gMPKOqC1S1UlVfAkq9zx2Uqs5V1ZWqWqWqK3DB6FRv9+XAbFV9zbvuPlVdLiIhwM+Bm1R1h3fN+apa2sTv5GtVfde7ZrGqLlHVb1S1QlW34gJZdRrOATJV9R+qWqKq+aq6wNv3EnAlgIiEApfhgqUJUhYIzJFqt89ycSPrcd5yB2Bb9Q5VrQLSgY7evh1ad2bFbT7LXYBbvKqVHBHJATp5nzsoETlOROZ4VSq5wPW4J3O8c2xu5GMpuKqpxvY1RXq9NPQWkQ9EJNOrLvp/TUgDwHtAfxHphit15arqwkNMk2kBLBCYo91O3A0dABER3E1wB7AL6Ohtq9bZZzkd+IuqJvr8xKjqa0247qvAdKCTqrYCngaqr5MO9GjkM3uBkgPsKwRifPIRiqtW8lV/quCngHVAL1VNwFWd+aahe2MJ90pVb+JKBVdhpYGgZ4HAHO3eBMaLyBivsfMWXPXOfOBroAK4UUTCReQCYKTPZ/8FXO893YuIxHqNwPFNuG48kK2qJSIyElcdVO0V4AwRmSQiYSKSLCJDvNLKC8BUEekgIqEicoLXJrEBiPKuHw7cDXxfW0U8kAcUiEhf4Fc++z4A2ovIzSISKSLxInKcz/7/ANcAE7BAEPQsEJijmqquxz3ZPoZ74j4XOFdVy1S1DLgAd8PLxrUn/M/ns4uBXwKPA/uBTd6xTfFr4AERyQfuxQWk6vNuB87GBaVsXEPxYG/3rcBKXFtFNvA3IERVc71zPocrzRQCdXoRNeJWXADKxwW1N3zSkI+r9jkXyAQ2AqN99n+Fa6Reqqq+1WUmCIm9mMaY4CQinwGvqupzgU6LCSwLBMYEIREZAczCtXHkBzo9JrCsasiYICMiL+HGGNxsQcCAlQiMMSboWYnAGGOC3FE3cVVKSop27do10MkwxpijypIlS/aqav2xKcBRGAi6du3K4sWLA50MY4w5qojIAbsJW9WQMcYEOQsExhgT5CwQGGNMkDvq2ggaU15eTkZGBiUlJYFOil9FRUWRlpZGeLi9P8QYc/i0iECQkZFBfHw8Xbt2pe5Eky2HqrJv3z4yMjLo1q1boJNjjGlBWkTVUElJCcnJyS02CACICMnJyS2+1GOMaX4tIhAALToIVAuGPBpjml+LCQTGGNNSVVUpf/5gDRt2+2dqKAsEh0FOTg5PPvnkD/7c2WefTU5Ojh9SZIzxJ1XlnWUZFJVVHNLnN+7OJ7eoHFUlY38Rf3hnJfsLywB4dcF2rnp+AQu27GNFhrs/zFydyXPzvmNlRu5hy4OvFtFYHGjVgeDXv/51ne0VFRWEhR34K54xY4a/k2aMOQSvLthOZl4JvxvbG1WlskoJC619bl66fT+/feNbhnTaxiu/OI7YyNr/5+sz8/lo1S5+0r8df/1oLT8/qRuj+7ahvLKKbfsKWbUjj5vfWM6pvVMpLqtk4dZsd82F27nmxK68umA7pRVVfLlxLwCp8ZFk5ZfSs00c5w3t6Jf8WiA4DO644w42b97MkCFDCA8PJyoqiqSkJNatW8eGDRs477zzSE9Pp6SkhJtuuonJkycDtdNlFBQUcNZZZzFq1Cjmz59Px44dee+994iOjg5wzoxp+UrKK9lXWEbHxGiKyiooKK3grndWAlBWUcXeglK+3JjFp7ecBsDEx+cRGuLa65an53DDq0v59zUjeOyzTfRtF8/k/y4B4JHZGwH4cuNeTuuTypcb91JZVTvb8+cbsuqkQxX+/dVWALomxxARFsKG3QWEitC/fQJTLxlcc93D7aibhnr48OFaf66htWvX0q9fPwDuf381a3bmHdZr9u+QwH3nDjjg/q1bt3LOOeewatUq5s6dy/jx41m1alVNN8/s7Gxat25NcXExI0aM4PPPPyc5OblOIOjZsyeLFy9myJAhTJo0iQkTJnDllVc2uJZvXo0JdpuzCsguLGNE19aAu6nvLSglNERo36rhg9SHK3ZxfPfWJMe510GrKpc8+w0Lv8tmaOdElm3PITYilMKyyh+Ujp5t4ti0p6DOttT4SLqnxLLgu+wGxz971bCagFHtTxMH8OL8rXy3t5CPbjqFPu3i+W5vIZ2SouuURg6ViCxR1eGN7bMSgR+MHDmyTl//Rx99lHfeeQeA9PR0Nm7cSHJycp3PdOvWjSFDhgAwbNgwtm7d2mzpNeZIs3hrNr3bxZMQ5QZPFpdVct/0VdwwuiddkmNrjhv3yBeUVyrvTxnF3oJSbnxtGfmlrt5+bP+29G4bx+Y9hYSFCj1S4/jnp+4pPSIshMTocApKKyjybvrLtrv6+OogcGznRKIjQvlq0z5S4iLYW1BWJ41n9GvLY5cNZfADn7BpT0FNIElLiub9KaOIjQxj275CnvliC7eP60tFVRUn/PUzAMb0a8sFx3Yku7CMm8b0Iikmgq4psZw7uAOC0CrG5btbSizNocUFgoM9uTeX2Njaf7y5c+cye/Zsvv76a2JiYjjttNMaHQsQGRlZsxwaGkpxcXGzpNWY5paZW8LmrAJO6pnS6P6tewu56OmvAbjiuM5cNCyNf366kbnrs3hzcQbjB7XnmI6tmDC4A+WVrkbj3MfnNTjPrDW7mbVmd6PXKKuo4vjuySTHRTA4LZGPVu1i5urdvHDNcGat2c1rC9P57djeDOjQiqmz1nPbT/pSWlHJzW8s595z+9MhMZrwkBCiI0J559cnUlBSwXHdk9mT7/5vJ8VGANCrbTwPXTy45rp/veAYyiqqCA0Rpk4a0iBdiTERP+CbPHxaXCAIhPj4ePLzG+/WlZubS1JSEjExMaxbt45vvvmmmVNnTGDsLyyjoLSCaUsyqFLl5jN6k19SzoVPzWdHTjH3ndu/5gl6XWY+UeEhtIqOwHe4zCsLtvPKgu11zvvhil18uGIXD360rmZbq+hwxvRrg6orCfz6laWEhwrXjuoOwOy1u+maHEOr6Aj+ML4frWPr3nBP6Z3KsZ3TOaVXKoPSEkmICmdE19ZEhYfy5/OO8Y4K59VfHt8gnwM6tKpZbhMfddDv5LKRnZvy1TU7CwSHQXJyMieddBIDBw4kOjqatm3b1uwbN24cTz/9NP369aNPnz4cf3zDPyRjjnSqSk5ROR+s3MUpvVL4eFUmJ/ZIYV1mHmcObMeanXnsKygjMSacwtIKNmcV8reP19U5x/L0HLbtK2JXrivt3v/+mgNe7+JhadwwuieT/7uYiUM60iU5hj9/sJbMvBJm3nwKO3OKuW/6arZnF/H+lFEM7JhQZ8Dlxr+cRbhPvfodZ/U9aP5ax0Zw3ak9AEiJi+TOs4OrHc6vjcUiMg74JxAKPKeqD9bb3wV4AUgFsoErVTXjYOf8vsbili6Y8mr8a2VGLr3axhEVHlpn++asAqbO2sAd4/qyeFs2PVPjWbQ1mwc+aPzG3bl1DNuziw54netO7c4zn2+pWb/r7L6s25XP/5btYFiXJJZs2094qHDj6b3IL60gM7eEu8/p1+DpOq+knF05JfRpFw+4QVZZBaW0TTj4U7hxAtJYLCKhwBPAWCADWCQi01XV96/pIeA/qvqSiJwO/BW4yl9pMiYY7ckrIaugtE4Vxp68Es59fB6DOyWSGB3O6D6pLPgum79fPJhfvbyEDbsL+HDFriadf3t2ER0TXQ+dHTl127Y++M0oBnZsxaw1u9mSVcg1J3bl6hO78qLXTfKXJ3fnhtFCp6QYerWNP+h1EqLCSWhXO/NuSIhYEDhM/Fk1NBLYpKpbAETkdWAi4BsI+gO/85bnAO/6MT3GtCjf7S3k9rdX8OQVx5ISF0lVlfLi/K2M7d+WTq1jAMjKL2Xk//sUgFE9UxjQIYGfndStZhDTt+mup0x1n/Zt+4rYsLu2G+SxnRNZl5lPUVklk4ansSu3hC837uWflw7hjrdXct7QDry9dAevTz6eDonRpGcXcdpDcwGYdv0JDOzogs9rvzyerPzSmvWfj+pGv/YJnNwrxebQOgL4MxB0BNJ91jOA4+od8y1wAa766HwgXkSSVXWfH9NlzFHlu72FTF++k9+c3pMqVbILy7jw6fkIwvZsNz1BcXkVG3fnsyu3hFcXbqe4rJJbz+xNXnHtFAjzNu1l3qa9PPvlFurXCMdHhdG7bTxLtu0HYHSfVDq3juH+iQNRVd5dvoNTe7chNEQoLK2gQ2I05w7qQEiIcM85/YmJcLeSrimxnN63DZ+t20P/Dgk152+bEFXn6T08NIRTejf6HnUTAIFuLL4VeFxErgG+AHYADUZyiMhkYDJA585HZqu7MT/U9n1FiFDz9F5SXknG/mL2FZSyr7CMs49pT2WVMtp7wn7p6601I1Nzi8trzjNzdd0uktUDm377xrdEhoUQGRZCaUUVABcem8bGPfm0S4hiTL829EiNo1V0OJ1axxAZFsL0b3eybHsOf5xQ2w1bRDh/aFrNeqtoVz0T4o1yrQ4C1Z684lgy9hc32G6OXP78l9oBdPJZT/O21VDVnbgSASISB1yoqg1mYVPVZ4FnwTUW+yvBxvibqrJ6Zx4DOiQw4Yl55BSV8/HNJ9O3XQL3v7+G1xbWdpXs2y6e+Kja/6LZhWUNzte+VRRj+7flzAHtuPWtb9lfVEZJeRU3nt6TVxZsJ7+kgueuHs5PX1jIGf3a8I9Jgxucw9fEIR2ZOOTHzWcTFR5KzzZxP+ocpnn5MxAsAnqJSDdcALgUuNz3ABFJAbJVtQq4E9eDyJijVk6Ru1nHR4WzdPt+nv1iC1NG96S4vJLM3BL+/dV3fJuRy/lDO5JT5J7qxz3yJZeO6MTri9LrnGtdZuNjU4Z2TuSvFxzD7DW7ue7UHjXdJL++cwz/nL2Rh2dvYNKITlx3ag/KK6tIjIlg2T1jiYkMbfR8xvgtEKhqhYhMAWbiuo++oKqrReQBYLGqTgdOA/4qIoqrGrrBX+nxp5ycHF599dUGs482xSOPPMLkyZOJiYnxQ8qMP1RWKesy83hlwXZuGN2Td5ZmkLG/mNAQ4ZUF2+nUOppOSTHM3+yauhob3frOsh0kx0Zw/ak9+OenG3l9UTrdUmK5f8IAHvpkPVcc15mx/dvxuzeXs3Wv620TGxnG0M5JtGsVRVxkGH3bJTQ47w2je3Dx8DQ6JNadZycpNjAjVs3RocVNOhcIvpPO/VDVE8+lpDQ+3L6+QOc1mJRWVBIZ1vAp+sWvvuOPBxkMVW3S8DQy9hfXBIQzB7TloYsHs3FPATNXZXLRsDR6tY1HVUnPLqZtq8gG16usclMgR4TZq0PMj2OTzvmZ7zTUY8eOpU2bNrz55puUlpZy/vnnc//991NYWMikSZPIyMigsrKSe+65h927d7Nz505Gjx5NSkoKc+bMCXRWWrSqKmXGql2M6duW6IiGN/in5m6mbUIkfdrFs2pHLvdNX83NZ/QmOTaCnKJyEmPCGT+oPXO9rpZj+rbh03V76NsunrvH92fR1mzaJkRx1zsrGZTWir9eMIgqVf45eyNDOiVyRn834vzYzkkc2zmp5roiQufkxkuEoSHit6mHjanW8gLBR3dA5srDe852x8BZDx5w94MPPsiqVatYvnw5n3zyCdOmTWPhwoWoKhMmTOCLL74gKyuLDh068OGHHwJuDqJWrVoxdepU5syZ0+QSgfl+5ZVV/G9pBucPTavzJD39253c/MZyJp/SndP6pDI4LZEX529l5upM1mXmU+b1rPHlO58NwG3TVgCu980/Jg1m1prdDO2cSEpcJKN6uX/DU3qn0C4hyt3EEW49s48fc2vMj9fyAkGAffLJJ3zyyScMHToUgIKCAjZu3MjJJ5/MLbfcwu23384555zDySefHOCUtlzTl+/k9rdXkplbyqheyXyzJZtP1+6u6Vb57BdbePaLLYjQoD/9pOFpdE2JpXtKHEM7J/L6wnT6tY9nWJck/vvNtpqXjZx9TDvATXBWX1qStfeYo0vLCwQHeXJvDqrKnXfeyXXXXddg39KlS5kxYwZ33303Y8aM4d577w1ACluOb9NzeGtJOvM27uXP5x3DqF4p7C8s41WvC+bDszfw8Oy6n7ny+M5MX76Tvu0Saqpjpi1x01tdf2qPBpOT3XRGr9rlMb0YN7AdfdrG22hY06K0vEAQAL7TUJ955pncc889XHHFFcTFxbFjxw7Cw8OpqKigdevWXHnllSQmJvLcc8/V+axVDTXd3PV7yNhfzN3v1jbOX/n8Al76+Uju+t/KmvluuiTHcFy31ny1aR87cooZ0CGBP593jM+0wi5wXzayM12TY0j6nrngRaTRnjrGHO0sEBwGvtNQn3XWWVx++eWccMIJAMTFxfHyyy+zadMmbrvtNkJCQggPD+epp54CYPLkyYwbN44OHToEdWPx3oJSznviK6ZOGsLIbu61g+nZRRSUVvDRyl1szipk6iWD+f20Fby3fGej57j6hYV11j+/bXTN8vxNexud1ExEGNYlqcF2Y4KJdR89yhzteS2rqGLx1myO655MaIiwaU8B6dlF7C0o5bZpKxjQIYGHLxnCy99s4z9fb2v0HL8+rQcTh3QkRGD8o/OoqKrihWtGUFRWyZJt+0mICmdUr2SGdWndzLkz5shl3UdNwMzbuJel2/dz45heqCrX/Hsh8zfvY/Ip3bn6xK6cMfVzAC4Y6qY1WL0zj588/EWdc9w0phdPfb6ZsooqhndJ4paf9KnpUrngrjEo1Lxx6uxj2jdf5oxpISwQmMPuo5W7mLdpL786rQdXPr8AcNU8by2pfedQdc+dav9btoOBHRNIS4xhw558tmQV8tDFg4kKD+Gsge254rjOxESGERdZ90/WRsyaw6IkF8JjIdTn76u8GPZvhTaHoQSuCq9dBgMvhEEXu20Fe9w1kro0PD59IXx0O1z1P4j2f9VliwkEqtrie3IcLdV4v3plKQAzV2fWbKsOAif3SuH5q0cw/dudzN+0l7WZ+azdlUffdvE899MRtGvlpiquP6q3jb2AxPwYOekQlQBRrRruK8mDBzvDcb+q2+vw3V/B6nfgDu+zxfth6X+h+2kQGgGxKe7Hlyps+hQ6Hw+RPhPv5e+CDR+5n0EXw/NnQrr3/vK7dkFEDFSWQ8Yi+PRPsH2+2/feFBCBPuNdsDr++sP5rdRoEYEgKiqKffv2kZyc3GKDgaqyb98+oqICc0PMKyknIar27VDp2UXcN301t53Zh37tEygqq+DG15bTNiGy5pi9BWVcO6obp/RO5bUF2+mSEsOdZ7mnq4uGpXHRMDe1cXWA8/23a2xqB9NMqipBQtzNK66tW67//+q7LyAiDjoee+Dz5GfCjFvhpJshrdGq6cZlroTYVIhvBxVlsPp/0GkktO7ubtqf/809pQ+9su7n9m+Fon0w90G44F+Qmw7Tfg6j74K3rnHHdD8N+p8HaSPgvRsgtS/s/87tW/AUnPkXKM2DJS+5IACwdyMUZ8PHd8C+TbXXS+kDw66GLx5yN/Fxf4WMhbD0P3DsT2Hc32DxCy79O5bUfu7Fc2qDAMDc/+fym74Q1n1QN0/V62vfd797jYXkHk3/LpuoRTQWl5eXk5GRQUlJSYBS1TyioqJIS0sjPDz8+w8+TNZn5vPBip089tkmHr98KL3bxnPja8tQhfW780mJi+DhS4Zw33ur2bK3sOZzPzupK+cN6cjgTonNllZzEMU5EB4DYQepSivNBwQeOxbaDYJNs2r3Db3SPVVf+ba7Gf+9u9s+eS6Ul0D6Ahh2DUQnwrb5sPwV9wS79n3oeYY7JjLO3fBiU+GM+6CyAj5/0FWXbJoNy16GXj+B+Y9CfHu46l140uddViffCutnwB5vnqffrob3b4aQUNjwccP8dBkF2+Y17fuRUNAGr0KpK7o1lBdBRYmrRiovbPy4kHCoqn1fBK06Q+72hsd1PRki412e6otsBf3Ocd+jr/FTYcS1B0/nARyssbhFBAJz+BWUVlBYWsHJf5tDWWXDqRfAvcZwe3YxewtKAfi/iwbxp/fX0DEpmo9vPqU5k3v0Ki2AnO3wwW/djXTNu3DZ6w2fwH+Mygr4UzIMuAA6nwCf/QluWQ+f3g89x0LPMe66b10DsW2gcM+Bz3Ww/X3Odk/k6Qu+P003r4R3fw1bvzzwMb3PclUpnY6v+wR9KHqcDsddD0ld3RN7zjaIiHc34tgUGH4tvHs9bPzEHd9uEGSuqP1822Pg2plQlA25GdB+EHxyN/Q6E3Yuc6WniDhXUolOhDe80kpCR5iyGLI3w/qPXUBI7Qc7FsOFz7vA8t4UFziqn/p/Ot2VgEIjYOMsV5rK2wGtOkHMofeEs0BgmqysooqHZ2/gqbmba7Y9dLF7mcmtb30LwDmD2nP9qT1o3yqK7MIy/vHJBk7uncIVx3Uht6ic0FBp0KgbdJa/5p4wh1xR96ZeUQphXvXZvs3u6bu+kZPdTWDMve7G1HWUe8qcNxWy1sPEJ9zNBmDL5xAS5p6s00bAyOtg7l/d5zofD1UVsOY9/+c3IQ3yMhpu73mGe9oHiO8A+Y2MAQmNgN5nwpYvoDQXup3iqp7AVeNMesndRF+7pOFnB1wAF/8bPv87FGRC2wEuuL06yZUc+p7jztFrbO13djCZqyCxk7upl+bBx3dB625w6u+b/l2AaysoKwCtarxdojFrP3ABIK7ND7tWE1kgMA3kl5SjQEJUOJm5JWTmlVBcVsmjn27k6y21r4y+YGhHpl4yBFXllQXbGd41qeVNsbB7tXuS7fYDSzEbZ7l66ZG/dOvzH4duJ7sqlDeucNt+/on7zy0CX0519dvXfwWfPeDqnvccYDprCYE2/WF3I1Obdz0ZErvA8pcb7mvT/8DnbMxJN7l0D7rEXbP6nD/7yP1e+76r4ulyoqtT9xXfAX72IUQmQMbiujfqE38DHY51pYTXL4eOw1xdfc42+Kf3lrSkbq6KqN9ECAmBgizYONOlZeYfYMscuOodaJUGVVWw7L+w/WvoOx4SOrjeNHHtXENrfetmwBf/B6fc5o43FghMQ+c89iWrduQxaXgaM1ZmUlBa+5LzE7onEx4WwiOXDKnpn39U+e5L19CY0qvhvvRFkNgZ4tu6Yn50EtzvPSneuQNCw2uf2KHxboUAebtgqjcvUdtjXPXKV4+49dBId96C2l5TdD354NUgvqrrmKNbw5DL4evH3fahV7mn58XP1z1+9N3uJpmzHVAXJC54FjoMdXnM3uICypr3oHAvDL7EVZGk9oO2/V39fXgU5O2Ef42Bs//u6qfr27XCPVUXZLmb7KT/1rY5lJfAX7wJ+KJbw60bG35n1SpKXdAJCTu8VWDmoCwQBLmyiioqq5ToiFD25JWQEB1O33saaVzzbH3wKH6Cyv4OHh3iGht/txbKCmu78WUsgedOd8uT/gtvXtXw833OdjfSihKIiHU34b7nwLCfQZcTYPMc+OZJ2L+t8aqQalOWwOPDGt8XmwrnPQWvXFS7LSHN1QMPusTdwJN7umqOhPbw2DDXW+Xil6DLSa4nSmofeOtqV5d9vRdg8nbC7jXu6b2xp2R/y/7OK40I9D27+a9vDipgI4tFZBzwT9yrKp9T1Qfr7e8MvAQkesfcoaqNNKGbQ5FbVM7ewlKen/cdry/cztDOSSzZtr9m/73n9CcuMozfv72CWb89hfdX7KJvu4bz8Rw29evHl/0XTr/H9foAV80SEu56jZzxR3hhnKvnDgmDwZe5boUbZ8KxV7t65xG/cNUGn9zjnnBH/AIWPO3Olb/L1RNvnuO69fWfCCted/tikuHtXzSexuoeHBFxro4XXBe++t36wAWILie6qqAFT9VuT+oGKT2h7UD3JJ7cC/a56au5bbOrMw716fl1+ZuuxKCVrvGyvmMudvX+HYdBXCqcdrvb3mahCyrVEjq4n0Bp3c39mKOO30oEIhIKbADGAhm4l9lfpqprfI55Flimqk+JSH9ghqp2Pdh5rUTw/XKLy6msUk75vzl1qnx8dU+J5b0pJxEfFU5RWQUxEX54JljwjKt7P/V2Vz8+5y8w+g9w6m3wr9Nd3+pWnWHiY643ylMn1H72lN+76oeDiU5yN8mFz7r19oPdk3pVJZTVe/F7aARUlrmGw2Muqu3VkdwTLn4Rnh7lgsn+rS6gjP8H/NFr5PPthjjO6+64/RtXHRQR66pKHurp9ncf7YJYhyGum2VVhbvxb5rt+rWP8AlA+za7IJjU9eD5rKpypXkvzzUAAB6bSURBVIXETgc/zpiDCFSJYCSwSVW3eIl4HZgI+LZkKVA9r28roPFpJc33qqxSpi1Jp12raK59cRERYSEUldX2i3788qF0TIwmMiyUNbvyagZzAT88CFRVuT7UjT29bpgJ4dFusM1HXk+LLXPdTQ+FOX929cw56W5f7nb4z8SG5zlQEDjxNzD/Meh8oht9WR0ETr8bVrzlnvbPedj1OsnfBWfcD9N+Vls/P2iSq/7pMsrVT1/jPenftQvCotyTf+9xbtuFz7v+6Rc+50aVZq6sbVDuP6E2TXGpcNkbsGs5nHZH7fYonymre5/ZMC9NHRgUEmJBwPiVP0sEFwHjVPUX3vpVwHGqOsXnmPbAJ0ASEAucoapLGjnXZGAyQOfOnYdt29b4rJTBKK+knOnLd7Ijp7hOl89qj1wyBICJQzo0vaePqnt69m00hdon+OUvw+w/uiqayHgY/vPam1r1U/Rx17ub9KBL4NvX3LYhVzQcIOMrNAKu/cQFhpLc2u2DLq2t1rk32/XyaT/Ijej87E/e9v3uhnkgmStdkDrpJlctU17s8hmIunRjAiAgjcVNDAS/89LwDxE5AXgeGKiqjY9gIrirhvYVlFJUVkmn1rU3r5+/uIjP1jUc4DO4UyIdE6N48gqfBsuV0yAqEdoNdDfp0X9wvUrK8t3w/WrLX3ODa25c5ursFz8Pgy+HJ0YcOHF9zna9Vny7Ow67xg2zn9rXDcG/YQE8PMDt63oyTHjM1XFv+NhV8yT3cNUkOdvhkdqXx3DqHa6hNibZvT/a1/2tXQC5OxNjzIEFqmpoB+Bbnk3ztvm6FhgHoKpfi0gUkAIcZGhj8Dr/yflszy5i8/87m7cWp/PV5n0s+i6b4V2SiAoPZdzAdry9NIM7z+pX83IXwD35isDb3tD0HmNg86duHplPH3CNouOnuqqRnO1ucBLAo0NrzzHv4YMnrv4w+dBIOO1O1y3x19+4xtfIOFdSaNPPBYlqx1xU97OJneuuh0W4OWIac9umxrcbY5rMn4FgEdBLRLrhAsClwOX1jtkOjAFeFJF+QBSQ5cc0HbVUle3ZRQCMffhztmTVznMyflB7fnZSNygv5sqsh6HVjUBr13Xy29dgzl/hnKm1J9vr9WD56PduCHx8e/jwd9+fiJ9Od1MUzH/U9W/PWgf/Pb/hPC0/+bObHiDeveC95jfAWX/74ZnvfMKB9/2IIffGGMdvgUBVK0RkCjAT1zX0BVVdLSIPAItVdTpwC/AvEfktruH4Gj3aBjb4UUFpBSszcjm2SyIfrcykv2wlSfL5Kqtu9ciAmBz31L/kRVjybzcY6fR74R+9aw9686e1y74TYJ37qBtc9fSouhe/7A1XXfPCT9z65M9dTxiAU251vxM6uO6QWuUCyfqPXC+ZLie67pM/xvnPugFaV7/fcKpfY8xhZQPKjkCqiiqM+Mts9hWW1WzfGuUKVF1LXgXgzAFt2bxmCbMjf++6W274yDWKgusmueZdtzzyOlj4TOMXu22zu9EW7HH99ec+CKf/oXZ+lJXT3Bw2jb08o75vnoaPb4fbtkBs8iHl3RjjHzay+CgyZ90efvbiogbbbxvbgxu+dFPyDi55lhkTQ+iw8klk59IDnyw21c21MvRKN3VA6+6w/kPX1fKzP7tj/ph74M//UKpu0Fi4vUTGmCONvbP4KFFRWcVjn3n19yhhVFLh/RNN7lcOXlf43wwsp+PMGxo/yS8/g7d/6aa9PekmOO46t/3XX7sG4x1L3RQGG2fXnTP9cBCxIGDMUcgCwREiK7+Uv89cx9LtOfRuG8eLaR/SYfUzfH7JWgorhPBvH6k59hcxXkRI7OJmc4xMcFPmSqibhuDaWW7K4mE/q71A9RiC6jdKXTuzmXJmjDnSWSAIoNKKSv779TbatYpiyqvLara/eEEHOvzb1emf+s0v3av08na4+Xb2rK0dXPXzj103zZAQNyVye29639hk98o9Y4xpAgsEAVJeWcXrc5YQ//lf+EPF5YCbIfNP5/Smw799qvGq57gJi3Z9/Td/6ubJadW57gRjgyY1X+KNMS2KBYJmlltcTmiI8NTcTQybdxunhy1nlXYlqdtgTumeyLBF5zX+weQebjqEPuPdCz8O9tJwY4z5ASwQNCNVZfD9n3CsbOBP4f9mQKibM+lP4S+6+Vn3xLvpHvqMd/3xd6+unfO+uo4/JAR+Mdu92MMYYw4DCwTN6Lu9bjTwrWFvMiCkkYnzyvLhirfd9MYi8NWjMOsety8suva46vn7jTHmMLBA4A+qbu79fhOojG3D7CdvYmDZCpaU9SSBq+gd6jPl0sCLYOs891rDgRdCrzNq950wxY3SXfxv1xXUGGP8wAaU+UP2FjdhW+seZCYfR7uNrzY8JqqVm2r5D5lu/v7qfwd7h6sxxg8ONqDMKpoPt+m/gVcvASC7uJKsLctZpr0puW4B9Du39riJT8I9+1wQABcALAgYYwLAqoYOp53LYel/ala3FYbRRbazrc0Yotr3hQtfgIyFsOxl6H4qhNrXb4wJPLsTHS7FOfDsqTWrZRrK0BA3V37MMV5pLCwCuo5yP8YYc4SwqqHDIWs9/K12ds6BJc/xcUhtUIjqPToQqTLGmCaxQHA4fPH3msWJpQ9QQAxxvbyn/hsWNXy9ojHGHEGsauiHUoVvnnLv8b1hEVtXzaPryrdqdrfuNpg/DerGCUPPhKprIToxgIk1xpjvZ4HghygtgOfGuFc0ArtWf8miNx+iq8+3+PwvTiUkpLr3jwUBY8yRz69VQyIyTkTWi8gmEbmjkf0Pi8hy72eDiOT4Mz0/2qppNUEA4Ku3pnJx2BfMqhzGtWW3sGDgfT5BwBhjjg5+KxGISCjwBDAWN5POIhGZrqprqo9R1d/6HP8bYKi/0nNYZK2vs3pRyFwAVoX2Y0P8KDqcfnwAEmWMMT+OP0sEI4FNqrpFVcuA14GJBzn+MuA1P6bnx8nPdO/vbXsMXDubvE6nA1CF8Ktb/8yXvz+dTq1jApxIY4z54fwZCDoC6T7rGd62BkSkC9AN+OwA+yeLyGIRWZyVlXXYE9ok034OhXsgNBw6jWCZl4zCU/9IVFxSYNJkjDGHwZHSffRSYJqqVja2U1WfVdXhqjo8NTW1mZPm2bkcgKreZ/G/pRlkFVYAEN+6fWDSY4wxh4k/ew3tADr5rKd52xpzKXCAt7EfAUpyobwQTryRZ3Qif3vzW9pzMaf3TqZ1v3MCnTpjjPlR/BkIFgG9RKQbLgBcClxe/yAR6QskAV/7MS2HLmMxFO8HYGvCMB6avhmAXSQTf/kLEHqkFKqMMebQ+C0QqGqFiEwBZgKhwAuqulpEHgAWq+p079BLgdf1SJwPO2+XGzfgeX5dBAIsuGsMpeVVhFsQMMa0AH4dUKaqM4AZ9bbdW2/9j/5MwyFRhfJi+PB3NZsqCOXldZV0ah1H24SoACbOGGMOLxtZ3Ji5f4XP/1ZnUxiVKCH0ahMXoEQZY4x/WCDwVVXpXjH55T9qNs044TVi5j3It9qdq47vwo1jegUwgcYYc/hZIPC18ZM6QQDgy8I0Xiu/naevHMaNA9oi9hYxY0wLY62dvvZudL9Tervfx/6UTXsKGNE1iXED21kQMMa0SFYi8JWz3b1UfsoiAP7xyXoWbd3E+UMbHRBtjDEtgpUIfOVsh8TOAGzak89jn7lXTZ7cKyWQqTLGGL+yEgFA4V73O2cbJPcE4IypXwBwy9jeXHBsWqBSZowxfmeBAODvPdzv8BjoMYaqqtqxbaf3axOgRBljTPOwqiHfAc3lRZDYmeyiMgDuPKsvAzq0ClDCjDGmeVggKKw3rXViZ3bnlQDQJdneL2CMafksEPi8ehIgN7I94x+dB0Abm0rCGBMELBBkb6mz+u7W0JrlNvGRzZ0aY4xpdhYI8nfXWX1l+f6a5TbxViIwxrR81muoILNmsTI8ng27C/jL+QMZf0x7IsIsThpjWj670/mUCArD3buHR/dpQ2JMRKBSZIwxzcoCQUGmGz8A7AtNJTo8lHbWSGyMCSJWNVSwB/qcDdFJPL5rNF3DYgkJscnljDHBw68lAhEZJyLrRWSTiNxxgGMmicgaEVktIq/6Mz0NVFVCfiYkdoLxD7E0J5buKbHNmgRjjAk0v5UIRCQUeAIYC2QAi0Rkuqqu8TmmF3AncJKq7heR5p3PITcdqsqhdXeKyyrZtq+QCYM7NGsSjDEm0PxZIhgJbFLVLapaBrwOTKx3zC+BJ1R1P4Cq7vFjehra52YXpXUP1mXmUaXQv0NCsybBGGMCzZ+BoCOQ7rOe4W3z1RvoLSJficg3IjKusROJyGQRWSwii7Oysho75NDs2wxAVese3PLWtwD0b2+BwBgTXALdaygM6AWcBlwG/EtEEusfpKrPqupwVR2empp6eK684k345imIiGN9QTRbsgoBSEuKPjznN8aYo4Q/ew3tADr5rKd523xlAAtUtRz4TkQ24ALDIj+my/nfL93v5J5k5pUC8PavTrTXURpjgo4/SwSLgF4i0k1EIoBLgen1jnkXVxpARFJwVUVbaE6xqWR6s422b2XjB4wxwadJgUBEzheRVj7riSJy3sE+o6oVwBRgJrAWeFNVV4vIAyIywTtsJrBPRNYAc4DbVHXfoWTkB6ksr12OTWVXbgkikGqTzBljglBTq4buU9V3qldUNUdE7sM90R+Qqs4AZtTbdq/PsgK/836aT/WrKQGiEsjMLSY1LpLw0EA3mRhjTPNr6p2vseOO3lHJPi+jyS0u583FGbSzaiFjTJBqaiBYLCJTRaSH9zMVWOLPhPlVYe1whcxc1z5w7ahugUqNMcYEVFMDwW+AMuAN3MCwEuAGfyXK73yqhrZKGvGRYTai2BgTtJpUvaOqhUCjcwUdlYq89uhLXuG1+cl0Tq6wbqPGmKDV1F5Ds3wHeolIkojM9F+y/Kx4PyDQ52y27S+1l9QbY4JaU6uGUlQ1p3rFmxuoeSeIO5yKcyA6kUqEjP1FdG5tM44aY4JXUwNBlYh0rl4Rka6A+iNBzaJ4P0QlsjOnmPJKtRKBMSaoNbUL6B+AeSLyOSDAycBkv6XK30pyIDqJ9OwiALq0tkBgjAleTW0s/lhEhuNu/stwA8mK/Zkwv/KqhrZ5gaCzlQiMMUGsSYFARH4B3ISbOG45cDzwNXC6/5LmR8X7IakL2/YVER4qtG9lM44aY4JXU9sIbgJGANtUdTQwFMg5+EeOYCU5EJXI9uxC0pJiCLV3FBtjglhTA0GJqpYAiEikqq4D+vgvWX5UVeVVDSWxbV8Rna19wBgT5JraWJzhjSN4F5glIvuBbf5Llh9lLAStRFP7sH1fEcO6JAU6RcYYE1BNbSw+31v8o4jMAVoBH/stVf609n0Ii2J/pzPIL/3aSgTGmKD3g2cQVdXP/ZGQZpO3E1p1YkdhKACdLBAYY4Jc8E3AX14M4dHsLXSvp0yJiwhwgowxJrCCMBAUQUQs+wvLAGgda28lM8YEN78GAhEZJyLrRWSTiDSYvVRErhGRLBFZ7v38wp/pAVwgCI8muyYQWInAGBPc/PaWMREJBZ4AxgIZwCIRma6qa+od+oaqTvFXOhooL4a4tuwrLCM8VEiIOnpftGaMMYeDP0sEI4FNqrpFVctwL7SZ6MfrNU11iaCgjKSYCHsPgTEm6PkzEHQE0n3WM7xt9V0oIitEZJqIdGrsRCIyWUQWi8jirKysxg5pOq+xeF9hmVULGWMMgW8sfh/oqqqDgFnAS40dpKrPqupwVR2empr6465YXgThMWQXllogMMYY/BsIdgC+T/hp3rYaqrpPVUu91eeAYX5Mj1NeDOEx7M4rpW1ClN8vZ4wxRzp/BoJFQC8R6SYiEcClwHTfA0Skvc/qBGCtH9MDlRVQWUZVWDS780po38oCgTHG+K3LjKpWiMgUYCYQCrygqqtF5AFgsapOB24UkQlABZANXOOv9ACuWggoqIqgokppn2jTTxtjjF/7TqrqDGBGvW33+izfCdzpzzTUUe7epZNT4aaX6GAlAmOMCXhjcfPySgTZpS7+dbASgTHGBFsgcCWC/eWuRNAm3qaXMMaYIAsErkSQV+m6jSZEhwcyNcYYc0QIrkBQVgBAbmU4UeEhhIcGV/aNMaYxwXUnLMkDYH9FNPFRVhowxhgItkBQ6gLB3ooo4m2yOWOMAYIuEOQDkFUWbiUCY4zxBFcg8KqG9pRF2vTTxhjjCa5AUJoH4bHkllZZ1ZAxxniCKxCU5EJUAvklFcRHWtWQMcZAsAWC0jyIjHeBwEoExhgDBFsgKMmjKjKB4vJKayw2xhhPcAWC0jwqw+MArERgjDGeIAsE+ZSHWSAwxhhfwRUIKkooxeYZMsYYX8EVCCrLKcMFACsRGGOME1yBoKKUUnVTUCdYY7ExxgB+DgQiMk5E1ovIJhG54yDHXSgiKiLD/ZkeKsspVVcSsBKBMcY4fgsEIhIKPAGcBfQHLhOR/o0cFw/cBCzwV1pqVJZSUuVKBNZ91BhjHH+WCEYCm1R1i6qWAa8DExs57k/A34ASP6YFVKGyjOLK6kBgJQJjjAH/BoKOQLrPeoa3rYaIHAt0UtUPD3YiEZksIotFZHFWVtahpaayHIAiDbWX0hhjjI+A3Q1FJASYCtzyfceq6rOqOlxVh6emph7aBSvLACiqCLFqIWOM8eHPQLAD6OSznuZtqxYPDATmishW4Hhgut8ajKsDQVUYsRGhfrmEMcYcjfwZCBYBvUSkm4hEAJcC06t3qmquqqaoaldV7Qp8A0xQ1cV+SY0XCEqqQomOsPYBY4yp5rdAoKoVwBRgJrAWeFNVV4vIAyIywV/XPaDqEkFlKNHh1j5gjDHV/PporKozgBn1tt17gGNP82daqHCBoLgyhOhYqxoyxphqwfNoXNNGEEp0uAUCY4ypFkSBoBSAwsoQoiwQGGNMjSAKBN44ggorERhjjK8gCgSuaqigMpRo6z5qjDE1gicQVLiqoYJysaohY4zxETyBwKsayq8ItUBgjDE+gigQuBJBOWHWRmCMMT6CKBC4EkEZYTagzBhjfATPHdFrIygjzBqLjTHGR/AEAq/XULmGWRuBMcb4CKJA4Fs1ZIHAGGOqBVEg8GkstqohY4ypETyBIKEj+9udRCkRViIwxhgfwTMx/8ALWCQnUr51ibURGGOMj+ApEQDF5ZUAVjVkjDE+gioQlFQHAisRGGNMDb8GAhEZJyLrRWSTiNzRyP7rRWSliCwXkXki0t+f6Skus0BgjDH1+S0QiEgo8ARwFtAfuKyRG/2rqnqMqg4B/g+Y6q/0ABSXVwFWNWSMMb78WSIYCWxS1S2qWga8Dkz0PUBV83xWYwH1Y3pq2ggiw4KqRswYYw7Kn72GOgLpPusZwHH1DxKRG4DfARHA6X5MDyXllUSFhyAi/ryMMcYcVQL+aKyqT6hqD+B24O7GjhGRySKyWEQWZ2VlHfK1issqrX3AGGPq8Wcg2AF08llP87YdyOvAeY3tUNVnVXW4qg5PTU095AQVl1sgMMaY+vwZCBYBvUSkm4hEAJcC030PEJFePqvjgY1+TA/F5ZVEWUOxMcbU4bc2AlWtEJEpwEwgFHhBVVeLyAPAYlWdDkwRkTOAcmA/cLW/0gNQYlVDxhjTgF+nmFDVGcCMetvu9Vm+yZ/Xr8+qhowxpqGANxY3p+LyShtDYIwx9QRXICirtAnnjDGmnqAKBKUVVRYIjDGmnqAKBGUVVUSEBlWWjTHmewXVXbG0oooIm17CGGPqCKq7YnllFRGhNr2EMcb4CqpAUGYlAmOMaSCo7opllRYIjDGmvqC5K1ZWKZVVSrg1FhtjTB1Bc1csr3QvpbESgTHG1BU0d8XSCi8QWInAGGPqCJq7opUIjDGmcUFzVyyzEoExxjQqaO6KNYHASgTGGFNH0NwVq6uGrNeQMcbUFTR3xVIrERhjTKOC5q5Y01hsJQJjjKnDr3dFERknIutFZJOI3NHI/t+JyBoRWSEin4pIF3+lxdoIjDGmcX67K4pIKPAEcBbQH7hMRPrXO2wZMFxVBwHTgP/zV3rKrPuoMcY0yp93xZHAJlXdoqplwOvARN8DVHWOqhZ5q98Aaf5KjDUWG2NM4/x5V+wIpPusZ3jbDuRa4KPGdojIZBFZLCKLs7KyDikxNo7AGGMad0TcFUXkSmA48PfG9qvqs6o6XFWHp6amHtI1rNeQMcY0LsyP594BdPJZT/O21SEiZwB/AE5V1VJ/Jaa8UgErERhjTH3+vCsuAnqJSDcRiQAuBab7HiAiQ4FngAmqusePabFeQ8YYcwB+uyuqagUwBZgJrAXeVNXVIvKAiEzwDvs7EAe8JSLLRWT6AU73o5VVVAIWCIwxpj5/Vg2hqjOAGfW23euzfIY/r++rumoo3N5ZbIwxdQTN43GX5BjOGtiOyLDQQCfFGGOOKH4tERxJfjKgHT8Z0C7QyTDGmCNO0JQIjDHGNM4CgTHGBDkLBMYYE+QsEBhjTJCzQGCMMUHOAoExxgQ5CwTGGBPkLBAYY0yQE1UNdBp+EBHJArYd4sdTgL2HMTlHA8tzcLA8B4cfk+cuqtroPP5HXSD4MURksaoOD3Q6mpPlOThYnoODv/JsVUPGGBPkLBAYY0yQC7ZA8GygExAAlufgYHkODn7Jc1C1ERhjjGko2EoExhhj6rFAYIwxQS5oAoGIjBOR9SKySUTuCHR6DhcReUFE9ojIKp9trUVklohs9H4nedtFRB71voMVInJs4FJ+6ESkk4jMEZE1IrJaRG7ytrfYfItIlIgsFJFvvTzf723vJiILvLy9ISIR3vZIb32Tt79rINN/qEQkVESWicgH3nqLzi+AiGwVkZXee9wXe9v8+rcdFIFAREKBJ4CzgP7AZSLSP7CpOmxeBMbV23YH8Kmq9gI+9dbB5b+X9zMZeKqZ0ni4VQC3qGp/4HjgBu/fsyXnuxQ4XVUHA0OAcSJyPPA34GFV7QnsB671jr8W2O9tf9g77mh0E7DWZ72l57faaFUd4jNmwL9/26ra4n+AE4CZPut3AncGOl2HMX9dgVU+6+uB9t5ye2C9t/wMcFljxx3NP8B7wNhgyTcQAywFjsONMg3zttf8nQMzgRO85TDvOAl02n9gPtO8m97pwAeAtOT8+uR7K5BSb5tf/7aDokQAdATSfdYzvG0tVVtV3eUtZwJtveUW9z14VQBDgQW08Hx71STLgT3ALGAzkKOqFd4hvvmqybO3PxdIbt4U/2iPAL8Hqrz1ZFp2fqsp8ImILBGRyd42v/5tB83L64OVqqqItMg+wiISB7wN3KyqeSJSs68l5ltVK4EhIpIIvAP0DXCS/EZEzgH2qOoSETkt0OlpZqNUdYeItAFmicg6353++NsOlhLBDqCTz3qat62l2i0i7QG833u87S3mexCRcFwQeEVV/+dtbvH5BlDVHGAOrmokUUSqH+h881WTZ29/K2BfMyf1xzgJmCAiW4HXcdVD/6Tl5reGqu7wfu/BBfyR+PlvO1gCwSKgl9fjIAK4FJge4DT503Tgam/5alwdevX2n3o9DY4Hcn2Km0cNcY/+zwNrVXWqz64Wm28RSfVKAohINK5NZC0uIFzkHVY/z9XfxUXAZ+pVIh8NVPVOVU1T1a64/6+fqeoVtND8VhORWBGJr14GfgKswt9/24FuGGnGBpizgQ24etU/BDo9hzFfrwG7gHJc/eC1uLrRT4GNwGygtXes4HpPbQZWAsMDnf5DzPMoXD3qCmC593N2S843MAhY5uV5FXCvt707sBDYBLwFRHrbo7z1Td7+7oHOw4/I+2nAB8GQXy9/33o/q6vvVf7+27YpJowxJsgFS9WQMcaYA7BAYIwxQc4CgTHGBDkLBMYYE+QsEBhjTJCzQGBMMxKR06pn0jTmSGGBwBhjgpwFAmMaISJXevP/LxeRZ7wJ3wpE5GHvfQCfikiqd+wQEfnGmw/+HZ+54nuKyGzvHQJLRaSHd/o4EZkmIutE5BXxnSTJmACwQGBMPSLSD7gEOElVhwCVwBVALLBYVQcAnwP3eR/5D3C7qg7Cje6s3v4K8IS6dwiciBsBDm621Jtx78bojptXx5iAsdlHjWloDDAMWOQ9rEfjJvmqAt7wjnkZ+J+ItAISVfVzb/tLwFvefDEdVfUdAFUtAfDOt1BVM7z15bj3Sczzf7aMaZwFAmMaEuAlVb2zzkaRe+odd6jzs5T6LFdi/w9NgFnVkDENfQpc5M0HX/2+2C64/y/VM19eDsxT1Vxgv4ic7G2/CvhcVfOBDBE5zztHpIjENGsujGkiexIxph5VXSMid+PeEhWCm9n1BqAQGOnt24NrRwA3LfDT3o1+C/Azb/tVwDMi8oB3joubMRvGNJnNPmpME4lIgarGBTodxhxuVjVkjDFBzkoExhgT5KxEYIwxQc4CgTHGBDkLBMYYE+QsEBhjTJCzQGCMMUHu/wNq2Cy6KNJkCQAAAABJRU5ErkJggg==\n",
            "text/plain": [
              "<Figure size 432x288 with 1 Axes>"
            ]
          },
          "metadata": {
            "tags": [],
            "needs_background": "light"
          }
        }
      ]
    },
    {
      "cell_type": "code",
      "metadata": {
        "colab": {
          "base_uri": "https://localhost:8080/"
        },
        "id": "o5sfY2VBvRxw",
        "outputId": "fd6d8be1-d310-4127-9c81-524c262af332"
      },
      "source": [
        "\n",
        "predictions = model.predict_classes(x_testcnn)"
      ],
      "execution_count": 37,
      "outputs": [
        {
          "output_type": "stream",
          "text": [
            "/usr/local/lib/python3.7/dist-packages/keras/engine/sequential.py:450: UserWarning: `model.predict_classes()` is deprecated and will be removed after 2021-01-01. Please use instead:* `np.argmax(model.predict(x), axis=-1)`,   if your model does multi-class classification   (e.g. if it uses a `softmax` last-layer activation).* `(model.predict(x) > 0.5).astype(\"int32\")`,   if your model does binary classification   (e.g. if it uses a `sigmoid` last-layer activation).\n",
            "  warnings.warn('`model.predict_classes()` is deprecated and '\n"
          ],
          "name": "stderr"
        }
      ]
    },
    {
      "cell_type": "code",
      "metadata": {
        "colab": {
          "base_uri": "https://localhost:8080/"
        },
        "id": "fHbShhLDvrmH",
        "outputId": "51a32443-1eff-47c9-e85e-a2a9d44ec04d"
      },
      "source": [
        "predictions"
      ],
      "execution_count": 40,
      "outputs": [
        {
          "output_type": "execute_result",
          "data": {
            "text/plain": [
              "array([2, 2, 1, ..., 4, 1, 4])"
            ]
          },
          "metadata": {
            "tags": []
          },
          "execution_count": 40
        }
      ]
    },
    {
      "cell_type": "code",
      "metadata": {
        "colab": {
          "base_uri": "https://localhost:8080/"
        },
        "id": "9vH2vedFvt_5",
        "outputId": "5f33a85f-9551-4ea7-f3df-68418f80abaa"
      },
      "source": [
        "y_test"
      ],
      "execution_count": 16,
      "outputs": [
        {
          "output_type": "execute_result",
          "data": {
            "text/plain": [
              "array([2, 4, 1, ..., 4, 1, 4])"
            ]
          },
          "metadata": {
            "tags": []
          },
          "execution_count": 16
        }
      ]
    },
    {
      "cell_type": "code",
      "metadata": {
        "id": "plKFIfuPv5qt"
      },
      "source": [
        "\n",
        "new_Ytest = y_test.astype(int)"
      ],
      "execution_count": 17,
      "outputs": []
    },
    {
      "cell_type": "code",
      "metadata": {
        "colab": {
          "base_uri": "https://localhost:8080/"
        },
        "id": "ZrXYkj7Nv9kk",
        "outputId": "407c3ecf-41f0-409d-90f8-039d5aac1cb0"
      },
      "source": [
        "new_Ytest\n"
      ],
      "execution_count": 18,
      "outputs": [
        {
          "output_type": "execute_result",
          "data": {
            "text/plain": [
              "array([2, 4, 1, ..., 4, 1, 4])"
            ]
          },
          "metadata": {
            "tags": []
          },
          "execution_count": 18
        }
      ]
    },
    {
      "cell_type": "code",
      "metadata": {
        "colab": {
          "base_uri": "https://localhost:8080/"
        },
        "id": "_flEUVPzwAL4",
        "outputId": "4073c627-ab12-453f-a2a1-7cd82324f128"
      },
      "source": [
        "\n",
        "from sklearn.metrics import classification_report\n",
        "report = classification_report(new_Ytest, predictions)\n",
        "print(report)"
      ],
      "execution_count": 19,
      "outputs": [
        {
          "output_type": "stream",
          "text": [
            "              precision    recall  f1-score   support\n",
            "\n",
            "           0       0.90      0.86      0.88       200\n",
            "           1       0.70      0.81      0.75       122\n",
            "           2       0.89      0.80      0.84       242\n",
            "           3       0.76      0.78      0.77       234\n",
            "           4       0.89      0.89      0.89       304\n",
            "           5       0.77      0.81      0.79       231\n",
            "           6       0.86      0.86      0.86       206\n",
            "           7       0.89      0.86      0.88       195\n",
            "\n",
            "    accuracy                           0.84      1734\n",
            "   macro avg       0.83      0.83      0.83      1734\n",
            "weighted avg       0.84      0.84      0.84      1734\n",
            "\n"
          ],
          "name": "stdout"
        }
      ]
    },
    {
      "cell_type": "code",
      "metadata": {
        "colab": {
          "base_uri": "https://localhost:8080/"
        },
        "id": "oqlScGNSwDm2",
        "outputId": "e8e03317-fc12-4516-e791-afedfc877424"
      },
      "source": [
        "\n",
        "from sklearn.metrics import confusion_matrix\n",
        "matrix = confusion_matrix(new_Ytest, predictions)\n",
        "print (matrix)"
      ],
      "execution_count": 20,
      "outputs": [
        {
          "output_type": "stream",
          "text": [
            "[[172  10   1  11   1   2   2   1]\n",
            " [  6  99   6   6   0   2   1   2]\n",
            " [  0   8 193   9  12  15   1   4]\n",
            " [  6  10   3 183   2  22   6   2]\n",
            " [  1   4   3   5 270   6   9   6]\n",
            " [  1   6   5  19   5 187   7   1]\n",
            " [  3   2   2   3   9   5 177   5]\n",
            " [  2   2   5   6   6   3   3 168]]\n"
          ],
          "name": "stdout"
        }
      ]
    },
    {
      "cell_type": "code",
      "metadata": {
        "colab": {
          "base_uri": "https://localhost:8080/"
        },
        "id": "8UYn63ODwKwu",
        "outputId": "b2c4f429-4d6c-4611-fde5-911ee0e5281c"
      },
      "source": [
        "import os\n",
        "model_name = 'Emotion_Voice_Detection_Model.h5'\n",
        "save_dir = '/content/drive/My Drive/Ravdess_model'\n",
        "# Save model and weights\n",
        "if not os.path.isdir(save_dir):\n",
        "    os.makedirs(save_dir)\n",
        "model_path = os.path.join(save_dir, model_name)\n",
        "model.save(model_path)\n",
        "print('Saved trained model at %s ' % model_path)"
      ],
      "execution_count": 21,
      "outputs": [
        {
          "output_type": "stream",
          "text": [
            "Saved trained model at /content/drive/My Drive/Ravdess_model/Emotion_Voice_Detection_Model.h5 \n"
          ],
          "name": "stdout"
        }
      ]
    },
    {
      "cell_type": "code",
      "metadata": {
        "colab": {
          "base_uri": "https://localhost:8080/"
        },
        "id": "BJubZVnwwODI",
        "outputId": "54a8b086-1bd6-4047-bcdd-78c7c09857d3"
      },
      "source": [
        "loaded_model = keras.models.load_model('/content/drive/My Drive/Ravdess_model/Emotion_Voice_Detection_Model.h5')\n",
        "loaded_model.summary()"
      ],
      "execution_count": 22,
      "outputs": [
        {
          "output_type": "stream",
          "text": [
            "Model: \"sequential\"\n",
            "_________________________________________________________________\n",
            "Layer (type)                 Output Shape              Param #   \n",
            "=================================================================\n",
            "conv1d (Conv1D)              (None, 40, 128)           768       \n",
            "_________________________________________________________________\n",
            "activation (Activation)      (None, 40, 128)           0         \n",
            "_________________________________________________________________\n",
            "dropout (Dropout)            (None, 40, 128)           0         \n",
            "_________________________________________________________________\n",
            "max_pooling1d (MaxPooling1D) (None, 5, 128)            0         \n",
            "_________________________________________________________________\n",
            "conv1d_1 (Conv1D)            (None, 5, 128)            82048     \n",
            "_________________________________________________________________\n",
            "activation_1 (Activation)    (None, 5, 128)            0         \n",
            "_________________________________________________________________\n",
            "dropout_1 (Dropout)          (None, 5, 128)            0         \n",
            "_________________________________________________________________\n",
            "flatten (Flatten)            (None, 640)               0         \n",
            "_________________________________________________________________\n",
            "dense (Dense)                (None, 8)                 5128      \n",
            "_________________________________________________________________\n",
            "activation_2 (Activation)    (None, 8)                 0         \n",
            "=================================================================\n",
            "Total params: 87,944\n",
            "Trainable params: 87,944\n",
            "Non-trainable params: 0\n",
            "_________________________________________________________________\n"
          ],
          "name": "stdout"
        }
      ]
    },
    {
      "cell_type": "code",
      "metadata": {
        "colab": {
          "base_uri": "https://localhost:8080/"
        },
        "id": "Dx2PEX6xwQbe",
        "outputId": "dbb000e6-4fe0-418b-c228-56b3f67cb20e"
      },
      "source": [
        "loss, acc = loaded_model.evaluate(x_testcnn, y_test)\n",
        "print(\"Restored model, accuracy: {:5.2f}%\".format(100*acc))"
      ],
      "execution_count": 23,
      "outputs": [
        {
          "output_type": "stream",
          "text": [
            "55/55 [==============================] - 0s 2ms/step - loss: 0.5122 - accuracy: 0.8356\n",
            "Restored model, accuracy: 83.56%\n"
          ],
          "name": "stdout"
        }
      ]
    },
    {
      "cell_type": "code",
      "metadata": {
        "id": "dvkiXj9gp-WP",
        "colab": {
          "base_uri": "https://localhost:8080/"
        },
        "outputId": "e63a73d0-9088-4657-8ead-8ccc852e689c"
      },
      "source": [
        "data, sampling_rate = librosa.load('/content/drive/My Drive/Ravdess/03-01-08-02-02-02-01.wav', res_type='kaiser_fast')\n",
        "mfccs = np.mean(librosa.feature.mfcc(y=data, sr=sampling_rate, n_mfcc=40).T, axis=0)\n",
        "x = np.expand_dims(mfccs, axis=-1)\n",
        "x = np.expand_dims(x, axis=0)\n",
        "predictions = loaded_model.predict_classes(x)\n",
        "print( \"Prediction is\", \" \",predictions)"
      ],
      "execution_count": 86,
      "outputs": [
        {
          "output_type": "stream",
          "text": [
            "Prediction is   [7]\n"
          ],
          "name": "stdout"
        },
        {
          "output_type": "stream",
          "text": [
            "/usr/local/lib/python3.7/dist-packages/keras/engine/sequential.py:450: UserWarning: `model.predict_classes()` is deprecated and will be removed after 2021-01-01. Please use instead:* `np.argmax(model.predict(x), axis=-1)`,   if your model does multi-class classification   (e.g. if it uses a `softmax` last-layer activation).* `(model.predict(x) > 0.5).astype(\"int32\")`,   if your model does binary classification   (e.g. if it uses a `sigmoid` last-layer activation).\n",
            "  warnings.warn('`model.predict_classes()` is deprecated and '\n"
          ],
          "name": "stderr"
        }
      ]
    },
    {
      "cell_type": "code",
      "metadata": {
        "id": "uhRy7qsikykz"
      },
      "source": [
        ""
      ],
      "execution_count": 86,
      "outputs": []
    },
    {
      "cell_type": "code",
      "metadata": {
        "id": "LqURVRQ2ZKsC"
      },
      "source": [
        ""
      ],
      "execution_count": null,
      "outputs": []
    }
  ]
}
=======
 "cells": [
  {
   "cell_type": "code",
   "execution_count": null,
   "metadata": {
    "colab": {
     "base_uri": "https://localhost:8080/"
    },
    "id": "igbWzvh7glJA",
    "outputId": "4d63d44b-a94b-48d4-e722-eafe1594f9fe"
   },
   "outputs": [],
   "source": [
    "import time\n",
    "import os\n",
    "import librosa\n",
    "path = 'features'\n",
    "lst = []\n",
    "\n",
    "start_time = time.time()\n",
    "\n",
    "for subdir, dirs, files in os.walk(path):\n",
    "    for file in files:\n",
    "        try:\n",
    "            if int(file[7:8]) in [2,3,4,5]:\n",
    "                X, sample_rate = librosa.load(os.path.join(subdir,file), res_type='kaiser_fast')\n",
    "                mfccs = np.mean(librosa.feature.mfcc(y=X, sr=sample_rate, n_mfcc=40).T,axis=0) \n",
    "                file = int(file[7:8]) - 1 \n",
    "                arr = mfccs, file\n",
    "                lst.append(arr)\n",
    "        except ValueError:\n",
    "            continue\n",
    "\n",
    "print(\"--- Data loaded. Loading time: %s seconds ---\" % (time.time() - start_time))\n"
   ]
  },
  {
   "cell_type": "code",
   "execution_count": null,
   "metadata": {
    "colab": {
     "base_uri": "https://localhost:8080/",
     "height": 166
    },
    "id": "dwKRS8FLguSh",
    "outputId": "b2f4ef9a-0c3e-43e1-f289-9b3bac47a088"
   },
   "outputs": [],
   "source": [
    " X, y = zip(*lst)"
   ]
  },
  {
   "cell_type": "code",
   "execution_count": null,
   "metadata": {
    "colab": {
     "base_uri": "https://localhost:8080/",
     "height": 235
    },
    "id": "3xePxgPVhUnc",
    "outputId": "cd13f76c-0fcd-43f2-8ed8-7f2105f784da"
   },
   "outputs": [],
   "source": [
    "\n",
    "import numpy as np\n",
    "X = np.asarray(X)\n",
    "y = np.asarray(y)\n",
    "\n",
    "\n",
    "X.shape, y.shape"
   ]
  },
  {
   "cell_type": "code",
   "execution_count": null,
   "metadata": {
    "colab": {
     "base_uri": "https://localhost:8080/",
     "height": 218
    },
    "id": "iAyghTZdhWg_",
    "outputId": "6feb2e6e-0df4-4d6b-ae8b-1eb8f04c9320"
   },
   "outputs": [],
   "source": [
    "import joblib\n",
    "\n",
    "X_name = 'X.joblib'\n",
    "y_name = 'y.joblib'\n",
    "save_dir = 'joblib_features'\n",
    "\n",
    "savedX = joblib.dump(X, os.path.join(save_dir, X_name))\n",
    "savedy = joblib.dump(y, os.path.join(save_dir, y_name))\n"
   ]
  },
  {
   "cell_type": "code",
   "execution_count": 23,
   "metadata": {
    "colab": {
     "base_uri": "https://localhost:8080/"
    },
    "id": "u-SidlfKrCn0",
    "outputId": "d4418127-091e-4b2a-e62c-f3114532385d"
   },
   "outputs": [
    {
     "data": {
      "text/plain": [
       "array([[-729.98016  ,   66.51589  ,   -0.9419847, ...,   -2.3733888,\n",
       "          -3.2043447,   -3.3631923],\n",
       "       [-710.0536   ,   70.61884  ,   -1.5569706, ...,   -3.7726026,\n",
       "          -3.56951  ,   -4.7873235],\n",
       "       [-700.31067  ,   69.606895 ,   -3.5061355, ...,   -2.9459636,\n",
       "          -4.1219654,   -3.510513 ],\n",
       "       ...,\n",
       "       [-524.87317  ,   92.73906  ,    8.727073 , ...,    8.539166 ,\n",
       "          10.733084 ,   12.106462 ],\n",
       "       [-544.93805  ,   86.01285  ,   15.380473 , ...,   11.106111 ,\n",
       "          11.013262 ,    7.527495 ],\n",
       "       [-530.992    ,   99.71155  ,   14.931348 , ...,    6.183655 ,\n",
       "          10.257628 ,   17.8786   ]], dtype=float32)"
      ]
     },
     "execution_count": 23,
     "metadata": {},
     "output_type": "execute_result"
    }
   ],
   "source": [
    "import joblib\n",
    "X = joblib.load('joblib_features/X.joblib')\n",
    "y = joblib.load('joblib_features/y.joblib')\n",
    "X"
   ]
  },
  {
   "cell_type": "code",
   "execution_count": 24,
   "metadata": {
    "id": "K-z4cFqar2zb"
   },
   "outputs": [],
   "source": [
    "from sklearn.model_selection import train_test_split\n",
    "\n",
    "X_train, X_test, y_train, y_test = train_test_split(X, y, test_size=0.33, random_state=42)"
   ]
  },
  {
   "cell_type": "code",
   "execution_count": 25,
   "metadata": {
    "colab": {
     "base_uri": "https://localhost:8080/"
    },
    "id": "Bf_2elz6r-7h",
    "outputId": "df7710c1-0c4a-4c90-9912-c6032e1047a5"
   },
   "outputs": [],
   "source": [
    "import numpy as np\n",
    "x_traincnn = np.expand_dims(X_train, axis=2)\n",
    "x_testcnn = np.expand_dims(X_test, axis=2)\n"
   ]
  },
  {
   "cell_type": "code",
   "execution_count": 26,
   "metadata": {
    "colab": {
     "base_uri": "https://localhost:8080/"
    },
    "id": "O2vMnLI5sWAW",
    "outputId": "38ebf8a6-3cb9-4cce-824b-680a2154750e"
   },
   "outputs": [
    {
     "data": {
      "text/plain": [
       "((1811, 40, 1), (893, 40, 1))"
      ]
     },
     "execution_count": 26,
     "metadata": {},
     "output_type": "execute_result"
    }
   ],
   "source": [
    "\n",
    "x_traincnn.shape, x_testcnn.shape"
   ]
  },
  {
   "cell_type": "code",
   "execution_count": 27,
   "metadata": {
    "id": "nDqVAD8_sXy7"
   },
   "outputs": [],
   "source": [
    "from tensorflow import keras\n",
    "import numpy as np\n",
    "import matplotlib.pyplot as plt\n",
    "from tensorflow.keras import Sequential\n",
    "from tensorflow.keras.layers import Conv1D,MaxPooling1D\n",
    "from tensorflow.keras.layers import Input, Flatten, Dropout, Activation\n",
    "from tensorflow.keras.layers import Activation\n",
    "from tensorflow.keras.layers import Dense, Embedding\n",
    "from tensorflow.keras.utils import to_categorical\n",
    "model = Sequential()\n",
    "\n",
    "model.add(Conv1D(128, 5,padding='same',\n",
    "                 input_shape=(40,1)))\n",
    "model.add(Activation('relu'))\n",
    "model.add(Dropout(0.1))\n",
    "model.add(MaxPooling1D(pool_size=(8)))\n",
    "model.add(Conv1D(128, 5,padding='same',))\n",
    "model.add(Activation('relu'))\n",
    "#model.add(Dropout(0.1))\n",
    "model.add(Flatten())\n",
    "model.add(Dense(8))\n",
    "model.add(Activation('softmax'))\n",
    "opt = keras.optimizers.RMSprop(learning_rate=0.00001, rho=0.9, epsilon=None, decay=0.0)\n"
   ]
  },
  {
   "cell_type": "code",
   "execution_count": 28,
   "metadata": {
    "colab": {
     "base_uri": "https://localhost:8080/"
    },
    "id": "anhBteS_sbAb",
    "outputId": "9f496b42-0d27-4be1-8846-702480840469"
   },
   "outputs": [
    {
     "name": "stdout",
     "output_type": "stream",
     "text": [
      "Model: \"sequential_1\"\n",
      "_________________________________________________________________\n",
      "Layer (type)                 Output Shape              Param #   \n",
      "=================================================================\n",
      "conv1d_2 (Conv1D)            (None, 40, 128)           768       \n",
      "_________________________________________________________________\n",
      "activation_3 (Activation)    (None, 40, 128)           0         \n",
      "_________________________________________________________________\n",
      "dropout_1 (Dropout)          (None, 40, 128)           0         \n",
      "_________________________________________________________________\n",
      "max_pooling1d_1 (MaxPooling1 (None, 5, 128)            0         \n",
      "_________________________________________________________________\n",
      "conv1d_3 (Conv1D)            (None, 5, 128)            82048     \n",
      "_________________________________________________________________\n",
      "activation_4 (Activation)    (None, 5, 128)            0         \n",
      "_________________________________________________________________\n",
      "flatten_1 (Flatten)          (None, 640)               0         \n",
      "_________________________________________________________________\n",
      "dense_1 (Dense)              (None, 8)                 5128      \n",
      "_________________________________________________________________\n",
      "activation_5 (Activation)    (None, 8)                 0         \n",
      "=================================================================\n",
      "Total params: 87,944\n",
      "Trainable params: 87,944\n",
      "Non-trainable params: 0\n",
      "_________________________________________________________________\n"
     ]
    }
   ],
   "source": [
    "model.summary()\n"
   ]
  },
  {
   "cell_type": "code",
   "execution_count": 31,
   "metadata": {
    "id": "wdP9AzTNtJni"
   },
   "outputs": [],
   "source": [
    "model.compile(loss='sparse_categorical_crossentropy',\n",
    "              optimizer=opt,\n",
    "              metrics=['accuracy'])"
   ]
  },
  {
   "cell_type": "code",
   "execution_count": 32,
   "metadata": {
    "colab": {
     "base_uri": "https://localhost:8080/"
    },
    "id": "qCC_I3vEtMNZ",
    "outputId": "8d60d1eb-4ed9-4285-dba7-cc4510facd76"
   },
   "outputs": [
    {
     "name": "stdout",
     "output_type": "stream",
     "text": [
      "Epoch 1/500\n",
      "114/114 [==============================] - 1s 7ms/step - loss: 4.6673 - accuracy: 0.2325 - val_loss: 1.6799 - val_accuracy: 0.2598\n",
      "Epoch 2/500\n",
      "114/114 [==============================] - 1s 6ms/step - loss: 2.5967 - accuracy: 0.2789 - val_loss: 1.4087 - val_accuracy: 0.3561\n",
      "Epoch 3/500\n",
      "114/114 [==============================] - 1s 6ms/step - loss: 2.2684 - accuracy: 0.3324 - val_loss: 1.1415 - val_accuracy: 0.5174\n",
      "Epoch 4/500\n",
      "114/114 [==============================] - 1s 6ms/step - loss: 2.0494 - accuracy: 0.3948 - val_loss: 1.1348 - val_accuracy: 0.4972\n",
      "Epoch 5/500\n",
      "114/114 [==============================] - 1s 6ms/step - loss: 1.9939 - accuracy: 0.4081 - val_loss: 1.0567 - val_accuracy: 0.5442\n",
      "Epoch 6/500\n",
      "114/114 [==============================] - 1s 6ms/step - loss: 1.9415 - accuracy: 0.4103 - val_loss: 1.0926 - val_accuracy: 0.5588\n",
      "Epoch 7/500\n",
      "114/114 [==============================] - 1s 6ms/step - loss: 1.6510 - accuracy: 0.4644 - val_loss: 1.0395 - val_accuracy: 0.5655\n",
      "Epoch 8/500\n",
      "114/114 [==============================] - 1s 6ms/step - loss: 1.7217 - accuracy: 0.4677 - val_loss: 0.9934 - val_accuracy: 0.5566\n",
      "Epoch 9/500\n",
      "114/114 [==============================] - 1s 6ms/step - loss: 1.5832 - accuracy: 0.4909 - val_loss: 1.0275 - val_accuracy: 0.6069\n",
      "Epoch 10/500\n",
      "114/114 [==============================] - 1s 6ms/step - loss: 1.5679 - accuracy: 0.4793 - val_loss: 1.0666 - val_accuracy: 0.6002\n",
      "Epoch 11/500\n",
      "114/114 [==============================] - 1s 6ms/step - loss: 1.5304 - accuracy: 0.5069 - val_loss: 0.8722 - val_accuracy: 0.6058\n",
      "Epoch 12/500\n",
      "114/114 [==============================] - 1s 6ms/step - loss: 1.4491 - accuracy: 0.5202 - val_loss: 0.8571 - val_accuracy: 0.6226\n",
      "Epoch 13/500\n",
      "114/114 [==============================] - 1s 6ms/step - loss: 1.3968 - accuracy: 0.5224 - val_loss: 0.9163 - val_accuracy: 0.5812\n",
      "Epoch 14/500\n",
      "114/114 [==============================] - 1s 6ms/step - loss: 1.3255 - accuracy: 0.5411 - val_loss: 0.8373 - val_accuracy: 0.6338\n",
      "Epoch 15/500\n",
      "114/114 [==============================] - 1s 6ms/step - loss: 1.3199 - accuracy: 0.5549 - val_loss: 0.8573 - val_accuracy: 0.6226\n",
      "Epoch 16/500\n",
      "114/114 [==============================] - 1s 6ms/step - loss: 1.2638 - accuracy: 0.5577 - val_loss: 0.8999 - val_accuracy: 0.6159\n",
      "Epoch 17/500\n",
      "114/114 [==============================] - 1s 6ms/step - loss: 1.2417 - accuracy: 0.5594 - val_loss: 0.9120 - val_accuracy: 0.6103\n",
      "Epoch 18/500\n",
      "114/114 [==============================] - 1s 6ms/step - loss: 1.2826 - accuracy: 0.5643 - val_loss: 0.7980 - val_accuracy: 0.6506\n",
      "Epoch 19/500\n",
      "114/114 [==============================] - 1s 6ms/step - loss: 1.1771 - accuracy: 0.5831 - val_loss: 0.7888 - val_accuracy: 0.6674\n",
      "Epoch 20/500\n",
      "114/114 [==============================] - 1s 6ms/step - loss: 1.1477 - accuracy: 0.5881 - val_loss: 0.8763 - val_accuracy: 0.6103\n",
      "Epoch 21/500\n",
      "114/114 [==============================] - 1s 6ms/step - loss: 1.1654 - accuracy: 0.5814 - val_loss: 0.9147 - val_accuracy: 0.6394\n",
      "Epoch 22/500\n",
      "114/114 [==============================] - 1s 6ms/step - loss: 1.1164 - accuracy: 0.5831 - val_loss: 0.7930 - val_accuracy: 0.6540\n",
      "Epoch 23/500\n",
      "114/114 [==============================] - 1s 6ms/step - loss: 1.0747 - accuracy: 0.5958 - val_loss: 0.8456 - val_accuracy: 0.6506\n",
      "Epoch 24/500\n",
      "114/114 [==============================] - 1s 6ms/step - loss: 1.1075 - accuracy: 0.6113 - val_loss: 0.7661 - val_accuracy: 0.6831\n",
      "Epoch 25/500\n",
      "114/114 [==============================] - 1s 6ms/step - loss: 1.0308 - accuracy: 0.6080 - val_loss: 0.7797 - val_accuracy: 0.6573\n",
      "Epoch 26/500\n",
      "114/114 [==============================] - 1s 6ms/step - loss: 1.0128 - accuracy: 0.6140 - val_loss: 0.7742 - val_accuracy: 0.6596\n",
      "Epoch 27/500\n",
      "114/114 [==============================] - 1s 6ms/step - loss: 1.0328 - accuracy: 0.6074 - val_loss: 0.7709 - val_accuracy: 0.6573\n",
      "Epoch 28/500\n",
      "114/114 [==============================] - 1s 6ms/step - loss: 0.9917 - accuracy: 0.6273 - val_loss: 0.8139 - val_accuracy: 0.6484\n",
      "Epoch 29/500\n",
      "114/114 [==============================] - 1s 6ms/step - loss: 0.9792 - accuracy: 0.6240 - val_loss: 0.7732 - val_accuracy: 0.6596\n",
      "Epoch 30/500\n",
      "114/114 [==============================] - 1s 6ms/step - loss: 0.9677 - accuracy: 0.6245 - val_loss: 0.7398 - val_accuracy: 0.6909\n",
      "Epoch 31/500\n",
      "114/114 [==============================] - 1s 6ms/step - loss: 0.9897 - accuracy: 0.6289 - val_loss: 0.8565 - val_accuracy: 0.6316\n",
      "Epoch 32/500\n",
      "114/114 [==============================] - 1s 6ms/step - loss: 0.9304 - accuracy: 0.6389 - val_loss: 0.7822 - val_accuracy: 0.6674\n",
      "Epoch 33/500\n",
      "114/114 [==============================] - 1s 6ms/step - loss: 0.9410 - accuracy: 0.6438 - val_loss: 0.7489 - val_accuracy: 0.6842\n",
      "Epoch 34/500\n",
      "114/114 [==============================] - 1s 6ms/step - loss: 0.9433 - accuracy: 0.6367 - val_loss: 0.7395 - val_accuracy: 0.6820\n",
      "Epoch 35/500\n",
      "114/114 [==============================] - 1s 6ms/step - loss: 0.9303 - accuracy: 0.6356 - val_loss: 0.7990 - val_accuracy: 0.6607\n",
      "Epoch 36/500\n",
      "114/114 [==============================] - 1s 6ms/step - loss: 0.9319 - accuracy: 0.6438 - val_loss: 0.7505 - val_accuracy: 0.6809\n",
      "Epoch 37/500\n",
      "114/114 [==============================] - 1s 6ms/step - loss: 0.9198 - accuracy: 0.6466 - val_loss: 0.7190 - val_accuracy: 0.6887\n",
      "Epoch 38/500\n",
      "114/114 [==============================] - 1s 6ms/step - loss: 0.8803 - accuracy: 0.6483 - val_loss: 0.8154 - val_accuracy: 0.6551\n",
      "Epoch 39/500\n",
      "114/114 [==============================] - 1s 6ms/step - loss: 0.8969 - accuracy: 0.6433 - val_loss: 0.7054 - val_accuracy: 0.7077\n",
      "Epoch 40/500\n",
      "114/114 [==============================] - 1s 6ms/step - loss: 0.8583 - accuracy: 0.6626 - val_loss: 0.7031 - val_accuracy: 0.7133\n",
      "Epoch 41/500\n",
      "114/114 [==============================] - 1s 6ms/step - loss: 0.8836 - accuracy: 0.6527 - val_loss: 0.7324 - val_accuracy: 0.6842\n",
      "Epoch 42/500\n",
      "114/114 [==============================] - 1s 6ms/step - loss: 0.8134 - accuracy: 0.6775 - val_loss: 0.7396 - val_accuracy: 0.6764\n",
      "Epoch 43/500\n",
      "114/114 [==============================] - 1s 6ms/step - loss: 0.8415 - accuracy: 0.6659 - val_loss: 0.6990 - val_accuracy: 0.7077\n",
      "Epoch 44/500\n",
      "114/114 [==============================] - 1s 6ms/step - loss: 0.8295 - accuracy: 0.6637 - val_loss: 0.7054 - val_accuracy: 0.6988\n",
      "Epoch 45/500\n",
      "114/114 [==============================] - 1s 6ms/step - loss: 0.8392 - accuracy: 0.6698 - val_loss: 0.7838 - val_accuracy: 0.6596\n",
      "Epoch 46/500\n",
      "114/114 [==============================] - 1s 6ms/step - loss: 0.8139 - accuracy: 0.6764 - val_loss: 0.7075 - val_accuracy: 0.6965\n",
      "Epoch 47/500\n",
      "114/114 [==============================] - 1s 6ms/step - loss: 0.8366 - accuracy: 0.6643 - val_loss: 0.7324 - val_accuracy: 0.6887\n",
      "Epoch 48/500\n",
      "114/114 [==============================] - 1s 6ms/step - loss: 0.8155 - accuracy: 0.6709 - val_loss: 0.6832 - val_accuracy: 0.7324\n",
      "Epoch 49/500\n",
      "114/114 [==============================] - 1s 6ms/step - loss: 0.8247 - accuracy: 0.6676 - val_loss: 0.6853 - val_accuracy: 0.7133\n",
      "Epoch 50/500\n",
      "114/114 [==============================] - 1s 6ms/step - loss: 0.8285 - accuracy: 0.6670 - val_loss: 0.6749 - val_accuracy: 0.7100\n",
      "Epoch 51/500\n",
      "114/114 [==============================] - 1s 6ms/step - loss: 0.7888 - accuracy: 0.6830 - val_loss: 0.7440 - val_accuracy: 0.6865\n",
      "Epoch 52/500\n",
      "114/114 [==============================] - 1s 6ms/step - loss: 0.8005 - accuracy: 0.6726 - val_loss: 0.6987 - val_accuracy: 0.7189\n",
      "Epoch 53/500\n",
      "114/114 [==============================] - 1s 6ms/step - loss: 0.7558 - accuracy: 0.6908 - val_loss: 0.7382 - val_accuracy: 0.6797\n",
      "Epoch 54/500\n",
      "114/114 [==============================] - 1s 6ms/step - loss: 0.7542 - accuracy: 0.6886 - val_loss: 0.6861 - val_accuracy: 0.7133\n",
      "Epoch 55/500\n",
      "114/114 [==============================] - 1s 6ms/step - loss: 0.7598 - accuracy: 0.7029 - val_loss: 0.6594 - val_accuracy: 0.7256\n",
      "Epoch 56/500\n",
      "114/114 [==============================] - 1s 6ms/step - loss: 0.7880 - accuracy: 0.6853 - val_loss: 0.7068 - val_accuracy: 0.6853\n",
      "Epoch 57/500\n",
      "114/114 [==============================] - 1s 6ms/step - loss: 0.7682 - accuracy: 0.6842 - val_loss: 0.6544 - val_accuracy: 0.7413\n"
     ]
    },
    {
     "name": "stdout",
     "output_type": "stream",
     "text": [
      "Epoch 58/500\n",
      "114/114 [==============================] - 1s 6ms/step - loss: 0.7777 - accuracy: 0.6797 - val_loss: 0.6950 - val_accuracy: 0.7021\n",
      "Epoch 59/500\n",
      "114/114 [==============================] - 1s 6ms/step - loss: 0.7450 - accuracy: 0.6930 - val_loss: 0.6463 - val_accuracy: 0.7391\n",
      "Epoch 60/500\n",
      "114/114 [==============================] - 1s 6ms/step - loss: 0.7360 - accuracy: 0.7057 - val_loss: 0.6772 - val_accuracy: 0.7066\n",
      "Epoch 61/500\n",
      "114/114 [==============================] - 1s 6ms/step - loss: 0.7331 - accuracy: 0.7018 - val_loss: 0.7803 - val_accuracy: 0.6797\n",
      "Epoch 62/500\n",
      "114/114 [==============================] - 1s 6ms/step - loss: 0.7634 - accuracy: 0.6957 - val_loss: 0.6770 - val_accuracy: 0.7212\n",
      "Epoch 63/500\n",
      "114/114 [==============================] - 1s 6ms/step - loss: 0.7240 - accuracy: 0.7129 - val_loss: 0.7030 - val_accuracy: 0.6988\n",
      "Epoch 64/500\n",
      "114/114 [==============================] - 1s 6ms/step - loss: 0.7278 - accuracy: 0.7112 - val_loss: 0.6966 - val_accuracy: 0.7032\n",
      "Epoch 65/500\n",
      "114/114 [==============================] - 1s 6ms/step - loss: 0.7275 - accuracy: 0.6991 - val_loss: 0.6742 - val_accuracy: 0.7077\n",
      "Epoch 66/500\n",
      "114/114 [==============================] - 1s 6ms/step - loss: 0.7249 - accuracy: 0.7090 - val_loss: 0.6938 - val_accuracy: 0.7088\n",
      "Epoch 67/500\n",
      "114/114 [==============================] - 1s 6ms/step - loss: 0.7257 - accuracy: 0.7112 - val_loss: 0.6435 - val_accuracy: 0.7413\n",
      "Epoch 68/500\n",
      "114/114 [==============================] - 1s 6ms/step - loss: 0.7047 - accuracy: 0.7289 - val_loss: 0.7109 - val_accuracy: 0.6965\n",
      "Epoch 69/500\n",
      "114/114 [==============================] - 1s 6ms/step - loss: 0.6898 - accuracy: 0.7107 - val_loss: 0.6485 - val_accuracy: 0.7268\n",
      "Epoch 70/500\n",
      "114/114 [==============================] - 1s 6ms/step - loss: 0.7175 - accuracy: 0.7223 - val_loss: 0.6365 - val_accuracy: 0.7447\n",
      "Epoch 71/500\n",
      "114/114 [==============================] - 1s 6ms/step - loss: 0.6969 - accuracy: 0.7084 - val_loss: 0.6879 - val_accuracy: 0.6909\n",
      "Epoch 72/500\n",
      "114/114 [==============================] - 1s 6ms/step - loss: 0.6962 - accuracy: 0.7096 - val_loss: 0.6387 - val_accuracy: 0.7469\n",
      "Epoch 73/500\n",
      "114/114 [==============================] - 1s 6ms/step - loss: 0.7055 - accuracy: 0.7184 - val_loss: 0.6461 - val_accuracy: 0.7178\n",
      "Epoch 74/500\n",
      "114/114 [==============================] - 1s 6ms/step - loss: 0.6635 - accuracy: 0.7211 - val_loss: 0.6297 - val_accuracy: 0.7480\n",
      "Epoch 75/500\n",
      "114/114 [==============================] - 1s 6ms/step - loss: 0.6750 - accuracy: 0.7211 - val_loss: 0.6599 - val_accuracy: 0.7212\n",
      "Epoch 76/500\n",
      "114/114 [==============================] - 1s 6ms/step - loss: 0.6851 - accuracy: 0.7211 - val_loss: 0.6589 - val_accuracy: 0.7256\n",
      "Epoch 77/500\n",
      "114/114 [==============================] - 1s 6ms/step - loss: 0.6936 - accuracy: 0.7245 - val_loss: 0.6304 - val_accuracy: 0.7503\n",
      "Epoch 78/500\n",
      "114/114 [==============================] - 1s 6ms/step - loss: 0.6878 - accuracy: 0.7234 - val_loss: 0.6767 - val_accuracy: 0.7200\n",
      "Epoch 79/500\n",
      "114/114 [==============================] - 1s 6ms/step - loss: 0.6665 - accuracy: 0.7372 - val_loss: 0.6482 - val_accuracy: 0.7245\n",
      "Epoch 80/500\n",
      "114/114 [==============================] - 1s 6ms/step - loss: 0.6740 - accuracy: 0.7289 - val_loss: 0.6114 - val_accuracy: 0.7536\n",
      "Epoch 81/500\n",
      "114/114 [==============================] - 1s 6ms/step - loss: 0.6687 - accuracy: 0.7327 - val_loss: 0.6068 - val_accuracy: 0.7391\n",
      "Epoch 82/500\n",
      "114/114 [==============================] - 1s 6ms/step - loss: 0.6573 - accuracy: 0.7300 - val_loss: 0.5952 - val_accuracy: 0.7503\n",
      "Epoch 83/500\n",
      "114/114 [==============================] - 1s 6ms/step - loss: 0.6591 - accuracy: 0.7184 - val_loss: 0.6273 - val_accuracy: 0.7346\n",
      "Epoch 84/500\n",
      "114/114 [==============================] - 1s 6ms/step - loss: 0.6733 - accuracy: 0.7267 - val_loss: 0.6596 - val_accuracy: 0.7256\n",
      "Epoch 85/500\n",
      "114/114 [==============================] - 1s 6ms/step - loss: 0.6350 - accuracy: 0.7465 - val_loss: 0.5994 - val_accuracy: 0.7660\n",
      "Epoch 86/500\n",
      "114/114 [==============================] - 1s 6ms/step - loss: 0.6536 - accuracy: 0.7383 - val_loss: 0.5964 - val_accuracy: 0.7559\n",
      "Epoch 87/500\n",
      "114/114 [==============================] - 1s 6ms/step - loss: 0.6555 - accuracy: 0.7366 - val_loss: 0.5951 - val_accuracy: 0.7581\n",
      "Epoch 88/500\n",
      "114/114 [==============================] - 1s 6ms/step - loss: 0.6453 - accuracy: 0.7471 - val_loss: 0.6388 - val_accuracy: 0.7301\n",
      "Epoch 89/500\n",
      "114/114 [==============================] - 1s 6ms/step - loss: 0.6462 - accuracy: 0.7327 - val_loss: 0.5821 - val_accuracy: 0.7570\n",
      "Epoch 90/500\n",
      "114/114 [==============================] - 1s 6ms/step - loss: 0.6319 - accuracy: 0.7471 - val_loss: 0.6099 - val_accuracy: 0.7503\n",
      "Epoch 91/500\n",
      "114/114 [==============================] - 1s 6ms/step - loss: 0.6366 - accuracy: 0.7477 - val_loss: 0.6065 - val_accuracy: 0.7604\n",
      "Epoch 92/500\n",
      "114/114 [==============================] - 1s 6ms/step - loss: 0.6252 - accuracy: 0.7515 - val_loss: 0.6445 - val_accuracy: 0.7122\n",
      "Epoch 93/500\n",
      "114/114 [==============================] - 1s 6ms/step - loss: 0.6067 - accuracy: 0.7609 - val_loss: 0.6200 - val_accuracy: 0.7525\n",
      "Epoch 94/500\n",
      "114/114 [==============================] - 1s 6ms/step - loss: 0.6302 - accuracy: 0.7493 - val_loss: 0.5761 - val_accuracy: 0.7671\n",
      "Epoch 95/500\n",
      "114/114 [==============================] - 1s 6ms/step - loss: 0.6255 - accuracy: 0.7587 - val_loss: 0.6321 - val_accuracy: 0.7368\n",
      "Epoch 96/500\n",
      "114/114 [==============================] - 1s 6ms/step - loss: 0.6082 - accuracy: 0.7554 - val_loss: 0.5816 - val_accuracy: 0.7637\n",
      "Epoch 97/500\n",
      "114/114 [==============================] - 1s 6ms/step - loss: 0.6285 - accuracy: 0.7471 - val_loss: 0.6390 - val_accuracy: 0.7436\n",
      "Epoch 98/500\n",
      "114/114 [==============================] - 1s 6ms/step - loss: 0.6212 - accuracy: 0.7465 - val_loss: 0.5901 - val_accuracy: 0.7637\n",
      "Epoch 99/500\n",
      "114/114 [==============================] - 1s 6ms/step - loss: 0.5977 - accuracy: 0.7620 - val_loss: 0.6710 - val_accuracy: 0.7189\n",
      "Epoch 100/500\n",
      "114/114 [==============================] - 1s 6ms/step - loss: 0.6170 - accuracy: 0.7477 - val_loss: 0.5975 - val_accuracy: 0.7749\n",
      "Epoch 101/500\n",
      "114/114 [==============================] - 1s 6ms/step - loss: 0.6230 - accuracy: 0.7465 - val_loss: 0.5717 - val_accuracy: 0.7615\n",
      "Epoch 102/500\n",
      "114/114 [==============================] - 1s 6ms/step - loss: 0.6008 - accuracy: 0.7465 - val_loss: 0.5905 - val_accuracy: 0.7615\n",
      "Epoch 103/500\n",
      "114/114 [==============================] - 1s 6ms/step - loss: 0.6127 - accuracy: 0.7570 - val_loss: 0.6037 - val_accuracy: 0.7570\n",
      "Epoch 104/500\n",
      "114/114 [==============================] - 1s 6ms/step - loss: 0.6030 - accuracy: 0.7576 - val_loss: 0.5965 - val_accuracy: 0.7615\n",
      "Epoch 105/500\n",
      "114/114 [==============================] - 1s 6ms/step - loss: 0.6026 - accuracy: 0.7631 - val_loss: 0.5745 - val_accuracy: 0.7727\n",
      "Epoch 106/500\n",
      "114/114 [==============================] - 1s 6ms/step - loss: 0.5955 - accuracy: 0.7565 - val_loss: 0.5949 - val_accuracy: 0.7436\n",
      "Epoch 107/500\n",
      "114/114 [==============================] - 1s 6ms/step - loss: 0.6074 - accuracy: 0.7559 - val_loss: 0.5778 - val_accuracy: 0.7469\n",
      "Epoch 108/500\n",
      "114/114 [==============================] - 1s 6ms/step - loss: 0.5996 - accuracy: 0.7604 - val_loss: 0.5790 - val_accuracy: 0.7682\n",
      "Epoch 109/500\n",
      "114/114 [==============================] - 1s 6ms/step - loss: 0.6037 - accuracy: 0.7675 - val_loss: 0.5979 - val_accuracy: 0.7559\n",
      "Epoch 110/500\n",
      "114/114 [==============================] - 1s 6ms/step - loss: 0.6059 - accuracy: 0.7637 - val_loss: 0.5887 - val_accuracy: 0.7772\n",
      "Epoch 111/500\n",
      "114/114 [==============================] - 1s 6ms/step - loss: 0.6026 - accuracy: 0.7587 - val_loss: 0.5869 - val_accuracy: 0.7436\n",
      "Epoch 112/500\n",
      "114/114 [==============================] - 1s 6ms/step - loss: 0.5956 - accuracy: 0.7554 - val_loss: 0.5676 - val_accuracy: 0.7760\n",
      "Epoch 113/500\n",
      "114/114 [==============================] - 1s 6ms/step - loss: 0.5983 - accuracy: 0.7631 - val_loss: 0.6318 - val_accuracy: 0.7503\n",
      "Epoch 114/500\n",
      "114/114 [==============================] - 1s 6ms/step - loss: 0.5847 - accuracy: 0.7637 - val_loss: 0.5910 - val_accuracy: 0.7413\n"
     ]
    },
    {
     "name": "stdout",
     "output_type": "stream",
     "text": [
      "Epoch 115/500\n",
      "114/114 [==============================] - 1s 6ms/step - loss: 0.5971 - accuracy: 0.7587 - val_loss: 0.5561 - val_accuracy: 0.7805\n",
      "Epoch 116/500\n",
      "114/114 [==============================] - 1s 6ms/step - loss: 0.5761 - accuracy: 0.7675 - val_loss: 0.5793 - val_accuracy: 0.7413\n",
      "Epoch 117/500\n",
      "114/114 [==============================] - 1s 6ms/step - loss: 0.5832 - accuracy: 0.7642 - val_loss: 0.5594 - val_accuracy: 0.7637\n",
      "Epoch 118/500\n",
      "114/114 [==============================] - 1s 6ms/step - loss: 0.5668 - accuracy: 0.7764 - val_loss: 0.5699 - val_accuracy: 0.7559\n",
      "Epoch 119/500\n",
      "114/114 [==============================] - 1s 6ms/step - loss: 0.5766 - accuracy: 0.7703 - val_loss: 0.5616 - val_accuracy: 0.7772\n",
      "Epoch 120/500\n",
      "114/114 [==============================] - 1s 6ms/step - loss: 0.5674 - accuracy: 0.7648 - val_loss: 0.7284 - val_accuracy: 0.7010\n",
      "Epoch 121/500\n",
      "114/114 [==============================] - 1s 6ms/step - loss: 0.5836 - accuracy: 0.7731 - val_loss: 0.5692 - val_accuracy: 0.7671\n",
      "Epoch 122/500\n",
      "114/114 [==============================] - 1s 6ms/step - loss: 0.5764 - accuracy: 0.7642 - val_loss: 0.5771 - val_accuracy: 0.7660\n",
      "Epoch 123/500\n",
      "114/114 [==============================] - 1s 6ms/step - loss: 0.5623 - accuracy: 0.7852 - val_loss: 0.5517 - val_accuracy: 0.7727\n",
      "Epoch 124/500\n",
      "114/114 [==============================] - 1s 6ms/step - loss: 0.5688 - accuracy: 0.7681 - val_loss: 0.5467 - val_accuracy: 0.7805\n",
      "Epoch 125/500\n",
      "114/114 [==============================] - 1s 6ms/step - loss: 0.5767 - accuracy: 0.7648 - val_loss: 0.5445 - val_accuracy: 0.7906\n",
      "Epoch 126/500\n",
      "114/114 [==============================] - 1s 6ms/step - loss: 0.5599 - accuracy: 0.7863 - val_loss: 0.5618 - val_accuracy: 0.7615\n",
      "Epoch 127/500\n",
      "114/114 [==============================] - 1s 6ms/step - loss: 0.5456 - accuracy: 0.7808 - val_loss: 0.5660 - val_accuracy: 0.7626\n",
      "Epoch 128/500\n",
      "114/114 [==============================] - 1s 6ms/step - loss: 0.5733 - accuracy: 0.7686 - val_loss: 0.5447 - val_accuracy: 0.7850\n",
      "Epoch 129/500\n",
      "114/114 [==============================] - 1s 6ms/step - loss: 0.5704 - accuracy: 0.7747 - val_loss: 0.5441 - val_accuracy: 0.7760\n",
      "Epoch 130/500\n",
      "114/114 [==============================] - 1s 6ms/step - loss: 0.5556 - accuracy: 0.7670 - val_loss: 0.5473 - val_accuracy: 0.7682\n",
      "Epoch 131/500\n",
      "114/114 [==============================] - 1s 6ms/step - loss: 0.5565 - accuracy: 0.7681 - val_loss: 0.5422 - val_accuracy: 0.7816\n",
      "Epoch 132/500\n",
      "114/114 [==============================] - 1s 6ms/step - loss: 0.5639 - accuracy: 0.7802 - val_loss: 0.5729 - val_accuracy: 0.7503\n",
      "Epoch 133/500\n",
      "114/114 [==============================] - 1s 6ms/step - loss: 0.5583 - accuracy: 0.7786 - val_loss: 0.5462 - val_accuracy: 0.7648\n",
      "Epoch 134/500\n",
      "114/114 [==============================] - 1s 6ms/step - loss: 0.5357 - accuracy: 0.7852 - val_loss: 0.5351 - val_accuracy: 0.7895\n",
      "Epoch 135/500\n",
      "114/114 [==============================] - 1s 6ms/step - loss: 0.5545 - accuracy: 0.7880 - val_loss: 0.5657 - val_accuracy: 0.7604\n",
      "Epoch 136/500\n",
      "114/114 [==============================] - 1s 6ms/step - loss: 0.5528 - accuracy: 0.7824 - val_loss: 0.5479 - val_accuracy: 0.7872\n",
      "Epoch 137/500\n",
      "114/114 [==============================] - 1s 6ms/step - loss: 0.5485 - accuracy: 0.7852 - val_loss: 0.5418 - val_accuracy: 0.7839\n",
      "Epoch 138/500\n",
      "114/114 [==============================] - 1s 6ms/step - loss: 0.5349 - accuracy: 0.7824 - val_loss: 0.5308 - val_accuracy: 0.7872\n",
      "Epoch 139/500\n",
      "114/114 [==============================] - 1s 6ms/step - loss: 0.5483 - accuracy: 0.7758 - val_loss: 0.5254 - val_accuracy: 0.7872\n",
      "Epoch 140/500\n",
      "114/114 [==============================] - 1s 6ms/step - loss: 0.5559 - accuracy: 0.7747 - val_loss: 0.5432 - val_accuracy: 0.7839\n",
      "Epoch 141/500\n",
      "114/114 [==============================] - 1s 6ms/step - loss: 0.5549 - accuracy: 0.7780 - val_loss: 0.5529 - val_accuracy: 0.7861\n",
      "Epoch 142/500\n",
      "114/114 [==============================] - 1s 6ms/step - loss: 0.5453 - accuracy: 0.7736 - val_loss: 0.5300 - val_accuracy: 0.7872\n",
      "Epoch 143/500\n",
      "114/114 [==============================] - 1s 6ms/step - loss: 0.5406 - accuracy: 0.7902 - val_loss: 0.5896 - val_accuracy: 0.7536\n",
      "Epoch 144/500\n",
      "114/114 [==============================] - 1s 6ms/step - loss: 0.5372 - accuracy: 0.7913 - val_loss: 0.5369 - val_accuracy: 0.7805\n",
      "Epoch 145/500\n",
      "114/114 [==============================] - 1s 6ms/step - loss: 0.5355 - accuracy: 0.7753 - val_loss: 0.5484 - val_accuracy: 0.7805\n",
      "Epoch 146/500\n",
      "114/114 [==============================] - 1s 6ms/step - loss: 0.5327 - accuracy: 0.7940 - val_loss: 0.5423 - val_accuracy: 0.7928\n",
      "Epoch 147/500\n",
      "114/114 [==============================] - 1s 6ms/step - loss: 0.5405 - accuracy: 0.7791 - val_loss: 0.5239 - val_accuracy: 0.7962\n",
      "Epoch 148/500\n",
      "114/114 [==============================] - 1s 6ms/step - loss: 0.5335 - accuracy: 0.7891 - val_loss: 0.5467 - val_accuracy: 0.7816\n",
      "Epoch 149/500\n",
      "114/114 [==============================] - 1s 6ms/step - loss: 0.5376 - accuracy: 0.7786 - val_loss: 0.5272 - val_accuracy: 0.8029\n",
      "Epoch 150/500\n",
      "114/114 [==============================] - 1s 6ms/step - loss: 0.5158 - accuracy: 0.7962 - val_loss: 0.5349 - val_accuracy: 0.7716\n",
      "Epoch 151/500\n",
      "114/114 [==============================] - 1s 6ms/step - loss: 0.5373 - accuracy: 0.7835 - val_loss: 0.5774 - val_accuracy: 0.7682\n",
      "Epoch 152/500\n",
      "114/114 [==============================] - 1s 6ms/step - loss: 0.5320 - accuracy: 0.7835 - val_loss: 0.5102 - val_accuracy: 0.8007\n",
      "Epoch 153/500\n",
      "114/114 [==============================] - 1s 6ms/step - loss: 0.5357 - accuracy: 0.7935 - val_loss: 0.5161 - val_accuracy: 0.8052\n",
      "Epoch 154/500\n",
      "114/114 [==============================] - 1s 6ms/step - loss: 0.5274 - accuracy: 0.7913 - val_loss: 0.5165 - val_accuracy: 0.7962\n",
      "Epoch 155/500\n",
      "114/114 [==============================] - 1s 6ms/step - loss: 0.5114 - accuracy: 0.7929 - val_loss: 0.5462 - val_accuracy: 0.7783\n",
      "Epoch 156/500\n",
      "114/114 [==============================] - 1s 6ms/step - loss: 0.5188 - accuracy: 0.7907 - val_loss: 0.5141 - val_accuracy: 0.7872\n",
      "Epoch 157/500\n",
      "114/114 [==============================] - 1s 6ms/step - loss: 0.5260 - accuracy: 0.7885 - val_loss: 0.5107 - val_accuracy: 0.8052\n",
      "Epoch 158/500\n",
      "114/114 [==============================] - 1s 6ms/step - loss: 0.5152 - accuracy: 0.7990 - val_loss: 0.5207 - val_accuracy: 0.7884\n",
      "Epoch 159/500\n",
      "114/114 [==============================] - 1s 6ms/step - loss: 0.5221 - accuracy: 0.7946 - val_loss: 0.5406 - val_accuracy: 0.7480\n",
      "Epoch 160/500\n",
      "114/114 [==============================] - 1s 6ms/step - loss: 0.5221 - accuracy: 0.7880 - val_loss: 0.5252 - val_accuracy: 0.7872\n",
      "Epoch 161/500\n",
      "114/114 [==============================] - 1s 6ms/step - loss: 0.5211 - accuracy: 0.7869 - val_loss: 0.5368 - val_accuracy: 0.7872\n",
      "Epoch 162/500\n",
      "114/114 [==============================] - 1s 6ms/step - loss: 0.5191 - accuracy: 0.7885 - val_loss: 0.5112 - val_accuracy: 0.8141\n",
      "Epoch 163/500\n",
      "114/114 [==============================] - 1s 6ms/step - loss: 0.5272 - accuracy: 0.7896 - val_loss: 0.5447 - val_accuracy: 0.7828\n",
      "Epoch 164/500\n",
      "114/114 [==============================] - 1s 6ms/step - loss: 0.5086 - accuracy: 0.7973 - val_loss: 0.5305 - val_accuracy: 0.7794\n",
      "Epoch 165/500\n",
      "114/114 [==============================] - 1s 6ms/step - loss: 0.5150 - accuracy: 0.7951 - val_loss: 0.5197 - val_accuracy: 0.7940\n",
      "Epoch 166/500\n",
      "114/114 [==============================] - 1s 6ms/step - loss: 0.5017 - accuracy: 0.8012 - val_loss: 0.5072 - val_accuracy: 0.8074\n",
      "Epoch 167/500\n",
      "114/114 [==============================] - 1s 6ms/step - loss: 0.5120 - accuracy: 0.7902 - val_loss: 0.5584 - val_accuracy: 0.7906\n",
      "Epoch 168/500\n",
      "114/114 [==============================] - 1s 6ms/step - loss: 0.5159 - accuracy: 0.7946 - val_loss: 0.5731 - val_accuracy: 0.7738\n",
      "Epoch 169/500\n",
      "114/114 [==============================] - 1s 6ms/step - loss: 0.5147 - accuracy: 0.7957 - val_loss: 0.5463 - val_accuracy: 0.7850\n",
      "Epoch 170/500\n",
      "114/114 [==============================] - 1s 6ms/step - loss: 0.5080 - accuracy: 0.8001 - val_loss: 0.5069 - val_accuracy: 0.7928\n",
      "Epoch 171/500\n"
     ]
    },
    {
     "name": "stdout",
     "output_type": "stream",
     "text": [
      "114/114 [==============================] - 1s 6ms/step - loss: 0.4980 - accuracy: 0.8051 - val_loss: 0.5856 - val_accuracy: 0.7514\n",
      "Epoch 172/500\n",
      "114/114 [==============================] - 1s 6ms/step - loss: 0.5210 - accuracy: 0.7874 - val_loss: 0.4943 - val_accuracy: 0.8040\n",
      "Epoch 173/500\n",
      "114/114 [==============================] - 1s 6ms/step - loss: 0.4970 - accuracy: 0.7990 - val_loss: 0.5266 - val_accuracy: 0.7816\n",
      "Epoch 174/500\n",
      "114/114 [==============================] - 1s 6ms/step - loss: 0.5056 - accuracy: 0.7946 - val_loss: 0.5230 - val_accuracy: 0.7794\n",
      "Epoch 175/500\n",
      "114/114 [==============================] - 1s 6ms/step - loss: 0.4931 - accuracy: 0.8034 - val_loss: 0.5601 - val_accuracy: 0.7783\n",
      "Epoch 176/500\n",
      "114/114 [==============================] - 1s 6ms/step - loss: 0.5094 - accuracy: 0.7968 - val_loss: 0.4961 - val_accuracy: 0.8085\n",
      "Epoch 177/500\n",
      "114/114 [==============================] - 1s 6ms/step - loss: 0.5053 - accuracy: 0.7996 - val_loss: 0.5041 - val_accuracy: 0.8108\n",
      "Epoch 178/500\n",
      "114/114 [==============================] - 1s 6ms/step - loss: 0.5029 - accuracy: 0.7918 - val_loss: 0.4983 - val_accuracy: 0.8119\n",
      "Epoch 179/500\n",
      "114/114 [==============================] - 1s 6ms/step - loss: 0.5079 - accuracy: 0.7852 - val_loss: 0.5113 - val_accuracy: 0.8040\n",
      "Epoch 180/500\n",
      "114/114 [==============================] - 1s 6ms/step - loss: 0.5043 - accuracy: 0.8040 - val_loss: 0.5407 - val_accuracy: 0.7693\n",
      "Epoch 181/500\n",
      "114/114 [==============================] - 1s 6ms/step - loss: 0.4932 - accuracy: 0.8062 - val_loss: 0.5435 - val_accuracy: 0.7884\n",
      "Epoch 182/500\n",
      "114/114 [==============================] - 1s 6ms/step - loss: 0.4958 - accuracy: 0.7929 - val_loss: 0.5110 - val_accuracy: 0.7917\n",
      "Epoch 183/500\n",
      "114/114 [==============================] - 1s 6ms/step - loss: 0.4881 - accuracy: 0.8112 - val_loss: 0.5689 - val_accuracy: 0.7682\n",
      "Epoch 184/500\n",
      "114/114 [==============================] - 1s 6ms/step - loss: 0.5079 - accuracy: 0.7924 - val_loss: 0.5136 - val_accuracy: 0.7996\n",
      "Epoch 185/500\n",
      "114/114 [==============================] - 1s 6ms/step - loss: 0.4889 - accuracy: 0.8078 - val_loss: 0.4927 - val_accuracy: 0.8029\n",
      "Epoch 186/500\n",
      "114/114 [==============================] - 1s 6ms/step - loss: 0.4946 - accuracy: 0.8062 - val_loss: 0.5001 - val_accuracy: 0.8096\n",
      "Epoch 187/500\n",
      "114/114 [==============================] - 1s 6ms/step - loss: 0.5029 - accuracy: 0.8018 - val_loss: 0.5082 - val_accuracy: 0.7962\n",
      "Epoch 188/500\n",
      "114/114 [==============================] - 1s 6ms/step - loss: 0.4966 - accuracy: 0.8007 - val_loss: 0.4999 - val_accuracy: 0.8119\n",
      "Epoch 189/500\n",
      "114/114 [==============================] - 1s 6ms/step - loss: 0.4952 - accuracy: 0.7968 - val_loss: 0.4912 - val_accuracy: 0.8074\n",
      "Epoch 190/500\n",
      "114/114 [==============================] - 1s 6ms/step - loss: 0.4921 - accuracy: 0.8051 - val_loss: 0.4870 - val_accuracy: 0.8197\n",
      "Epoch 191/500\n",
      "114/114 [==============================] - 1s 6ms/step - loss: 0.4917 - accuracy: 0.8040 - val_loss: 0.5273 - val_accuracy: 0.8029\n",
      "Epoch 192/500\n",
      "114/114 [==============================] - 1s 6ms/step - loss: 0.5006 - accuracy: 0.7968 - val_loss: 0.5041 - val_accuracy: 0.8108\n",
      "Epoch 193/500\n",
      "114/114 [==============================] - 1s 6ms/step - loss: 0.4796 - accuracy: 0.8084 - val_loss: 0.5010 - val_accuracy: 0.8175\n",
      "Epoch 194/500\n",
      "114/114 [==============================] - 1s 6ms/step - loss: 0.4773 - accuracy: 0.8095 - val_loss: 0.4819 - val_accuracy: 0.8175\n",
      "Epoch 195/500\n",
      "114/114 [==============================] - 1s 6ms/step - loss: 0.4866 - accuracy: 0.8051 - val_loss: 0.5326 - val_accuracy: 0.7794\n",
      "Epoch 196/500\n",
      "114/114 [==============================] - 1s 6ms/step - loss: 0.4806 - accuracy: 0.8239 - val_loss: 0.4934 - val_accuracy: 0.8063\n",
      "Epoch 197/500\n",
      "114/114 [==============================] - 1s 6ms/step - loss: 0.4862 - accuracy: 0.8067 - val_loss: 0.5067 - val_accuracy: 0.7805\n",
      "Epoch 198/500\n",
      "114/114 [==============================] - 1s 6ms/step - loss: 0.4798 - accuracy: 0.8095 - val_loss: 0.5046 - val_accuracy: 0.7996\n",
      "Epoch 199/500\n",
      "114/114 [==============================] - 1s 6ms/step - loss: 0.4706 - accuracy: 0.8106 - val_loss: 0.4895 - val_accuracy: 0.8063\n",
      "Epoch 200/500\n",
      "114/114 [==============================] - 1s 6ms/step - loss: 0.4851 - accuracy: 0.8123 - val_loss: 0.5091 - val_accuracy: 0.8040\n",
      "Epoch 201/500\n",
      "114/114 [==============================] - 1s 6ms/step - loss: 0.4885 - accuracy: 0.8062 - val_loss: 0.4923 - val_accuracy: 0.8175\n",
      "Epoch 202/500\n",
      "114/114 [==============================] - 1s 6ms/step - loss: 0.4736 - accuracy: 0.8084 - val_loss: 0.4881 - val_accuracy: 0.8040\n",
      "Epoch 203/500\n",
      "114/114 [==============================] - 1s 6ms/step - loss: 0.4797 - accuracy: 0.8123 - val_loss: 0.5205 - val_accuracy: 0.7648\n",
      "Epoch 204/500\n",
      "114/114 [==============================] - 1s 6ms/step - loss: 0.4701 - accuracy: 0.8222 - val_loss: 0.5107 - val_accuracy: 0.8163\n",
      "Epoch 205/500\n",
      "114/114 [==============================] - 1s 6ms/step - loss: 0.4746 - accuracy: 0.8172 - val_loss: 0.5515 - val_accuracy: 0.7816\n",
      "Epoch 206/500\n",
      "114/114 [==============================] - 1s 6ms/step - loss: 0.4544 - accuracy: 0.8161 - val_loss: 0.4972 - val_accuracy: 0.8040\n",
      "Epoch 207/500\n",
      "114/114 [==============================] - 1s 6ms/step - loss: 0.4699 - accuracy: 0.8178 - val_loss: 0.5095 - val_accuracy: 0.8029\n",
      "Epoch 208/500\n",
      "114/114 [==============================] - 1s 6ms/step - loss: 0.4752 - accuracy: 0.8156 - val_loss: 0.4812 - val_accuracy: 0.8108\n",
      "Epoch 209/500\n",
      "114/114 [==============================] - 1s 6ms/step - loss: 0.4605 - accuracy: 0.8178 - val_loss: 0.4727 - val_accuracy: 0.8208\n",
      "Epoch 210/500\n",
      "114/114 [==============================] - 1s 6ms/step - loss: 0.4633 - accuracy: 0.8255 - val_loss: 0.4862 - val_accuracy: 0.7928\n",
      "Epoch 211/500\n",
      "114/114 [==============================] - 1s 6ms/step - loss: 0.4786 - accuracy: 0.8117 - val_loss: 0.5297 - val_accuracy: 0.7962\n",
      "Epoch 212/500\n",
      "114/114 [==============================] - 1s 6ms/step - loss: 0.4713 - accuracy: 0.8134 - val_loss: 0.4720 - val_accuracy: 0.8108\n",
      "Epoch 213/500\n",
      "114/114 [==============================] - 1s 6ms/step - loss: 0.4586 - accuracy: 0.8277 - val_loss: 0.4859 - val_accuracy: 0.8119\n",
      "Epoch 214/500\n",
      "114/114 [==============================] - 1s 6ms/step - loss: 0.4719 - accuracy: 0.8117 - val_loss: 0.4991 - val_accuracy: 0.8029\n",
      "Epoch 215/500\n",
      "114/114 [==============================] - 1s 6ms/step - loss: 0.4690 - accuracy: 0.8183 - val_loss: 0.4776 - val_accuracy: 0.8052\n",
      "Epoch 216/500\n",
      "114/114 [==============================] - 1s 6ms/step - loss: 0.4695 - accuracy: 0.8128 - val_loss: 0.5259 - val_accuracy: 0.8074\n",
      "Epoch 217/500\n",
      "114/114 [==============================] - 1s 6ms/step - loss: 0.4653 - accuracy: 0.8112 - val_loss: 0.4734 - val_accuracy: 0.8264\n",
      "Epoch 218/500\n",
      "114/114 [==============================] - 1s 6ms/step - loss: 0.4683 - accuracy: 0.8078 - val_loss: 0.4897 - val_accuracy: 0.8242\n",
      "Epoch 219/500\n",
      "114/114 [==============================] - 1s 6ms/step - loss: 0.4554 - accuracy: 0.8134 - val_loss: 0.4863 - val_accuracy: 0.8085\n",
      "Epoch 220/500\n",
      "114/114 [==============================] - 1s 6ms/step - loss: 0.4657 - accuracy: 0.8167 - val_loss: 0.4803 - val_accuracy: 0.8096\n",
      "Epoch 221/500\n",
      "114/114 [==============================] - 1s 6ms/step - loss: 0.4631 - accuracy: 0.8167 - val_loss: 0.4694 - val_accuracy: 0.8175\n",
      "Epoch 222/500\n",
      "114/114 [==============================] - 1s 6ms/step - loss: 0.4625 - accuracy: 0.8233 - val_loss: 0.4971 - val_accuracy: 0.8029\n",
      "Epoch 223/500\n",
      "114/114 [==============================] - 1s 6ms/step - loss: 0.4608 - accuracy: 0.8183 - val_loss: 0.4865 - val_accuracy: 0.8074\n",
      "Epoch 224/500\n",
      "114/114 [==============================] - 1s 6ms/step - loss: 0.4508 - accuracy: 0.8200 - val_loss: 0.5004 - val_accuracy: 0.8096\n",
      "Epoch 225/500\n",
      "114/114 [==============================] - 1s 6ms/step - loss: 0.4578 - accuracy: 0.8139 - val_loss: 0.4836 - val_accuracy: 0.8119\n",
      "Epoch 226/500\n",
      "114/114 [==============================] - 1s 6ms/step - loss: 0.4666 - accuracy: 0.8211 - val_loss: 0.4745 - val_accuracy: 0.8186\n",
      "Epoch 227/500\n"
     ]
    },
    {
     "name": "stdout",
     "output_type": "stream",
     "text": [
      "114/114 [==============================] - 1s 6ms/step - loss: 0.4529 - accuracy: 0.8277 - val_loss: 0.4822 - val_accuracy: 0.8096\n",
      "Epoch 228/500\n",
      "114/114 [==============================] - 1s 6ms/step - loss: 0.4541 - accuracy: 0.8244 - val_loss: 0.4837 - val_accuracy: 0.8029\n",
      "Epoch 229/500\n",
      "114/114 [==============================] - 1s 6ms/step - loss: 0.4605 - accuracy: 0.8178 - val_loss: 0.5226 - val_accuracy: 0.7984\n",
      "Epoch 230/500\n",
      "114/114 [==============================] - 1s 6ms/step - loss: 0.4605 - accuracy: 0.8167 - val_loss: 0.4758 - val_accuracy: 0.8141\n",
      "Epoch 231/500\n",
      "114/114 [==============================] - 1s 6ms/step - loss: 0.4545 - accuracy: 0.8239 - val_loss: 0.4716 - val_accuracy: 0.8130\n",
      "Epoch 232/500\n",
      "114/114 [==============================] - 1s 6ms/step - loss: 0.4566 - accuracy: 0.8156 - val_loss: 0.4750 - val_accuracy: 0.8040\n",
      "Epoch 233/500\n",
      "114/114 [==============================] - 1s 6ms/step - loss: 0.4516 - accuracy: 0.8106 - val_loss: 0.4701 - val_accuracy: 0.8197\n",
      "Epoch 234/500\n",
      "114/114 [==============================] - 1s 6ms/step - loss: 0.4511 - accuracy: 0.8272 - val_loss: 0.4900 - val_accuracy: 0.8141\n",
      "Epoch 235/500\n",
      "114/114 [==============================] - 1s 6ms/step - loss: 0.4498 - accuracy: 0.8250 - val_loss: 0.4903 - val_accuracy: 0.8186\n",
      "Epoch 236/500\n",
      "114/114 [==============================] - 1s 6ms/step - loss: 0.4619 - accuracy: 0.8161 - val_loss: 0.5107 - val_accuracy: 0.8029\n",
      "Epoch 237/500\n",
      "114/114 [==============================] - 1s 6ms/step - loss: 0.4520 - accuracy: 0.8244 - val_loss: 0.4729 - val_accuracy: 0.8063\n",
      "Epoch 238/500\n",
      "114/114 [==============================] - 1s 6ms/step - loss: 0.4537 - accuracy: 0.8167 - val_loss: 0.4788 - val_accuracy: 0.8108\n",
      "Epoch 239/500\n",
      "114/114 [==============================] - 1s 6ms/step - loss: 0.4535 - accuracy: 0.8178 - val_loss: 0.4733 - val_accuracy: 0.8208\n",
      "Epoch 240/500\n",
      "114/114 [==============================] - 1s 6ms/step - loss: 0.4549 - accuracy: 0.8189 - val_loss: 0.4779 - val_accuracy: 0.7895\n",
      "Epoch 241/500\n",
      "114/114 [==============================] - 1s 6ms/step - loss: 0.4455 - accuracy: 0.8288 - val_loss: 0.4591 - val_accuracy: 0.8287\n",
      "Epoch 242/500\n",
      "114/114 [==============================] - 1s 6ms/step - loss: 0.4658 - accuracy: 0.8123 - val_loss: 0.4593 - val_accuracy: 0.8331\n",
      "Epoch 243/500\n",
      "114/114 [==============================] - 1s 6ms/step - loss: 0.4473 - accuracy: 0.8299 - val_loss: 0.4699 - val_accuracy: 0.8208\n",
      "Epoch 244/500\n",
      "114/114 [==============================] - 1s 6ms/step - loss: 0.4506 - accuracy: 0.8189 - val_loss: 0.4684 - val_accuracy: 0.8208\n",
      "Epoch 245/500\n",
      "114/114 [==============================] - 1s 6ms/step - loss: 0.4384 - accuracy: 0.8277 - val_loss: 0.4828 - val_accuracy: 0.8175\n",
      "Epoch 246/500\n",
      "114/114 [==============================] - 1s 6ms/step - loss: 0.4382 - accuracy: 0.8261 - val_loss: 0.4805 - val_accuracy: 0.8175\n",
      "Epoch 247/500\n",
      "114/114 [==============================] - 1s 6ms/step - loss: 0.4381 - accuracy: 0.8343 - val_loss: 0.4754 - val_accuracy: 0.8007\n",
      "Epoch 248/500\n",
      "114/114 [==============================] - 1s 6ms/step - loss: 0.4472 - accuracy: 0.8294 - val_loss: 0.4767 - val_accuracy: 0.8298\n",
      "Epoch 249/500\n",
      "114/114 [==============================] - 1s 6ms/step - loss: 0.4428 - accuracy: 0.8349 - val_loss: 0.4687 - val_accuracy: 0.7962\n",
      "Epoch 250/500\n",
      "114/114 [==============================] - 1s 6ms/step - loss: 0.4409 - accuracy: 0.8283 - val_loss: 0.5032 - val_accuracy: 0.7772\n",
      "Epoch 251/500\n",
      "114/114 [==============================] - 1s 6ms/step - loss: 0.4530 - accuracy: 0.8123 - val_loss: 0.4540 - val_accuracy: 0.8320\n",
      "Epoch 252/500\n",
      "114/114 [==============================] - 1s 6ms/step - loss: 0.4458 - accuracy: 0.8283 - val_loss: 0.4947 - val_accuracy: 0.8108\n",
      "Epoch 253/500\n",
      "114/114 [==============================] - 1s 6ms/step - loss: 0.4424 - accuracy: 0.8222 - val_loss: 0.4586 - val_accuracy: 0.8287\n",
      "Epoch 254/500\n",
      "114/114 [==============================] - 1s 6ms/step - loss: 0.4396 - accuracy: 0.8172 - val_loss: 0.4744 - val_accuracy: 0.8231\n",
      "Epoch 255/500\n",
      "114/114 [==============================] - 1s 6ms/step - loss: 0.4405 - accuracy: 0.8216 - val_loss: 0.4623 - val_accuracy: 0.8387\n",
      "Epoch 256/500\n",
      "114/114 [==============================] - 1s 6ms/step - loss: 0.4417 - accuracy: 0.8277 - val_loss: 0.4708 - val_accuracy: 0.8108\n",
      "Epoch 257/500\n",
      "114/114 [==============================] - 1s 6ms/step - loss: 0.4331 - accuracy: 0.8239 - val_loss: 0.4949 - val_accuracy: 0.8018\n",
      "Epoch 258/500\n",
      "114/114 [==============================] - 1s 6ms/step - loss: 0.4300 - accuracy: 0.8377 - val_loss: 0.4523 - val_accuracy: 0.8298\n",
      "Epoch 259/500\n",
      "114/114 [==============================] - 1s 6ms/step - loss: 0.4296 - accuracy: 0.8404 - val_loss: 0.4551 - val_accuracy: 0.8197\n",
      "Epoch 260/500\n",
      "114/114 [==============================] - 1s 6ms/step - loss: 0.4363 - accuracy: 0.8239 - val_loss: 0.4623 - val_accuracy: 0.8309\n",
      "Epoch 261/500\n",
      "114/114 [==============================] - 1s 6ms/step - loss: 0.4439 - accuracy: 0.8255 - val_loss: 0.4806 - val_accuracy: 0.8152\n",
      "Epoch 262/500\n",
      "114/114 [==============================] - 1s 6ms/step - loss: 0.4308 - accuracy: 0.8299 - val_loss: 0.4500 - val_accuracy: 0.8275\n",
      "Epoch 263/500\n",
      "114/114 [==============================] - 1s 6ms/step - loss: 0.4399 - accuracy: 0.8310 - val_loss: 0.5238 - val_accuracy: 0.7951\n",
      "Epoch 264/500\n",
      "114/114 [==============================] - 1s 6ms/step - loss: 0.4316 - accuracy: 0.8294 - val_loss: 0.4604 - val_accuracy: 0.8376\n",
      "Epoch 265/500\n",
      "114/114 [==============================] - 1s 6ms/step - loss: 0.4344 - accuracy: 0.8288 - val_loss: 0.4605 - val_accuracy: 0.8387\n",
      "Epoch 266/500\n",
      "114/114 [==============================] - 1s 6ms/step - loss: 0.4295 - accuracy: 0.8343 - val_loss: 0.4503 - val_accuracy: 0.8208\n",
      "Epoch 267/500\n",
      "114/114 [==============================] - 1s 6ms/step - loss: 0.4407 - accuracy: 0.8288 - val_loss: 0.4469 - val_accuracy: 0.8432\n",
      "Epoch 268/500\n",
      "114/114 [==============================] - 1s 6ms/step - loss: 0.4350 - accuracy: 0.8239 - val_loss: 0.4575 - val_accuracy: 0.8119\n",
      "Epoch 269/500\n",
      "114/114 [==============================] - 1s 6ms/step - loss: 0.4363 - accuracy: 0.8244 - val_loss: 0.4770 - val_accuracy: 0.8040\n",
      "Epoch 270/500\n",
      "114/114 [==============================] - 1s 6ms/step - loss: 0.4213 - accuracy: 0.8332 - val_loss: 0.5028 - val_accuracy: 0.8040\n",
      "Epoch 271/500\n",
      "114/114 [==============================] - 1s 6ms/step - loss: 0.4331 - accuracy: 0.8250 - val_loss: 0.4647 - val_accuracy: 0.8231\n",
      "Epoch 272/500\n",
      "114/114 [==============================] - 1s 6ms/step - loss: 0.4321 - accuracy: 0.8360 - val_loss: 0.4542 - val_accuracy: 0.8219\n",
      "Epoch 273/500\n",
      "114/114 [==============================] - 1s 6ms/step - loss: 0.4365 - accuracy: 0.8183 - val_loss: 0.4791 - val_accuracy: 0.7861\n",
      "Epoch 274/500\n",
      "114/114 [==============================] - 1s 6ms/step - loss: 0.4228 - accuracy: 0.8360 - val_loss: 0.4582 - val_accuracy: 0.8231\n",
      "Epoch 275/500\n",
      "114/114 [==============================] - 1s 6ms/step - loss: 0.4248 - accuracy: 0.8327 - val_loss: 0.4466 - val_accuracy: 0.8421\n",
      "Epoch 276/500\n",
      "114/114 [==============================] - 1s 6ms/step - loss: 0.4348 - accuracy: 0.8261 - val_loss: 0.4545 - val_accuracy: 0.8141\n",
      "Epoch 277/500\n",
      "114/114 [==============================] - 1s 6ms/step - loss: 0.4280 - accuracy: 0.8316 - val_loss: 0.4522 - val_accuracy: 0.8309\n",
      "Epoch 278/500\n",
      "114/114 [==============================] - 1s 6ms/step - loss: 0.4267 - accuracy: 0.8338 - val_loss: 0.4411 - val_accuracy: 0.8399\n",
      "Epoch 279/500\n",
      "114/114 [==============================] - 1s 6ms/step - loss: 0.4287 - accuracy: 0.8388 - val_loss: 0.4661 - val_accuracy: 0.8208\n",
      "Epoch 280/500\n",
      "114/114 [==============================] - 1s 6ms/step - loss: 0.4180 - accuracy: 0.8399 - val_loss: 0.4556 - val_accuracy: 0.8309\n",
      "Epoch 281/500\n",
      "114/114 [==============================] - 1s 6ms/step - loss: 0.4153 - accuracy: 0.8310 - val_loss: 0.4888 - val_accuracy: 0.7928\n",
      "Epoch 282/500\n",
      "114/114 [==============================] - 1s 6ms/step - loss: 0.4217 - accuracy: 0.8377 - val_loss: 0.4783 - val_accuracy: 0.8242\n",
      "Epoch 283/500\n"
     ]
    },
    {
     "name": "stdout",
     "output_type": "stream",
     "text": [
      "114/114 [==============================] - 1s 6ms/step - loss: 0.4165 - accuracy: 0.8305 - val_loss: 0.4440 - val_accuracy: 0.8399\n",
      "Epoch 284/500\n",
      "114/114 [==============================] - 1s 6ms/step - loss: 0.4252 - accuracy: 0.8321 - val_loss: 0.4539 - val_accuracy: 0.8287\n",
      "Epoch 285/500\n",
      "114/114 [==============================] - 1s 6ms/step - loss: 0.4284 - accuracy: 0.8321 - val_loss: 0.4446 - val_accuracy: 0.8298\n",
      "Epoch 286/500\n",
      "114/114 [==============================] - 1s 6ms/step - loss: 0.4219 - accuracy: 0.8316 - val_loss: 0.4511 - val_accuracy: 0.8376\n",
      "Epoch 287/500\n",
      "114/114 [==============================] - 1s 6ms/step - loss: 0.4272 - accuracy: 0.8321 - val_loss: 0.4752 - val_accuracy: 0.7962\n",
      "Epoch 288/500\n",
      "114/114 [==============================] - 1s 6ms/step - loss: 0.4202 - accuracy: 0.8388 - val_loss: 0.4443 - val_accuracy: 0.8309\n",
      "Epoch 289/500\n",
      "114/114 [==============================] - 1s 6ms/step - loss: 0.4178 - accuracy: 0.8366 - val_loss: 0.4606 - val_accuracy: 0.8186\n",
      "Epoch 290/500\n",
      "114/114 [==============================] - 1s 6ms/step - loss: 0.4146 - accuracy: 0.8382 - val_loss: 0.4782 - val_accuracy: 0.8029\n",
      "Epoch 291/500\n",
      "114/114 [==============================] - 1s 6ms/step - loss: 0.4223 - accuracy: 0.8371 - val_loss: 0.4769 - val_accuracy: 0.8231\n",
      "Epoch 292/500\n",
      "114/114 [==============================] - 1s 6ms/step - loss: 0.4238 - accuracy: 0.8404 - val_loss: 0.4661 - val_accuracy: 0.8298\n",
      "Epoch 293/500\n",
      "114/114 [==============================] - 1s 6ms/step - loss: 0.4164 - accuracy: 0.8388 - val_loss: 0.5629 - val_accuracy: 0.7794\n",
      "Epoch 294/500\n",
      "114/114 [==============================] - 1s 6ms/step - loss: 0.4156 - accuracy: 0.8388 - val_loss: 0.4393 - val_accuracy: 0.8331\n",
      "Epoch 295/500\n",
      "114/114 [==============================] - 1s 6ms/step - loss: 0.4160 - accuracy: 0.8332 - val_loss: 0.4448 - val_accuracy: 0.8141\n",
      "Epoch 296/500\n",
      "114/114 [==============================] - 1s 6ms/step - loss: 0.4202 - accuracy: 0.8410 - val_loss: 0.4999 - val_accuracy: 0.7996\n",
      "Epoch 297/500\n",
      "114/114 [==============================] - 1s 6ms/step - loss: 0.4152 - accuracy: 0.8388 - val_loss: 0.4887 - val_accuracy: 0.8152\n",
      "Epoch 298/500\n",
      "114/114 [==============================] - 1s 6ms/step - loss: 0.4074 - accuracy: 0.8410 - val_loss: 0.4439 - val_accuracy: 0.8410\n",
      "Epoch 299/500\n",
      "114/114 [==============================] - 1s 6ms/step - loss: 0.4132 - accuracy: 0.8382 - val_loss: 0.4339 - val_accuracy: 0.8421\n",
      "Epoch 300/500\n",
      "114/114 [==============================] - 1s 6ms/step - loss: 0.4186 - accuracy: 0.8294 - val_loss: 0.4785 - val_accuracy: 0.7884\n",
      "Epoch 301/500\n",
      "114/114 [==============================] - 1s 6ms/step - loss: 0.4117 - accuracy: 0.8388 - val_loss: 0.4808 - val_accuracy: 0.7928\n",
      "Epoch 302/500\n",
      "114/114 [==============================] - 1s 6ms/step - loss: 0.4162 - accuracy: 0.8299 - val_loss: 0.4302 - val_accuracy: 0.8488\n",
      "Epoch 303/500\n",
      "114/114 [==============================] - 1s 6ms/step - loss: 0.4190 - accuracy: 0.8388 - val_loss: 0.4718 - val_accuracy: 0.7884\n",
      "Epoch 304/500\n",
      "114/114 [==============================] - 1s 6ms/step - loss: 0.4123 - accuracy: 0.8349 - val_loss: 0.4441 - val_accuracy: 0.8242\n",
      "Epoch 305/500\n",
      "114/114 [==============================] - 1s 6ms/step - loss: 0.4131 - accuracy: 0.8470 - val_loss: 0.4465 - val_accuracy: 0.8197\n",
      "Epoch 306/500\n",
      "114/114 [==============================] - 1s 6ms/step - loss: 0.4142 - accuracy: 0.8421 - val_loss: 0.4460 - val_accuracy: 0.8163\n",
      "Epoch 307/500\n",
      "114/114 [==============================] - 1s 6ms/step - loss: 0.4037 - accuracy: 0.8487 - val_loss: 0.4451 - val_accuracy: 0.8343\n",
      "Epoch 308/500\n",
      "114/114 [==============================] - 1s 6ms/step - loss: 0.4164 - accuracy: 0.8250 - val_loss: 0.4515 - val_accuracy: 0.8287\n",
      "Epoch 309/500\n",
      "114/114 [==============================] - 1s 6ms/step - loss: 0.4138 - accuracy: 0.8371 - val_loss: 0.4640 - val_accuracy: 0.8163\n",
      "Epoch 310/500\n",
      "114/114 [==============================] - 1s 6ms/step - loss: 0.4053 - accuracy: 0.8515 - val_loss: 0.4396 - val_accuracy: 0.8253\n",
      "Epoch 311/500\n",
      "114/114 [==============================] - 1s 6ms/step - loss: 0.4080 - accuracy: 0.8388 - val_loss: 0.4488 - val_accuracy: 0.8343\n",
      "Epoch 312/500\n",
      "114/114 [==============================] - 1s 6ms/step - loss: 0.3937 - accuracy: 0.8581 - val_loss: 0.4419 - val_accuracy: 0.8287\n",
      "Epoch 313/500\n",
      "114/114 [==============================] - 1s 6ms/step - loss: 0.4033 - accuracy: 0.8399 - val_loss: 0.4312 - val_accuracy: 0.8331\n",
      "Epoch 314/500\n",
      "114/114 [==============================] - 1s 6ms/step - loss: 0.4036 - accuracy: 0.8448 - val_loss: 0.4427 - val_accuracy: 0.8343\n",
      "Epoch 315/500\n",
      "114/114 [==============================] - 1s 6ms/step - loss: 0.4060 - accuracy: 0.8459 - val_loss: 0.4419 - val_accuracy: 0.8343\n",
      "Epoch 316/500\n",
      "114/114 [==============================] - 1s 6ms/step - loss: 0.4121 - accuracy: 0.8343 - val_loss: 0.4346 - val_accuracy: 0.8387\n",
      "Epoch 317/500\n",
      "114/114 [==============================] - 1s 6ms/step - loss: 0.4164 - accuracy: 0.8393 - val_loss: 0.4489 - val_accuracy: 0.8163\n",
      "Epoch 318/500\n",
      "114/114 [==============================] - 1s 6ms/step - loss: 0.4001 - accuracy: 0.8459 - val_loss: 0.5212 - val_accuracy: 0.7850\n",
      "Epoch 319/500\n",
      "114/114 [==============================] - 1s 6ms/step - loss: 0.4064 - accuracy: 0.8476 - val_loss: 0.4368 - val_accuracy: 0.8320\n",
      "Epoch 320/500\n",
      "114/114 [==============================] - 1s 6ms/step - loss: 0.4143 - accuracy: 0.8382 - val_loss: 0.4296 - val_accuracy: 0.8466\n",
      "Epoch 321/500\n",
      "114/114 [==============================] - 1s 6ms/step - loss: 0.4109 - accuracy: 0.8443 - val_loss: 0.4314 - val_accuracy: 0.8253\n",
      "Epoch 322/500\n",
      "114/114 [==============================] - 1s 6ms/step - loss: 0.4076 - accuracy: 0.8432 - val_loss: 0.4261 - val_accuracy: 0.8466\n",
      "Epoch 323/500\n",
      "114/114 [==============================] - 1s 6ms/step - loss: 0.4028 - accuracy: 0.8410 - val_loss: 0.4258 - val_accuracy: 0.8455\n",
      "Epoch 324/500\n",
      "114/114 [==============================] - 1s 6ms/step - loss: 0.4158 - accuracy: 0.8399 - val_loss: 0.4584 - val_accuracy: 0.8320\n",
      "Epoch 325/500\n",
      "114/114 [==============================] - 1s 6ms/step - loss: 0.3976 - accuracy: 0.8371 - val_loss: 0.4819 - val_accuracy: 0.8197\n",
      "Epoch 326/500\n",
      "114/114 [==============================] - 1s 6ms/step - loss: 0.4082 - accuracy: 0.8448 - val_loss: 0.4733 - val_accuracy: 0.8163\n",
      "Epoch 327/500\n",
      "114/114 [==============================] - 1s 6ms/step - loss: 0.3957 - accuracy: 0.8470 - val_loss: 0.4699 - val_accuracy: 0.8063\n",
      "Epoch 328/500\n",
      "114/114 [==============================] - 1s 6ms/step - loss: 0.3914 - accuracy: 0.8537 - val_loss: 0.4394 - val_accuracy: 0.8298\n",
      "Epoch 329/500\n",
      "114/114 [==============================] - 1s 6ms/step - loss: 0.3998 - accuracy: 0.8426 - val_loss: 0.4236 - val_accuracy: 0.8455\n",
      "Epoch 330/500\n",
      "114/114 [==============================] - 1s 6ms/step - loss: 0.3967 - accuracy: 0.8515 - val_loss: 0.4905 - val_accuracy: 0.8052\n",
      "Epoch 331/500\n",
      "114/114 [==============================] - 1s 6ms/step - loss: 0.4053 - accuracy: 0.8410 - val_loss: 0.4424 - val_accuracy: 0.8298\n",
      "Epoch 332/500\n",
      "114/114 [==============================] - 1s 6ms/step - loss: 0.4011 - accuracy: 0.8470 - val_loss: 0.4797 - val_accuracy: 0.7850\n",
      "Epoch 333/500\n",
      "114/114 [==============================] - 1s 6ms/step - loss: 0.3992 - accuracy: 0.8448 - val_loss: 0.4471 - val_accuracy: 0.8421\n",
      "Epoch 334/500\n",
      "114/114 [==============================] - 1s 6ms/step - loss: 0.3932 - accuracy: 0.8564 - val_loss: 0.4413 - val_accuracy: 0.8208\n",
      "Epoch 335/500\n",
      "114/114 [==============================] - 1s 6ms/step - loss: 0.3903 - accuracy: 0.8520 - val_loss: 0.4326 - val_accuracy: 0.8399\n",
      "Epoch 336/500\n",
      "114/114 [==============================] - 1s 6ms/step - loss: 0.3964 - accuracy: 0.8426 - val_loss: 0.4217 - val_accuracy: 0.8443\n",
      "Epoch 337/500\n",
      "114/114 [==============================] - 1s 6ms/step - loss: 0.3988 - accuracy: 0.8443 - val_loss: 0.4452 - val_accuracy: 0.8197\n",
      "Epoch 338/500\n",
      "114/114 [==============================] - 1s 6ms/step - loss: 0.3956 - accuracy: 0.8559 - val_loss: 0.4391 - val_accuracy: 0.8410\n",
      "Epoch 339/500\n"
     ]
    },
    {
     "name": "stdout",
     "output_type": "stream",
     "text": [
      "114/114 [==============================] - 1s 6ms/step - loss: 0.3883 - accuracy: 0.8520 - val_loss: 0.4361 - val_accuracy: 0.8175\n",
      "Epoch 340/500\n",
      "114/114 [==============================] - 1s 6ms/step - loss: 0.3902 - accuracy: 0.8498 - val_loss: 0.4490 - val_accuracy: 0.8063\n",
      "Epoch 341/500\n",
      "114/114 [==============================] - 1s 6ms/step - loss: 0.3895 - accuracy: 0.8515 - val_loss: 0.4399 - val_accuracy: 0.8387\n",
      "Epoch 342/500\n",
      "114/114 [==============================] - 1s 6ms/step - loss: 0.3876 - accuracy: 0.8515 - val_loss: 0.4867 - val_accuracy: 0.7794\n",
      "Epoch 343/500\n",
      "114/114 [==============================] - 1s 6ms/step - loss: 0.3897 - accuracy: 0.8448 - val_loss: 0.4644 - val_accuracy: 0.8029\n",
      "Epoch 344/500\n",
      "114/114 [==============================] - 1s 6ms/step - loss: 0.3914 - accuracy: 0.8493 - val_loss: 0.4295 - val_accuracy: 0.8298\n",
      "Epoch 345/500\n",
      "114/114 [==============================] - 1s 6ms/step - loss: 0.3873 - accuracy: 0.8470 - val_loss: 0.4289 - val_accuracy: 0.8275\n",
      "Epoch 346/500\n",
      "114/114 [==============================] - 1s 6ms/step - loss: 0.3919 - accuracy: 0.8509 - val_loss: 0.4226 - val_accuracy: 0.8376\n",
      "Epoch 347/500\n",
      "114/114 [==============================] - 1s 6ms/step - loss: 0.3898 - accuracy: 0.8415 - val_loss: 0.4228 - val_accuracy: 0.8432\n",
      "Epoch 348/500\n",
      "114/114 [==============================] - 1s 6ms/step - loss: 0.3923 - accuracy: 0.8487 - val_loss: 0.4648 - val_accuracy: 0.8186\n",
      "Epoch 349/500\n",
      "114/114 [==============================] - 1s 6ms/step - loss: 0.3925 - accuracy: 0.8459 - val_loss: 0.4199 - val_accuracy: 0.8399\n",
      "Epoch 350/500\n",
      "114/114 [==============================] - 1s 6ms/step - loss: 0.3973 - accuracy: 0.8421 - val_loss: 0.4189 - val_accuracy: 0.8443\n",
      "Epoch 351/500\n",
      "114/114 [==============================] - 1s 6ms/step - loss: 0.3921 - accuracy: 0.8426 - val_loss: 0.4617 - val_accuracy: 0.8152\n",
      "Epoch 352/500\n",
      "114/114 [==============================] - 1s 6ms/step - loss: 0.3930 - accuracy: 0.8454 - val_loss: 0.4199 - val_accuracy: 0.8466\n",
      "Epoch 353/500\n",
      "114/114 [==============================] - 1s 6ms/step - loss: 0.3877 - accuracy: 0.8487 - val_loss: 0.4411 - val_accuracy: 0.8331\n",
      "Epoch 354/500\n",
      "114/114 [==============================] - 1s 6ms/step - loss: 0.3893 - accuracy: 0.8509 - val_loss: 0.4193 - val_accuracy: 0.8477\n",
      "Epoch 355/500\n",
      "114/114 [==============================] - 1s 6ms/step - loss: 0.3989 - accuracy: 0.8371 - val_loss: 0.4200 - val_accuracy: 0.8466\n",
      "Epoch 356/500\n",
      "114/114 [==============================] - 1s 6ms/step - loss: 0.3830 - accuracy: 0.8548 - val_loss: 0.4432 - val_accuracy: 0.8130\n",
      "Epoch 357/500\n",
      "114/114 [==============================] - 1s 6ms/step - loss: 0.3939 - accuracy: 0.8470 - val_loss: 0.5070 - val_accuracy: 0.7917\n",
      "Epoch 358/500\n",
      "114/114 [==============================] - 1s 6ms/step - loss: 0.3860 - accuracy: 0.8564 - val_loss: 0.4406 - val_accuracy: 0.8231\n",
      "Epoch 359/500\n",
      "114/114 [==============================] - 1s 6ms/step - loss: 0.3791 - accuracy: 0.8526 - val_loss: 0.4434 - val_accuracy: 0.8163\n",
      "Epoch 360/500\n",
      "114/114 [==============================] - 1s 6ms/step - loss: 0.3902 - accuracy: 0.8526 - val_loss: 0.4191 - val_accuracy: 0.8410\n",
      "Epoch 361/500\n",
      "114/114 [==============================] - 1s 6ms/step - loss: 0.3817 - accuracy: 0.8542 - val_loss: 0.4623 - val_accuracy: 0.8152\n",
      "Epoch 362/500\n",
      "114/114 [==============================] - 1s 6ms/step - loss: 0.3763 - accuracy: 0.8586 - val_loss: 0.4539 - val_accuracy: 0.8253\n",
      "Epoch 363/500\n",
      "114/114 [==============================] - 1s 6ms/step - loss: 0.3856 - accuracy: 0.8421 - val_loss: 0.4626 - val_accuracy: 0.8163\n",
      "Epoch 364/500\n",
      "114/114 [==============================] - 1s 6ms/step - loss: 0.3798 - accuracy: 0.8526 - val_loss: 0.4482 - val_accuracy: 0.8208\n",
      "Epoch 365/500\n",
      "114/114 [==============================] - 1s 6ms/step - loss: 0.3807 - accuracy: 0.8465 - val_loss: 0.5148 - val_accuracy: 0.7637\n",
      "Epoch 366/500\n",
      "114/114 [==============================] - 1s 6ms/step - loss: 0.3894 - accuracy: 0.8586 - val_loss: 0.4595 - val_accuracy: 0.8074\n",
      "Epoch 367/500\n",
      "114/114 [==============================] - 1s 6ms/step - loss: 0.3846 - accuracy: 0.8603 - val_loss: 0.4234 - val_accuracy: 0.8432\n",
      "Epoch 368/500\n",
      "114/114 [==============================] - 1s 6ms/step - loss: 0.3774 - accuracy: 0.8542 - val_loss: 0.4269 - val_accuracy: 0.8421\n",
      "Epoch 369/500\n",
      "114/114 [==============================] - 1s 6ms/step - loss: 0.3783 - accuracy: 0.8459 - val_loss: 0.4699 - val_accuracy: 0.8242\n",
      "Epoch 370/500\n",
      "114/114 [==============================] - 1s 6ms/step - loss: 0.3796 - accuracy: 0.8570 - val_loss: 0.4166 - val_accuracy: 0.8455\n",
      "Epoch 371/500\n",
      "114/114 [==============================] - 1s 6ms/step - loss: 0.3818 - accuracy: 0.8482 - val_loss: 0.4148 - val_accuracy: 0.8555\n",
      "Epoch 372/500\n",
      "114/114 [==============================] - 1s 6ms/step - loss: 0.3811 - accuracy: 0.8564 - val_loss: 0.4468 - val_accuracy: 0.8275\n",
      "Epoch 373/500\n",
      "114/114 [==============================] - 1s 6ms/step - loss: 0.3765 - accuracy: 0.8570 - val_loss: 0.4616 - val_accuracy: 0.8298\n",
      "Epoch 374/500\n",
      "114/114 [==============================] - 1s 6ms/step - loss: 0.3764 - accuracy: 0.8597 - val_loss: 0.4125 - val_accuracy: 0.8443\n",
      "Epoch 375/500\n",
      "114/114 [==============================] - 1s 6ms/step - loss: 0.3734 - accuracy: 0.8581 - val_loss: 0.4394 - val_accuracy: 0.8309\n",
      "Epoch 376/500\n",
      "114/114 [==============================] - 1s 6ms/step - loss: 0.3662 - accuracy: 0.8586 - val_loss: 0.4344 - val_accuracy: 0.8309\n",
      "Epoch 377/500\n",
      "114/114 [==============================] - 1s 6ms/step - loss: 0.3763 - accuracy: 0.8515 - val_loss: 0.4141 - val_accuracy: 0.8488\n",
      "Epoch 378/500\n",
      "114/114 [==============================] - 1s 6ms/step - loss: 0.3707 - accuracy: 0.8631 - val_loss: 0.4547 - val_accuracy: 0.8141\n",
      "Epoch 379/500\n",
      "114/114 [==============================] - 1s 6ms/step - loss: 0.3725 - accuracy: 0.8564 - val_loss: 0.4278 - val_accuracy: 0.8387\n",
      "Epoch 380/500\n",
      "114/114 [==============================] - 1s 6ms/step - loss: 0.3714 - accuracy: 0.8597 - val_loss: 0.4372 - val_accuracy: 0.8242\n",
      "Epoch 381/500\n",
      "114/114 [==============================] - 1s 6ms/step - loss: 0.3797 - accuracy: 0.8487 - val_loss: 0.4155 - val_accuracy: 0.8522\n",
      "Epoch 382/500\n",
      "114/114 [==============================] - 1s 6ms/step - loss: 0.3823 - accuracy: 0.8537 - val_loss: 0.4213 - val_accuracy: 0.8376\n",
      "Epoch 383/500\n",
      "114/114 [==============================] - 1s 6ms/step - loss: 0.3625 - accuracy: 0.8509 - val_loss: 0.4440 - val_accuracy: 0.8175\n",
      "Epoch 384/500\n",
      "114/114 [==============================] - 1s 6ms/step - loss: 0.3728 - accuracy: 0.8559 - val_loss: 0.4317 - val_accuracy: 0.8242\n",
      "Epoch 385/500\n",
      "114/114 [==============================] - 1s 6ms/step - loss: 0.3723 - accuracy: 0.8493 - val_loss: 0.4281 - val_accuracy: 0.8231\n",
      "Epoch 386/500\n",
      "114/114 [==============================] - 1s 6ms/step - loss: 0.3728 - accuracy: 0.8586 - val_loss: 0.4349 - val_accuracy: 0.8387\n",
      "Epoch 387/500\n",
      "114/114 [==============================] - 1s 6ms/step - loss: 0.3748 - accuracy: 0.8465 - val_loss: 0.4430 - val_accuracy: 0.8074\n",
      "Epoch 388/500\n",
      "114/114 [==============================] - 1s 6ms/step - loss: 0.3778 - accuracy: 0.8515 - val_loss: 0.4451 - val_accuracy: 0.8343\n",
      "Epoch 389/500\n",
      "114/114 [==============================] - 1s 6ms/step - loss: 0.3786 - accuracy: 0.8493 - val_loss: 0.4760 - val_accuracy: 0.8085\n",
      "Epoch 390/500\n",
      "114/114 [==============================] - 1s 6ms/step - loss: 0.3726 - accuracy: 0.8625 - val_loss: 0.4357 - val_accuracy: 0.8354\n",
      "Epoch 391/500\n",
      "114/114 [==============================] - 1s 6ms/step - loss: 0.3733 - accuracy: 0.8526 - val_loss: 0.4098 - val_accuracy: 0.8387\n",
      "Epoch 392/500\n",
      "114/114 [==============================] - 1s 6ms/step - loss: 0.3730 - accuracy: 0.8531 - val_loss: 0.4468 - val_accuracy: 0.8175\n",
      "Epoch 393/500\n",
      "114/114 [==============================] - 1s 6ms/step - loss: 0.3644 - accuracy: 0.8592 - val_loss: 0.4488 - val_accuracy: 0.8152\n",
      "Epoch 394/500\n",
      "114/114 [==============================] - 1s 6ms/step - loss: 0.3758 - accuracy: 0.8586 - val_loss: 0.4284 - val_accuracy: 0.8399\n",
      "Epoch 395/500\n"
     ]
    },
    {
     "name": "stdout",
     "output_type": "stream",
     "text": [
      "114/114 [==============================] - 1s 6ms/step - loss: 0.3625 - accuracy: 0.8559 - val_loss: 0.4294 - val_accuracy: 0.8208\n",
      "Epoch 396/500\n",
      "114/114 [==============================] - 1s 6ms/step - loss: 0.3729 - accuracy: 0.8531 - val_loss: 0.4369 - val_accuracy: 0.8130\n",
      "Epoch 397/500\n",
      "114/114 [==============================] - 1s 6ms/step - loss: 0.3610 - accuracy: 0.8597 - val_loss: 0.4288 - val_accuracy: 0.8242\n",
      "Epoch 398/500\n",
      "114/114 [==============================] - 1s 6ms/step - loss: 0.3717 - accuracy: 0.8570 - val_loss: 0.4112 - val_accuracy: 0.8499\n",
      "Epoch 399/500\n",
      "114/114 [==============================] - 1s 6ms/step - loss: 0.3738 - accuracy: 0.8625 - val_loss: 0.4195 - val_accuracy: 0.8343\n",
      "Epoch 400/500\n",
      "114/114 [==============================] - 1s 6ms/step - loss: 0.3709 - accuracy: 0.8664 - val_loss: 0.4265 - val_accuracy: 0.8320\n",
      "Epoch 401/500\n",
      "114/114 [==============================] - 1s 6ms/step - loss: 0.3684 - accuracy: 0.8664 - val_loss: 0.4272 - val_accuracy: 0.8354\n",
      "Epoch 402/500\n",
      "114/114 [==============================] - 1s 6ms/step - loss: 0.3756 - accuracy: 0.8592 - val_loss: 0.4328 - val_accuracy: 0.8399\n",
      "Epoch 403/500\n",
      "114/114 [==============================] - 1s 6ms/step - loss: 0.3741 - accuracy: 0.8581 - val_loss: 0.4076 - val_accuracy: 0.8354\n",
      "Epoch 404/500\n",
      "114/114 [==============================] - 1s 6ms/step - loss: 0.3632 - accuracy: 0.8592 - val_loss: 0.4224 - val_accuracy: 0.8309\n",
      "Epoch 405/500\n",
      "114/114 [==============================] - 1s 6ms/step - loss: 0.3688 - accuracy: 0.8603 - val_loss: 0.4178 - val_accuracy: 0.8253\n",
      "Epoch 406/500\n",
      "114/114 [==============================] - 1s 6ms/step - loss: 0.3649 - accuracy: 0.8542 - val_loss: 0.4221 - val_accuracy: 0.8421\n",
      "Epoch 407/500\n",
      "114/114 [==============================] - 1s 6ms/step - loss: 0.3662 - accuracy: 0.8542 - val_loss: 0.4301 - val_accuracy: 0.8175\n",
      "Epoch 408/500\n",
      "114/114 [==============================] - 1s 6ms/step - loss: 0.3598 - accuracy: 0.8647 - val_loss: 0.4114 - val_accuracy: 0.8399\n",
      "Epoch 409/500\n",
      "114/114 [==============================] - 1s 6ms/step - loss: 0.3620 - accuracy: 0.8620 - val_loss: 0.4768 - val_accuracy: 0.8096\n",
      "Epoch 410/500\n",
      "114/114 [==============================] - 1s 6ms/step - loss: 0.3577 - accuracy: 0.8686 - val_loss: 0.4298 - val_accuracy: 0.8309\n",
      "Epoch 411/500\n",
      "114/114 [==============================] - 1s 6ms/step - loss: 0.3655 - accuracy: 0.8658 - val_loss: 0.4401 - val_accuracy: 0.8186\n",
      "Epoch 412/500\n",
      "114/114 [==============================] - 1s 6ms/step - loss: 0.3575 - accuracy: 0.8620 - val_loss: 0.4386 - val_accuracy: 0.8365\n",
      "Epoch 413/500\n",
      "114/114 [==============================] - 1s 6ms/step - loss: 0.3570 - accuracy: 0.8597 - val_loss: 0.4293 - val_accuracy: 0.8242\n",
      "Epoch 414/500\n",
      "114/114 [==============================] - 1s 6ms/step - loss: 0.3507 - accuracy: 0.8669 - val_loss: 0.4439 - val_accuracy: 0.8343\n",
      "Epoch 415/500\n",
      "114/114 [==============================] - 1s 6ms/step - loss: 0.3596 - accuracy: 0.8603 - val_loss: 0.4188 - val_accuracy: 0.8287\n",
      "Epoch 416/500\n",
      "114/114 [==============================] - 1s 6ms/step - loss: 0.3646 - accuracy: 0.8631 - val_loss: 0.4060 - val_accuracy: 0.8555\n",
      "Epoch 417/500\n",
      "114/114 [==============================] - 1s 6ms/step - loss: 0.3655 - accuracy: 0.8609 - val_loss: 0.4333 - val_accuracy: 0.8275\n",
      "Epoch 418/500\n",
      "114/114 [==============================] - 1s 6ms/step - loss: 0.3665 - accuracy: 0.8531 - val_loss: 0.4452 - val_accuracy: 0.8074\n",
      "Epoch 419/500\n",
      "114/114 [==============================] - 1s 6ms/step - loss: 0.3567 - accuracy: 0.8631 - val_loss: 0.4370 - val_accuracy: 0.8175\n",
      "Epoch 420/500\n",
      "114/114 [==============================] - 1s 6ms/step - loss: 0.3575 - accuracy: 0.8620 - val_loss: 0.4074 - val_accuracy: 0.8365\n",
      "Epoch 421/500\n",
      "114/114 [==============================] - 1s 6ms/step - loss: 0.3589 - accuracy: 0.8575 - val_loss: 0.4209 - val_accuracy: 0.8477\n",
      "Epoch 422/500\n",
      "114/114 [==============================] - 1s 6ms/step - loss: 0.3604 - accuracy: 0.8597 - val_loss: 0.4082 - val_accuracy: 0.8376\n",
      "Epoch 423/500\n",
      "114/114 [==============================] - 1s 6ms/step - loss: 0.3632 - accuracy: 0.8592 - val_loss: 0.4140 - val_accuracy: 0.8466\n",
      "Epoch 424/500\n",
      "114/114 [==============================] - 1s 6ms/step - loss: 0.3577 - accuracy: 0.8680 - val_loss: 0.4451 - val_accuracy: 0.8130\n",
      "Epoch 425/500\n",
      "114/114 [==============================] - 1s 6ms/step - loss: 0.3499 - accuracy: 0.8697 - val_loss: 0.4237 - val_accuracy: 0.8275\n",
      "Epoch 426/500\n",
      "114/114 [==============================] - 1s 6ms/step - loss: 0.3568 - accuracy: 0.8642 - val_loss: 0.4176 - val_accuracy: 0.8410\n",
      "Epoch 427/500\n",
      "114/114 [==============================] - 1s 6ms/step - loss: 0.3549 - accuracy: 0.8730 - val_loss: 0.4161 - val_accuracy: 0.8331\n",
      "Epoch 428/500\n",
      "114/114 [==============================] - 1s 6ms/step - loss: 0.3524 - accuracy: 0.8719 - val_loss: 0.4230 - val_accuracy: 0.8410\n",
      "Epoch 429/500\n",
      "114/114 [==============================] - 1s 6ms/step - loss: 0.3570 - accuracy: 0.8553 - val_loss: 0.4302 - val_accuracy: 0.8343\n",
      "Epoch 430/500\n",
      "114/114 [==============================] - 1s 6ms/step - loss: 0.3563 - accuracy: 0.8531 - val_loss: 0.4123 - val_accuracy: 0.8432\n",
      "Epoch 431/500\n",
      "114/114 [==============================] - 1s 6ms/step - loss: 0.3564 - accuracy: 0.8603 - val_loss: 0.4327 - val_accuracy: 0.8287\n",
      "Epoch 432/500\n",
      "114/114 [==============================] - 1s 6ms/step - loss: 0.3587 - accuracy: 0.8564 - val_loss: 0.4654 - val_accuracy: 0.8063\n",
      "Epoch 433/500\n",
      "114/114 [==============================] - 1s 6ms/step - loss: 0.3582 - accuracy: 0.8564 - val_loss: 0.4486 - val_accuracy: 0.8141\n",
      "Epoch 434/500\n",
      "114/114 [==============================] - 1s 6ms/step - loss: 0.3492 - accuracy: 0.8636 - val_loss: 0.4707 - val_accuracy: 0.7973\n",
      "Epoch 435/500\n",
      "114/114 [==============================] - 1s 6ms/step - loss: 0.3553 - accuracy: 0.8625 - val_loss: 0.4076 - val_accuracy: 0.8443\n",
      "Epoch 436/500\n",
      "114/114 [==============================] - 1s 6ms/step - loss: 0.3609 - accuracy: 0.8609 - val_loss: 0.3998 - val_accuracy: 0.8555\n",
      "Epoch 437/500\n",
      "114/114 [==============================] - 1s 6ms/step - loss: 0.3554 - accuracy: 0.8636 - val_loss: 0.3990 - val_accuracy: 0.8410\n",
      "Epoch 438/500\n",
      "114/114 [==============================] - 1s 6ms/step - loss: 0.3540 - accuracy: 0.8542 - val_loss: 0.4447 - val_accuracy: 0.8343\n",
      "Epoch 439/500\n",
      "114/114 [==============================] - 1s 6ms/step - loss: 0.3549 - accuracy: 0.8647 - val_loss: 0.4085 - val_accuracy: 0.8410\n",
      "Epoch 440/500\n",
      "114/114 [==============================] - 1s 6ms/step - loss: 0.3603 - accuracy: 0.8537 - val_loss: 0.4307 - val_accuracy: 0.8354\n",
      "Epoch 441/500\n",
      "114/114 [==============================] - 1s 6ms/step - loss: 0.3542 - accuracy: 0.8664 - val_loss: 0.4255 - val_accuracy: 0.8376\n",
      "Epoch 442/500\n",
      "114/114 [==============================] - 1s 6ms/step - loss: 0.3503 - accuracy: 0.8736 - val_loss: 0.4003 - val_accuracy: 0.8399\n",
      "Epoch 443/500\n",
      "114/114 [==============================] - 1s 6ms/step - loss: 0.3476 - accuracy: 0.8636 - val_loss: 0.4301 - val_accuracy: 0.8298\n",
      "Epoch 444/500\n",
      "114/114 [==============================] - 1s 6ms/step - loss: 0.3415 - accuracy: 0.8724 - val_loss: 0.4393 - val_accuracy: 0.8208\n",
      "Epoch 445/500\n",
      "114/114 [==============================] - 1s 6ms/step - loss: 0.3454 - accuracy: 0.8691 - val_loss: 0.4120 - val_accuracy: 0.8432\n",
      "Epoch 446/500\n",
      "114/114 [==============================] - 1s 6ms/step - loss: 0.3547 - accuracy: 0.8653 - val_loss: 0.4132 - val_accuracy: 0.8421\n",
      "Epoch 447/500\n",
      "114/114 [==============================] - 1s 6ms/step - loss: 0.3520 - accuracy: 0.8642 - val_loss: 0.4230 - val_accuracy: 0.8331\n",
      "Epoch 448/500\n",
      "114/114 [==============================] - 1s 6ms/step - loss: 0.3479 - accuracy: 0.8680 - val_loss: 0.3999 - val_accuracy: 0.8522\n",
      "Epoch 449/500\n",
      "114/114 [==============================] - 1s 6ms/step - loss: 0.3528 - accuracy: 0.8647 - val_loss: 0.4285 - val_accuracy: 0.8365\n",
      "Epoch 450/500\n",
      "114/114 [==============================] - 1s 6ms/step - loss: 0.3417 - accuracy: 0.8647 - val_loss: 0.4051 - val_accuracy: 0.8443\n",
      "Epoch 451/500\n"
     ]
    },
    {
     "name": "stdout",
     "output_type": "stream",
     "text": [
      "114/114 [==============================] - 1s 6ms/step - loss: 0.3517 - accuracy: 0.8702 - val_loss: 0.3987 - val_accuracy: 0.8511\n",
      "Epoch 452/500\n",
      "114/114 [==============================] - 1s 6ms/step - loss: 0.3466 - accuracy: 0.8653 - val_loss: 0.4109 - val_accuracy: 0.8499\n",
      "Epoch 453/500\n",
      "114/114 [==============================] - 1s 6ms/step - loss: 0.3451 - accuracy: 0.8675 - val_loss: 0.4607 - val_accuracy: 0.8331\n",
      "Epoch 454/500\n",
      "114/114 [==============================] - 1s 6ms/step - loss: 0.3483 - accuracy: 0.8653 - val_loss: 0.4473 - val_accuracy: 0.8343\n",
      "Epoch 455/500\n",
      "114/114 [==============================] - 1s 6ms/step - loss: 0.3493 - accuracy: 0.8675 - val_loss: 0.3976 - val_accuracy: 0.8488\n",
      "Epoch 456/500\n",
      "114/114 [==============================] - 1s 6ms/step - loss: 0.3441 - accuracy: 0.8741 - val_loss: 0.4296 - val_accuracy: 0.8298\n",
      "Epoch 457/500\n",
      "114/114 [==============================] - 1s 6ms/step - loss: 0.3454 - accuracy: 0.8620 - val_loss: 0.3960 - val_accuracy: 0.8432\n",
      "Epoch 458/500\n",
      "114/114 [==============================] - 1s 6ms/step - loss: 0.3566 - accuracy: 0.8631 - val_loss: 0.4403 - val_accuracy: 0.8096\n",
      "Epoch 459/500\n",
      "114/114 [==============================] - 1s 6ms/step - loss: 0.3395 - accuracy: 0.8669 - val_loss: 0.4275 - val_accuracy: 0.8219\n",
      "Epoch 460/500\n",
      "114/114 [==============================] - 1s 6ms/step - loss: 0.3464 - accuracy: 0.8780 - val_loss: 0.3997 - val_accuracy: 0.8488\n",
      "Epoch 461/500\n",
      "114/114 [==============================] - 1s 6ms/step - loss: 0.3403 - accuracy: 0.8708 - val_loss: 0.4279 - val_accuracy: 0.8387\n",
      "Epoch 462/500\n",
      "114/114 [==============================] - 1s 6ms/step - loss: 0.3443 - accuracy: 0.8658 - val_loss: 0.4108 - val_accuracy: 0.8365\n",
      "Epoch 463/500\n",
      "114/114 [==============================] - 1s 6ms/step - loss: 0.3460 - accuracy: 0.8730 - val_loss: 0.4035 - val_accuracy: 0.8511\n",
      "Epoch 464/500\n",
      "114/114 [==============================] - 1s 6ms/step - loss: 0.3520 - accuracy: 0.8642 - val_loss: 0.4194 - val_accuracy: 0.8399\n",
      "Epoch 465/500\n",
      "114/114 [==============================] - 1s 6ms/step - loss: 0.3451 - accuracy: 0.8603 - val_loss: 0.4074 - val_accuracy: 0.8477\n",
      "Epoch 466/500\n",
      "114/114 [==============================] - 1s 6ms/step - loss: 0.3425 - accuracy: 0.8664 - val_loss: 0.4791 - val_accuracy: 0.7984\n",
      "Epoch 467/500\n",
      "114/114 [==============================] - 1s 6ms/step - loss: 0.3486 - accuracy: 0.8664 - val_loss: 0.4240 - val_accuracy: 0.8331\n",
      "Epoch 468/500\n",
      "114/114 [==============================] - 1s 6ms/step - loss: 0.3409 - accuracy: 0.8653 - val_loss: 0.4114 - val_accuracy: 0.8275\n",
      "Epoch 469/500\n",
      "114/114 [==============================] - 1s 6ms/step - loss: 0.3419 - accuracy: 0.8719 - val_loss: 0.4023 - val_accuracy: 0.8466\n",
      "Epoch 470/500\n",
      "114/114 [==============================] - 1s 6ms/step - loss: 0.3504 - accuracy: 0.8553 - val_loss: 0.3955 - val_accuracy: 0.8443\n",
      "Epoch 471/500\n",
      "114/114 [==============================] - 1s 6ms/step - loss: 0.3392 - accuracy: 0.8653 - val_loss: 0.4110 - val_accuracy: 0.8466\n",
      "Epoch 472/500\n",
      "114/114 [==============================] - 1s 6ms/step - loss: 0.3402 - accuracy: 0.8642 - val_loss: 0.4079 - val_accuracy: 0.8399\n",
      "Epoch 473/500\n",
      "114/114 [==============================] - 1s 6ms/step - loss: 0.3502 - accuracy: 0.8697 - val_loss: 0.4450 - val_accuracy: 0.8298\n",
      "Epoch 474/500\n",
      "114/114 [==============================] - 1s 6ms/step - loss: 0.3362 - accuracy: 0.8719 - val_loss: 0.3973 - val_accuracy: 0.8488\n",
      "Epoch 475/500\n",
      "114/114 [==============================] - 1s 6ms/step - loss: 0.3383 - accuracy: 0.8719 - val_loss: 0.3930 - val_accuracy: 0.8555\n",
      "Epoch 476/500\n",
      "114/114 [==============================] - 1s 6ms/step - loss: 0.3437 - accuracy: 0.8664 - val_loss: 0.4167 - val_accuracy: 0.8331\n",
      "Epoch 477/500\n",
      "114/114 [==============================] - 1s 6ms/step - loss: 0.3429 - accuracy: 0.8680 - val_loss: 0.4365 - val_accuracy: 0.8298\n",
      "Epoch 478/500\n",
      "114/114 [==============================] - 1s 6ms/step - loss: 0.3447 - accuracy: 0.8658 - val_loss: 0.4509 - val_accuracy: 0.8219\n",
      "Epoch 479/500\n",
      "114/114 [==============================] - 1s 6ms/step - loss: 0.3344 - accuracy: 0.8769 - val_loss: 0.4170 - val_accuracy: 0.8466\n",
      "Epoch 480/500\n",
      "114/114 [==============================] - 1s 6ms/step - loss: 0.3342 - accuracy: 0.8758 - val_loss: 0.4143 - val_accuracy: 0.8387\n",
      "Epoch 481/500\n",
      "114/114 [==============================] - 1s 6ms/step - loss: 0.3404 - accuracy: 0.8625 - val_loss: 0.4187 - val_accuracy: 0.8387\n",
      "Epoch 482/500\n",
      "114/114 [==============================] - 1s 6ms/step - loss: 0.3276 - accuracy: 0.8758 - val_loss: 0.4227 - val_accuracy: 0.8309\n",
      "Epoch 483/500\n",
      "114/114 [==============================] - 1s 6ms/step - loss: 0.3344 - accuracy: 0.8658 - val_loss: 0.4306 - val_accuracy: 0.8354\n",
      "Epoch 484/500\n",
      "114/114 [==============================] - 1s 6ms/step - loss: 0.3397 - accuracy: 0.8736 - val_loss: 0.4039 - val_accuracy: 0.8511\n",
      "Epoch 485/500\n",
      "114/114 [==============================] - 1s 6ms/step - loss: 0.3344 - accuracy: 0.8642 - val_loss: 0.3976 - val_accuracy: 0.8387\n",
      "Epoch 486/500\n",
      "114/114 [==============================] - 1s 6ms/step - loss: 0.3254 - accuracy: 0.8846 - val_loss: 0.4087 - val_accuracy: 0.8466\n",
      "Epoch 487/500\n",
      "114/114 [==============================] - 1s 6ms/step - loss: 0.3313 - accuracy: 0.8769 - val_loss: 0.4038 - val_accuracy: 0.8432\n",
      "Epoch 488/500\n",
      "114/114 [==============================] - 1s 6ms/step - loss: 0.3391 - accuracy: 0.8653 - val_loss: 0.4385 - val_accuracy: 0.8399\n",
      "Epoch 489/500\n",
      "114/114 [==============================] - 1s 6ms/step - loss: 0.3377 - accuracy: 0.8730 - val_loss: 0.4019 - val_accuracy: 0.8555\n",
      "Epoch 490/500\n",
      "114/114 [==============================] - 1s 6ms/step - loss: 0.3390 - accuracy: 0.8708 - val_loss: 0.4383 - val_accuracy: 0.8253\n",
      "Epoch 491/500\n",
      "114/114 [==============================] - 1s 6ms/step - loss: 0.3334 - accuracy: 0.8724 - val_loss: 0.4186 - val_accuracy: 0.8410\n",
      "Epoch 492/500\n",
      "114/114 [==============================] - 1s 6ms/step - loss: 0.3354 - accuracy: 0.8736 - val_loss: 0.4067 - val_accuracy: 0.8343\n",
      "Epoch 493/500\n",
      "114/114 [==============================] - 1s 6ms/step - loss: 0.3404 - accuracy: 0.8697 - val_loss: 0.3927 - val_accuracy: 0.8623\n",
      "Epoch 494/500\n",
      "114/114 [==============================] - 1s 6ms/step - loss: 0.3331 - accuracy: 0.8752 - val_loss: 0.4249 - val_accuracy: 0.8443\n",
      "Epoch 495/500\n",
      "114/114 [==============================] - 1s 6ms/step - loss: 0.3359 - accuracy: 0.8631 - val_loss: 0.4293 - val_accuracy: 0.8253\n",
      "Epoch 496/500\n",
      "114/114 [==============================] - 1s 6ms/step - loss: 0.3258 - accuracy: 0.8863 - val_loss: 0.3962 - val_accuracy: 0.8511\n",
      "Epoch 497/500\n",
      "114/114 [==============================] - 1s 6ms/step - loss: 0.3397 - accuracy: 0.8702 - val_loss: 0.3981 - val_accuracy: 0.8499\n",
      "Epoch 498/500\n",
      "114/114 [==============================] - 1s 6ms/step - loss: 0.3374 - accuracy: 0.8647 - val_loss: 0.3954 - val_accuracy: 0.8533\n",
      "Epoch 499/500\n",
      "114/114 [==============================] - 1s 6ms/step - loss: 0.3361 - accuracy: 0.8686 - val_loss: 0.4097 - val_accuracy: 0.8511\n",
      "Epoch 500/500\n",
      "114/114 [==============================] - 1s 6ms/step - loss: 0.3329 - accuracy: 0.8785 - val_loss: 0.4084 - val_accuracy: 0.8477\n"
     ]
    }
   ],
   "source": [
    "cnnhistory=model.fit(x_traincnn, y_train, batch_size=16, epochs=500, validation_data=(x_testcnn, y_test))\n"
   ]
  },
  {
   "cell_type": "code",
   "execution_count": 33,
   "metadata": {
    "colab": {
     "base_uri": "https://localhost:8080/",
     "height": 295
    },
    "id": "J1mJrn3LtO_M",
    "outputId": "83b81b18-df6a-4a21-abfb-57535ec14770"
   },
   "outputs": [
    {
     "data": {
      "image/png": "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\n",
      "text/plain": [
       "<Figure size 432x288 with 1 Axes>"
      ]
     },
     "metadata": {
      "needs_background": "light"
     },
     "output_type": "display_data"
    }
   ],
   "source": [
    "plt.plot(cnnhistory.history['loss'])\n",
    "plt.plot(cnnhistory.history['val_loss'])\n",
    "plt.title('model loss')\n",
    "plt.ylabel('loss')\n",
    "plt.xlabel('epoch')\n",
    "plt.legend(['train', 'test'], loc='upper left')\n",
    "plt.show()"
   ]
  },
  {
   "cell_type": "code",
   "execution_count": 34,
   "metadata": {
    "colab": {
     "base_uri": "https://localhost:8080/",
     "height": 295
    },
    "id": "8tkiuu1VvF-Q",
    "outputId": "c5a92204-77ef-4a8f-f1b6-94c815e787b3"
   },
   "outputs": [
    {
     "data": {
      "image/png": "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\n",
      "text/plain": [
       "<Figure size 432x288 with 1 Axes>"
      ]
     },
     "metadata": {
      "needs_background": "light"
     },
     "output_type": "display_data"
    }
   ],
   "source": [
    "\n",
    "plt.plot(cnnhistory.history['accuracy'])\n",
    "plt.plot(cnnhistory.history['val_accuracy'])\n",
    "plt.title('model accuracy')\n",
    "plt.ylabel('acc')\n",
    "plt.xlabel('epoch')\n",
    "plt.legend(['train', 'test'], loc='upper left')\n",
    "plt.show()"
   ]
  },
  {
   "cell_type": "code",
   "execution_count": 35,
   "metadata": {
    "colab": {
     "base_uri": "https://localhost:8080/"
    },
    "id": "o5sfY2VBvRxw",
    "outputId": "fd6d8be1-d310-4127-9c81-524c262af332"
   },
   "outputs": [
    {
     "name": "stderr",
     "output_type": "stream",
     "text": [
      "C:\\Users\\abbur\\anaconda3\\lib\\site-packages\\tensorflow\\python\\keras\\engine\\sequential.py:455: UserWarning: `model.predict_classes()` is deprecated and will be removed after 2021-01-01. Please use instead:* `np.argmax(model.predict(x), axis=-1)`,   if your model does multi-class classification   (e.g. if it uses a `softmax` last-layer activation).* `(model.predict(x) > 0.5).astype(\"int32\")`,   if your model does binary classification   (e.g. if it uses a `sigmoid` last-layer activation).\n",
      "  warnings.warn('`model.predict_classes()` is deprecated and '\n"
     ]
    }
   ],
   "source": [
    "\n",
    "predictions = model.predict_classes(x_testcnn)"
   ]
  },
  {
   "cell_type": "code",
   "execution_count": 36,
   "metadata": {
    "colab": {
     "base_uri": "https://localhost:8080/"
    },
    "id": "fHbShhLDvrmH",
    "outputId": "51a32443-1eff-47c9-e85e-a2a9d44ec04d"
   },
   "outputs": [
    {
     "data": {
      "text/plain": [
       "array([2, 4, 2, 3, 3, 2, 2, 1, 3, 3, 2, 3, 2, 3, 2, 1, 3, 2, 4, 1, 3, 4,\n",
       "       2, 4, 3, 1, 3, 4, 3, 3, 4, 3, 2, 1, 2, 2, 4, 3, 4, 3, 2, 2, 3, 1,\n",
       "       1, 1, 1, 4, 4, 3, 3, 3, 4, 4, 2, 1, 3, 1, 3, 4, 1, 3, 4, 3, 3, 3,\n",
       "       2, 4, 4, 3, 1, 4, 2, 2, 2, 3, 4, 3, 2, 4, 1, 3, 4, 1, 1, 4, 3, 1,\n",
       "       1, 3, 2, 2, 3, 2, 4, 3, 1, 3, 4, 2, 3, 4, 3, 4, 2, 1, 4, 3, 1, 2,\n",
       "       3, 3, 4, 3, 4, 3, 3, 4, 4, 4, 2, 4, 4, 1, 4, 4, 1, 4, 4, 3, 2, 1,\n",
       "       3, 3, 4, 4, 3, 3, 1, 3, 4, 3, 1, 4, 4, 4, 2, 2, 2, 1, 3, 3, 2, 3,\n",
       "       2, 3, 2, 4, 2, 3, 2, 3, 4, 1, 4, 4, 4, 2, 4, 4, 4, 4, 2, 4, 4, 2,\n",
       "       1, 3, 1, 3, 4, 3, 3, 3, 3, 4, 3, 2, 1, 2, 4, 4, 1, 4, 4, 1, 4, 2,\n",
       "       3, 2, 2, 3, 3, 4, 4, 4, 4, 4, 4, 4, 2, 3, 3, 3, 3, 1, 2, 2, 3, 3,\n",
       "       1, 1, 4, 2, 1, 3, 4, 4, 4, 3, 2, 1, 3, 2, 3, 2, 3, 2, 3, 4, 3, 2,\n",
       "       1, 3, 4, 2, 4, 1, 3, 3, 1, 4, 2, 2, 3, 4, 1, 3, 4, 3, 3, 1, 2, 1,\n",
       "       4, 3, 4, 4, 4, 4, 2, 2, 2, 3, 4, 4, 3, 2, 4, 3, 1, 2, 4, 1, 2, 4,\n",
       "       3, 4, 3, 4, 3, 3, 2, 1, 1, 3, 1, 4, 4, 4, 1, 3, 4, 4, 4, 1, 4, 4,\n",
       "       1, 3, 3, 2, 3, 4, 3, 1, 3, 1, 1, 3, 3, 1, 4, 2, 4, 3, 2, 3, 1, 2,\n",
       "       1, 3, 2, 1, 1, 4, 2, 2, 3, 3, 2, 3, 4, 2, 3, 3, 4, 4, 1, 4, 4, 3,\n",
       "       2, 4, 3, 3, 2, 4, 3, 4, 4, 3, 4, 4, 4, 3, 3, 1, 4, 4, 3, 2, 2, 2,\n",
       "       2, 3, 2, 4, 3, 3, 4, 3, 2, 4, 3, 4, 4, 3, 3, 4, 4, 1, 1, 1, 4, 3,\n",
       "       4, 4, 4, 4, 2, 4, 2, 2, 3, 2, 4, 3, 2, 2, 4, 2, 2, 4, 3, 1, 2, 4,\n",
       "       3, 4, 2, 3, 4, 3, 4, 3, 1, 4, 4, 2, 2, 4, 4, 1, 2, 4, 2, 3, 4, 2,\n",
       "       2, 2, 4, 4, 3, 2, 4, 1, 2, 3, 4, 2, 1, 1, 3, 1, 3, 3, 4, 3, 3, 3,\n",
       "       1, 4, 1, 3, 4, 4, 3, 2, 4, 4, 3, 4, 4, 3, 3, 3, 3, 2, 2, 4, 4, 1,\n",
       "       4, 1, 4, 2, 4, 3, 1, 4, 4, 1, 3, 1, 4, 2, 3, 4, 3, 1, 1, 2, 1, 3,\n",
       "       2, 3, 4, 3, 1, 3, 2, 4, 4, 3, 1, 4, 4, 2, 1, 3, 2, 4, 2, 4, 2, 4,\n",
       "       3, 3, 3, 2, 4, 3, 2, 4, 1, 4, 4, 2, 4, 4, 4, 4, 2, 3, 4, 3, 2, 1,\n",
       "       3, 2, 4, 3, 2, 4, 2, 2, 1, 3, 2, 1, 3, 3, 2, 4, 1, 3, 4, 1, 4, 1,\n",
       "       2, 1, 4, 2, 4, 4, 3, 1, 4, 4, 2, 2, 2, 3, 4, 4, 2, 3, 2, 3, 1, 1,\n",
       "       3, 3, 1, 3, 2, 1, 3, 3, 4, 1, 4, 1, 3, 3, 1, 2, 3, 4, 2, 2, 3, 1,\n",
       "       4, 4, 4, 4, 2, 2, 2, 1, 3, 3, 4, 4, 3, 2, 4, 1, 1, 3, 4, 2, 3, 3,\n",
       "       4, 4, 1, 3, 4, 3, 4, 4, 3, 1, 4, 4, 1, 3, 4, 3, 2, 4, 3, 1, 3, 2,\n",
       "       3, 4, 1, 4, 3, 3, 2, 3, 2, 4, 4, 3, 3, 2, 3, 1, 2, 3, 2, 2, 3, 4,\n",
       "       4, 3, 2, 3, 4, 3, 4, 2, 1, 4, 1, 3, 3, 1, 4, 3, 4, 2, 2, 4, 4, 1,\n",
       "       2, 2, 2, 2, 3, 4, 2, 1, 3, 3, 1, 1, 3, 4, 4, 2, 3, 2, 3, 3, 4, 2,\n",
       "       3, 1, 3, 3, 3, 2, 4, 4, 3, 2, 4, 2, 2, 2, 3, 1, 4, 4, 4, 2, 1, 4,\n",
       "       3, 3, 1, 4, 1, 2, 3, 4, 4, 3, 3, 2, 3, 3, 4, 1, 2, 4, 1, 4, 2, 3,\n",
       "       4, 4, 3, 3, 2, 3, 2, 3, 3, 2, 3, 4, 4, 2, 4, 2, 4, 1, 4, 4, 2, 1,\n",
       "       3, 3, 3, 1, 3, 3, 2, 4, 3, 3, 1, 4, 3, 4, 2, 4, 2, 1, 3, 3, 2, 3,\n",
       "       2, 3, 2, 3, 4, 4, 3, 3, 4, 4, 4, 4, 4, 3, 2, 1, 4, 1, 4, 2, 4, 3,\n",
       "       3, 3, 3, 2, 1, 4, 4, 4, 3, 3, 1, 2, 1, 2, 1, 1, 2, 3, 4, 1, 2, 1,\n",
       "       1, 4, 1, 2, 3, 2, 3, 1, 4, 1, 2, 3, 4, 3, 1, 1, 3, 2, 4, 1, 3, 2,\n",
       "       1, 1, 4, 2, 3, 2, 1, 2, 4, 2, 4, 4, 2], dtype=int64)"
      ]
     },
     "execution_count": 36,
     "metadata": {},
     "output_type": "execute_result"
    }
   ],
   "source": [
    "predictions"
   ]
  },
  {
   "cell_type": "code",
   "execution_count": 37,
   "metadata": {
    "colab": {
     "base_uri": "https://localhost:8080/"
    },
    "id": "9vH2vedFvt_5",
    "outputId": "5f33a85f-9551-4ea7-f3df-68418f80abaa"
   },
   "outputs": [
    {
     "data": {
      "text/plain": [
       "array([2, 4, 2, 3, 3, 2, 2, 2, 3, 3, 2, 3, 2, 3, 2, 1, 1, 2, 2, 1, 3, 4,\n",
       "       2, 2, 3, 1, 2, 4, 3, 1, 4, 3, 2, 3, 2, 2, 4, 3, 4, 3, 2, 2, 3, 2,\n",
       "       1, 1, 1, 4, 2, 3, 3, 3, 4, 2, 2, 2, 3, 3, 3, 4, 1, 3, 4, 3, 3, 3,\n",
       "       2, 4, 4, 4, 2, 4, 2, 4, 2, 3, 2, 3, 2, 4, 1, 3, 4, 1, 1, 4, 3, 1,\n",
       "       4, 3, 2, 2, 3, 2, 4, 3, 2, 3, 4, 2, 1, 4, 1, 4, 2, 1, 2, 3, 1, 2,\n",
       "       3, 1, 4, 3, 4, 3, 3, 4, 4, 4, 2, 4, 4, 2, 4, 4, 1, 2, 4, 3, 4, 1,\n",
       "       3, 3, 4, 4, 3, 2, 1, 3, 4, 3, 2, 4, 4, 4, 2, 2, 2, 2, 3, 3, 2, 3,\n",
       "       2, 3, 2, 2, 2, 4, 2, 3, 4, 4, 4, 4, 2, 2, 4, 4, 4, 4, 2, 4, 4, 2,\n",
       "       2, 3, 1, 3, 4, 3, 3, 3, 3, 4, 3, 2, 1, 2, 3, 2, 1, 4, 4, 2, 4, 2,\n",
       "       3, 2, 2, 1, 3, 4, 4, 4, 4, 4, 1, 4, 2, 3, 3, 3, 3, 1, 3, 2, 3, 3,\n",
       "       1, 1, 2, 2, 1, 3, 4, 4, 4, 2, 2, 1, 3, 2, 3, 2, 3, 2, 1, 4, 3, 3,\n",
       "       2, 3, 3, 2, 2, 1, 3, 4, 1, 4, 2, 2, 3, 4, 2, 3, 4, 1, 3, 1, 2, 1,\n",
       "       4, 3, 4, 4, 4, 2, 2, 2, 2, 3, 4, 1, 3, 2, 4, 2, 4, 2, 4, 1, 2, 4,\n",
       "       3, 4, 3, 4, 3, 3, 2, 1, 1, 3, 2, 4, 2, 4, 1, 3, 4, 4, 4, 1, 2, 4,\n",
       "       1, 3, 3, 2, 3, 4, 2, 1, 1, 2, 3, 3, 3, 4, 4, 2, 4, 3, 2, 3, 1, 2,\n",
       "       1, 3, 2, 1, 1, 4, 2, 2, 3, 3, 2, 3, 4, 2, 3, 3, 3, 4, 2, 2, 4, 3,\n",
       "       2, 4, 3, 3, 2, 4, 3, 4, 4, 3, 2, 4, 4, 3, 3, 1, 4, 4, 3, 2, 2, 2,\n",
       "       2, 3, 2, 4, 3, 3, 4, 3, 2, 4, 3, 4, 4, 2, 3, 4, 4, 1, 1, 1, 4, 3,\n",
       "       4, 4, 4, 4, 2, 4, 2, 2, 3, 2, 4, 3, 2, 2, 4, 2, 2, 4, 3, 1, 2, 4,\n",
       "       2, 4, 2, 3, 4, 3, 4, 3, 3, 4, 4, 2, 2, 4, 4, 2, 2, 1, 2, 3, 3, 2,\n",
       "       3, 2, 4, 4, 3, 2, 4, 2, 2, 2, 4, 2, 1, 1, 3, 1, 3, 3, 4, 3, 3, 3,\n",
       "       1, 4, 3, 3, 4, 4, 3, 2, 4, 4, 3, 3, 4, 3, 3, 3, 4, 2, 2, 2, 4, 3,\n",
       "       4, 2, 4, 2, 4, 3, 1, 4, 4, 3, 4, 1, 4, 2, 3, 4, 3, 1, 1, 2, 1, 3,\n",
       "       2, 3, 4, 3, 1, 1, 2, 4, 4, 3, 1, 4, 4, 2, 1, 3, 2, 4, 2, 4, 2, 4,\n",
       "       3, 2, 3, 4, 4, 3, 2, 4, 1, 4, 4, 2, 4, 4, 4, 4, 2, 1, 4, 4, 2, 1,\n",
       "       3, 2, 4, 3, 2, 4, 2, 2, 1, 3, 2, 1, 3, 3, 2, 4, 1, 3, 4, 1, 4, 2,\n",
       "       2, 1, 4, 2, 4, 4, 3, 1, 4, 4, 2, 2, 2, 3, 4, 4, 2, 2, 2, 3, 1, 1,\n",
       "       3, 3, 1, 3, 2, 3, 3, 3, 4, 1, 4, 3, 3, 4, 1, 2, 3, 4, 2, 2, 4, 1,\n",
       "       4, 3, 4, 4, 2, 2, 2, 2, 3, 3, 4, 4, 3, 1, 4, 3, 1, 1, 4, 2, 3, 3,\n",
       "       4, 4, 3, 3, 4, 3, 4, 4, 3, 1, 4, 4, 2, 3, 4, 4, 2, 4, 3, 1, 3, 2,\n",
       "       3, 4, 1, 4, 3, 3, 2, 3, 2, 4, 2, 3, 3, 3, 3, 2, 2, 3, 2, 2, 3, 4,\n",
       "       4, 2, 2, 1, 4, 3, 4, 2, 2, 4, 1, 3, 3, 1, 4, 1, 4, 2, 2, 2, 4, 1,\n",
       "       3, 2, 2, 2, 3, 4, 2, 1, 2, 3, 1, 1, 4, 4, 4, 2, 2, 4, 3, 3, 4, 2,\n",
       "       3, 2, 4, 3, 3, 2, 4, 4, 3, 2, 2, 2, 2, 2, 3, 1, 4, 2, 4, 2, 1, 4,\n",
       "       3, 3, 1, 4, 3, 2, 3, 1, 2, 3, 3, 4, 3, 3, 4, 1, 3, 4, 1, 4, 2, 3,\n",
       "       4, 4, 3, 3, 2, 3, 2, 2, 3, 2, 3, 4, 4, 2, 4, 2, 4, 1, 4, 4, 2, 1,\n",
       "       3, 3, 3, 1, 3, 3, 2, 4, 3, 3, 1, 4, 3, 4, 2, 4, 2, 3, 3, 3, 2, 3,\n",
       "       2, 3, 2, 3, 4, 2, 4, 3, 4, 4, 4, 4, 4, 3, 2, 3, 4, 1, 2, 2, 4, 2,\n",
       "       3, 3, 3, 2, 4, 4, 4, 4, 3, 3, 1, 2, 1, 2, 1, 1, 2, 3, 4, 1, 1, 1,\n",
       "       1, 4, 1, 2, 3, 2, 3, 2, 4, 1, 2, 3, 4, 3, 3, 2, 3, 2, 2, 1, 3, 2,\n",
       "       1, 1, 4, 2, 3, 2, 1, 2, 4, 2, 4, 4, 2])"
      ]
     },
     "execution_count": 37,
     "metadata": {},
     "output_type": "execute_result"
    }
   ],
   "source": [
    "y_test"
   ]
  },
  {
   "cell_type": "code",
   "execution_count": 38,
   "metadata": {
    "id": "plKFIfuPv5qt"
   },
   "outputs": [],
   "source": [
    "\n",
    "new_Ytest = y_test.astype(int)"
   ]
  },
  {
   "cell_type": "code",
   "execution_count": 39,
   "metadata": {
    "colab": {
     "base_uri": "https://localhost:8080/"
    },
    "id": "ZrXYkj7Nv9kk",
    "outputId": "407c3ecf-41f0-409d-90f8-039d5aac1cb0"
   },
   "outputs": [
    {
     "data": {
      "text/plain": [
       "array([2, 4, 2, 3, 3, 2, 2, 2, 3, 3, 2, 3, 2, 3, 2, 1, 1, 2, 2, 1, 3, 4,\n",
       "       2, 2, 3, 1, 2, 4, 3, 1, 4, 3, 2, 3, 2, 2, 4, 3, 4, 3, 2, 2, 3, 2,\n",
       "       1, 1, 1, 4, 2, 3, 3, 3, 4, 2, 2, 2, 3, 3, 3, 4, 1, 3, 4, 3, 3, 3,\n",
       "       2, 4, 4, 4, 2, 4, 2, 4, 2, 3, 2, 3, 2, 4, 1, 3, 4, 1, 1, 4, 3, 1,\n",
       "       4, 3, 2, 2, 3, 2, 4, 3, 2, 3, 4, 2, 1, 4, 1, 4, 2, 1, 2, 3, 1, 2,\n",
       "       3, 1, 4, 3, 4, 3, 3, 4, 4, 4, 2, 4, 4, 2, 4, 4, 1, 2, 4, 3, 4, 1,\n",
       "       3, 3, 4, 4, 3, 2, 1, 3, 4, 3, 2, 4, 4, 4, 2, 2, 2, 2, 3, 3, 2, 3,\n",
       "       2, 3, 2, 2, 2, 4, 2, 3, 4, 4, 4, 4, 2, 2, 4, 4, 4, 4, 2, 4, 4, 2,\n",
       "       2, 3, 1, 3, 4, 3, 3, 3, 3, 4, 3, 2, 1, 2, 3, 2, 1, 4, 4, 2, 4, 2,\n",
       "       3, 2, 2, 1, 3, 4, 4, 4, 4, 4, 1, 4, 2, 3, 3, 3, 3, 1, 3, 2, 3, 3,\n",
       "       1, 1, 2, 2, 1, 3, 4, 4, 4, 2, 2, 1, 3, 2, 3, 2, 3, 2, 1, 4, 3, 3,\n",
       "       2, 3, 3, 2, 2, 1, 3, 4, 1, 4, 2, 2, 3, 4, 2, 3, 4, 1, 3, 1, 2, 1,\n",
       "       4, 3, 4, 4, 4, 2, 2, 2, 2, 3, 4, 1, 3, 2, 4, 2, 4, 2, 4, 1, 2, 4,\n",
       "       3, 4, 3, 4, 3, 3, 2, 1, 1, 3, 2, 4, 2, 4, 1, 3, 4, 4, 4, 1, 2, 4,\n",
       "       1, 3, 3, 2, 3, 4, 2, 1, 1, 2, 3, 3, 3, 4, 4, 2, 4, 3, 2, 3, 1, 2,\n",
       "       1, 3, 2, 1, 1, 4, 2, 2, 3, 3, 2, 3, 4, 2, 3, 3, 3, 4, 2, 2, 4, 3,\n",
       "       2, 4, 3, 3, 2, 4, 3, 4, 4, 3, 2, 4, 4, 3, 3, 1, 4, 4, 3, 2, 2, 2,\n",
       "       2, 3, 2, 4, 3, 3, 4, 3, 2, 4, 3, 4, 4, 2, 3, 4, 4, 1, 1, 1, 4, 3,\n",
       "       4, 4, 4, 4, 2, 4, 2, 2, 3, 2, 4, 3, 2, 2, 4, 2, 2, 4, 3, 1, 2, 4,\n",
       "       2, 4, 2, 3, 4, 3, 4, 3, 3, 4, 4, 2, 2, 4, 4, 2, 2, 1, 2, 3, 3, 2,\n",
       "       3, 2, 4, 4, 3, 2, 4, 2, 2, 2, 4, 2, 1, 1, 3, 1, 3, 3, 4, 3, 3, 3,\n",
       "       1, 4, 3, 3, 4, 4, 3, 2, 4, 4, 3, 3, 4, 3, 3, 3, 4, 2, 2, 2, 4, 3,\n",
       "       4, 2, 4, 2, 4, 3, 1, 4, 4, 3, 4, 1, 4, 2, 3, 4, 3, 1, 1, 2, 1, 3,\n",
       "       2, 3, 4, 3, 1, 1, 2, 4, 4, 3, 1, 4, 4, 2, 1, 3, 2, 4, 2, 4, 2, 4,\n",
       "       3, 2, 3, 4, 4, 3, 2, 4, 1, 4, 4, 2, 4, 4, 4, 4, 2, 1, 4, 4, 2, 1,\n",
       "       3, 2, 4, 3, 2, 4, 2, 2, 1, 3, 2, 1, 3, 3, 2, 4, 1, 3, 4, 1, 4, 2,\n",
       "       2, 1, 4, 2, 4, 4, 3, 1, 4, 4, 2, 2, 2, 3, 4, 4, 2, 2, 2, 3, 1, 1,\n",
       "       3, 3, 1, 3, 2, 3, 3, 3, 4, 1, 4, 3, 3, 4, 1, 2, 3, 4, 2, 2, 4, 1,\n",
       "       4, 3, 4, 4, 2, 2, 2, 2, 3, 3, 4, 4, 3, 1, 4, 3, 1, 1, 4, 2, 3, 3,\n",
       "       4, 4, 3, 3, 4, 3, 4, 4, 3, 1, 4, 4, 2, 3, 4, 4, 2, 4, 3, 1, 3, 2,\n",
       "       3, 4, 1, 4, 3, 3, 2, 3, 2, 4, 2, 3, 3, 3, 3, 2, 2, 3, 2, 2, 3, 4,\n",
       "       4, 2, 2, 1, 4, 3, 4, 2, 2, 4, 1, 3, 3, 1, 4, 1, 4, 2, 2, 2, 4, 1,\n",
       "       3, 2, 2, 2, 3, 4, 2, 1, 2, 3, 1, 1, 4, 4, 4, 2, 2, 4, 3, 3, 4, 2,\n",
       "       3, 2, 4, 3, 3, 2, 4, 4, 3, 2, 2, 2, 2, 2, 3, 1, 4, 2, 4, 2, 1, 4,\n",
       "       3, 3, 1, 4, 3, 2, 3, 1, 2, 3, 3, 4, 3, 3, 4, 1, 3, 4, 1, 4, 2, 3,\n",
       "       4, 4, 3, 3, 2, 3, 2, 2, 3, 2, 3, 4, 4, 2, 4, 2, 4, 1, 4, 4, 2, 1,\n",
       "       3, 3, 3, 1, 3, 3, 2, 4, 3, 3, 1, 4, 3, 4, 2, 4, 2, 3, 3, 3, 2, 3,\n",
       "       2, 3, 2, 3, 4, 2, 4, 3, 4, 4, 4, 4, 4, 3, 2, 3, 4, 1, 2, 2, 4, 2,\n",
       "       3, 3, 3, 2, 4, 4, 4, 4, 3, 3, 1, 2, 1, 2, 1, 1, 2, 3, 4, 1, 1, 1,\n",
       "       1, 4, 1, 2, 3, 2, 3, 2, 4, 1, 2, 3, 4, 3, 3, 2, 3, 2, 2, 1, 3, 2,\n",
       "       1, 1, 4, 2, 3, 2, 1, 2, 4, 2, 4, 4, 2])"
      ]
     },
     "execution_count": 39,
     "metadata": {},
     "output_type": "execute_result"
    }
   ],
   "source": [
    "new_Ytest\n"
   ]
  },
  {
   "cell_type": "code",
   "execution_count": 40,
   "metadata": {
    "colab": {
     "base_uri": "https://localhost:8080/"
    },
    "id": "_flEUVPzwAL4",
    "outputId": "4073c627-ab12-453f-a2a1-7cd82324f128"
   },
   "outputs": [
    {
     "name": "stdout",
     "output_type": "stream",
     "text": [
      "              precision    recall  f1-score   support\n",
      "\n",
      "           1       0.69      0.84      0.76       123\n",
      "           2       0.93      0.74      0.82       253\n",
      "           3       0.85      0.89      0.87       255\n",
      "           4       0.87      0.92      0.89       262\n",
      "\n",
      "    accuracy                           0.85       893\n",
      "   macro avg       0.84      0.85      0.84       893\n",
      "weighted avg       0.86      0.85      0.85       893\n",
      "\n"
     ]
    }
   ],
   "source": [
    "\n",
    "from sklearn.metrics import classification_report\n",
    "report = classification_report(new_Ytest, predictions)\n",
    "print(report)"
   ]
  },
  {
   "cell_type": "code",
   "execution_count": 18,
   "metadata": {
    "colab": {
     "base_uri": "https://localhost:8080/"
    },
    "id": "oqlScGNSwDm2",
    "outputId": "e8e03317-fc12-4516-e791-afedfc877424"
   },
   "outputs": [
    {
     "name": "stdout",
     "output_type": "stream",
     "text": [
      "[[112   6   4   1]\n",
      " [ 18 211   7  17]\n",
      " [  8  11 230   6]\n",
      " [  4  20  15 223]]\n"
     ]
    }
   ],
   "source": [
    "\n",
    "\n",
    "from sklearn.metrics import confusion_matrix\n",
    "matrix = confusion_matrix(new_Ytest, predictions)\n",
    "print (matrix)"
   ]
  },
  {
   "cell_type": "code",
   "execution_count": 19,
   "metadata": {
    "colab": {
     "base_uri": "https://localhost:8080/"
    },
    "id": "8UYn63ODwKwu",
    "outputId": "b2c4f429-4d6c-4611-fde5-911ee0e5281c"
   },
   "outputs": [
    {
     "name": "stdout",
     "output_type": "stream",
     "text": [
      "Saved trained model at Ravdess_model\\Emotion_Voice_Detection_Model.h5 \n"
     ]
    }
   ],
   "source": [
    "import os\n",
    "model_name = 'Emotion_Voice_Detection_Model.h5'\n",
    "save_dir = 'Ravdess_model'\n",
    "# Save model and weights\n",
    "if not os.path.isdir(save_dir):\n",
    "    os.makedirs(save_dir)\n",
    "model_path = os.path.join(save_dir, model_name)\n",
    "model.save(model_path)\n",
    "print('Saved trained model at %s ' % model_path)"
   ]
  },
  {
   "cell_type": "code",
   "execution_count": 20,
   "metadata": {
    "colab": {
     "base_uri": "https://localhost:8080/"
    },
    "id": "BJubZVnwwODI",
    "outputId": "54a8b086-1bd6-4047-bcdd-78c7c09857d3"
   },
   "outputs": [
    {
     "name": "stdout",
     "output_type": "stream",
     "text": [
      "Model: \"sequential\"\n",
      "_________________________________________________________________\n",
      "Layer (type)                 Output Shape              Param #   \n",
      "=================================================================\n",
      "conv1d (Conv1D)              (None, 40, 128)           768       \n",
      "_________________________________________________________________\n",
      "activation (Activation)      (None, 40, 128)           0         \n",
      "_________________________________________________________________\n",
      "dropout (Dropout)            (None, 40, 128)           0         \n",
      "_________________________________________________________________\n",
      "max_pooling1d (MaxPooling1D) (None, 5, 128)            0         \n",
      "_________________________________________________________________\n",
      "conv1d_1 (Conv1D)            (None, 5, 128)            82048     \n",
      "_________________________________________________________________\n",
      "activation_1 (Activation)    (None, 5, 128)            0         \n",
      "_________________________________________________________________\n",
      "flatten (Flatten)            (None, 640)               0         \n",
      "_________________________________________________________________\n",
      "dense (Dense)                (None, 8)                 5128      \n",
      "_________________________________________________________________\n",
      "activation_2 (Activation)    (None, 8)                 0         \n",
      "=================================================================\n",
      "Total params: 87,944\n",
      "Trainable params: 87,944\n",
      "Non-trainable params: 0\n",
      "_________________________________________________________________\n"
     ]
    }
   ],
   "source": [
    "\n",
    "loaded_model = keras.models.load_model('Ravdess_model/Emotion_Voice_Detection_Model.h5')\n",
    "loaded_model.summary()"
   ]
  },
  {
   "cell_type": "code",
   "execution_count": 22,
   "metadata": {
    "colab": {
     "base_uri": "https://localhost:8080/"
    },
    "id": "Dx2PEX6xwQbe",
    "outputId": "dbb000e6-4fe0-418b-c228-56b3f67cb20e"
   },
   "outputs": [
    {
     "name": "stdout",
     "output_type": "stream",
     "text": [
      "57/57 [==============================] - 0s 3ms/step - loss: 5.4484e-04 - accuracy: 1.0000\n",
      "Restored model, accuracy: 100.00%\n"
     ]
    }
   ],
   "source": [
    "\n",
    "loss, acc = loaded_model.evaluate(x_traincnn, y_train)\n",
    "print(\"Restored model, accuracy: {:5.2f}%\".format(100*acc))"
   ]
  },
  {
   "cell_type": "code",
   "execution_count": 128,
   "metadata": {
    "colab": {
     "base_uri": "https://localhost:8080/"
    },
    "id": "dvkiXj9gp-WP",
    "outputId": "e63a73d0-9088-4657-8ead-8ccc852e689c"
   },
   "outputs": [
    {
     "name": "stdout",
     "output_type": "stream",
     "text": [
      "Prediction is sad\n"
     ]
    },
    {
     "data": {
      "image/png": "iVBORw0KGgoAAAANSUhEUgAAAYcAAAEGCAYAAACO8lkDAAAAOXRFWHRTb2Z0d2FyZQBNYXRwbG90bGliIHZlcnNpb24zLjMuNCwgaHR0cHM6Ly9tYXRwbG90bGliLm9yZy8QVMy6AAAACXBIWXMAAAsTAAALEwEAmpwYAAAqSUlEQVR4nO3debxUdf0/8Nd7Zu7CfpHNy9YFxIVQExFRXDKwQErKsq+2qV/LLP1mfX/fCtPSXMrya7+flUmWmmlptpgk4Ea4JrEogoDAFREuIPt+ueu8f3/MmWHunTMzZ858zpxz5r6ejwcPZjnL+x64n/f5LOfzEVUFERFRuojfARARUfAwORARUQYmByIiysDkQEREGZgciIgoQ8zvANzo37+/1tXV+R0GEVGoLF26dKeqDnCybSiTQ11dHZYsWeJ3GEREoSIi7zndls1KRESUgcmBiIgyMDkQEVEGJgciIsrA5EBERBmYHIiIKAOTAxERZWByICKiDEwOVDJb9h5OvT7Q1IoZv3zFx2iIKBcmByqJHQeaceYd/wQAHGxuw93Pr8ObDft8joqIsgnl9BkUPi3t8dTrrz2yFC+v2+ljNESUD2sOVHKb05qXiCiYmByoJNLXKm+Pc91yoqBjcqCSONDUlnrN5EAUfEwOVBLT7n459ZrJgSj4mByo5NqYHIgCj8mBSq4tbeQSEQUTkwN57s9LNqVeL3h7O/Y0tvoYDRE5weRAnlu2aW/q9RW/W+xfIETkGJMDeS6u7GMgChsmB/IcRycRhQ+TA3mO/c9E4cPkQJ5jsxJR+DA5EBFRBiYH8pz4HQARFYzJgTy3aU+j3yEQUYGYHMhzizfs8TsEIioQkwMREWUwkhxEZKqIrBGRehGZafO9iMjPre+Xi8g46/NhIrJARFaLyEoRuc5EPEREVJyik4OIRAHcA2AagDEALhWRMZ02mwZgtPXnKgD3Wp+3Afg/qnoCgIkArrHZl4iISsxEzWECgHpVXa+qLQAeAzCj0zYzAPxeExYCqBGRWlXdqqqvA4CqHgCwGsAQAzFRABxuaceVnEuJKJRMJIchADalvW9AZgGfdxsRqQNwCoB/251ERK4SkSUismTHjh3FxkwlsHF3I+a/vd3vMIjIBRPJwW4Ye+dHYnNuIyI9AfwVwDdVdb/dSVT1PlUdr6rjBwwY4DpYKh3OqUQUXiaSQwOAYWnvhwLY4nQbEalAIjH8QVX/ZiAeCogLfv5y/o2oYHUz52DPoRa/w6AyZyI5LAYwWkRGiEglgEsAzO60zWwAX7JGLU0EsE9Vt4qIALgfwGpV/ZmBWChklPMuuXKgqc3vEKjMxYo9gKq2ici1AJ4BEAXwgKquFJGrre9nAZgL4AIA9QAaAVxh7T4JwBcBrBCRZdZn31PVucXGReGgCgjn1ygYJzMkrxWdHADAKszndvpsVtprBXCNzX6vgFPvlKXmtnZH27GIc6edyYE8xiekyRN3PbvW0Xa8A3Zn8l0v4rOzXku9X73VdhwHkWtMDuSJnQebHW3H3ODeog27AQCHmtsw7W52/pNZTA7kCaeFvrJhqWgfvOkZv0OgMsTkQJ5w2lzEmkNxPv4L1hjIG0wO5Ak+/+aN93Yd6vD+rc1H+hoaWzi8lcxhciBP/OPNzs9B2mOHdGHOvfOFrN+N+QGbl8gcJgfyFXMDUTAxOZCvwpobHl74Hr7wW9s5IonKgpGH4IjcCuv0GU+83oDXN+71Owwiz7DmQMYVUuCHMzUAh1vjfodA5CkmBzKukJFKGtIyNm5gONaCNdszRh8RBQWTAxlXyDoOf3m9wcNIgu2KBxfj+0+u9DsMIltMDmRcIcNTb31qlYeRBJ/pPpdnV75v9HjUdTE5kHEh7WP2xaFmsw+uXfXwUqPHo66LyYGMK8fppDfvPYyP/O8Lxo/7+sa9qN9+0PhxiYrF5EDGleNTz9//+1tYv/MQ9jYmluc0uUDR/qZWcwcjMoTJgYwL6wikXP759nYAwJ8WbzJyvFfrdxo5jp2bZ7OTm4rH5EDGlWPNwbTZy47MPRUxvE7qS2t3GD0edU1MDmRcOacGBdDWHsfb7x8o8jhHrpLxdXK58C4ZwORAxoV1Sgynlr63p+hjdL5Euw4243CLs3W388lXE1n63m787Lm1aG0vw/Y/MobJgYwr59Swt7Fj57HTqck7S79GIsCptz2Pb//lzSIiOyKSp+bw6Xtfw8/nr8OWvYeNnI/KE5MDGVfOFYdZL74DSbszX2yt41yo9Gv0/KptAIBt+5uKii3JaR+GsP2JcmByIOPKbV3oXQebO7xPL3vdFq/p1+jn/6y3jmWmsH77/QPYtLsx7/xPhvvBqcwwOZB55ZUbsHVfxzv69DJV3JawHl+jH/5jJUZ+b27ObZgcKBcmBzKuzHJDRiHaVOR03fG44m9vbM74fNmmvcY6859fvT3vNk4S26OLNhqf4oPCgcmBjCvnPgcA+ML9R1aAc3P3faDJvrBtaY/jtfW73IZVMCehX/+3FVhiYHQWhQ+TAxlXbn0OubjpJ8h1fVrbS3ft8iW2Ocu3AgBi+YY/UVliciDjyq3mkCsBuKk5uL0+zW1mnoNIypfYrvnj60bPR+HC5EDGlVluyMnNTXWu6UVy9TlMuevFwk+WQ1eq4VHhjCQHEZkqImtEpF5EZtp8LyLyc+v75SIyLu27B0Rku4i8ZSIW8l+5PSGdq3bgZrRSvqvT2NKGxpbMfolNe4p/aO3xJUcmDnT6z8RGpa6p6OQgIlEA9wCYBmAMgEtFZEynzaYBGG39uQrAvWnf/Q7A1GLjoOBwkxv2HW7tUHCVs7krtub8/pP3vIoZv3zVk3N/5y/LU6+d/jOt3VbcPFIUTiZqDhMA1KvqelVtAfAYgBmdtpkB4PeasBBAjYjUAoCqvgTA3WOmFEj/frfwf86X1+3oUHCFhZs+hx/kWDdaAdRvP4h11gJA33j0Dc/mQHJaw7v5H6twkMNZuxwTyWEIgPRbvgbrs0K3yUlErhKRJSKyZMcOTkkcZP/zZzNzBAVFzmYlw40uq7fuR/qDzbPf3II9h1qMniOpkBoep2HvekwkB7vfjs7/k5xsk5Oq3qeq41V1/IABAwrZlQLuw3cuwD0L3vE7DFdMP2X806fX2JzE7DmS3JT397/yLv7j16+ZD4YCJ2bgGA0AhqW9Hwqg81SVTrahLmrDrka/Q3AtzJ21hY5W2rL3MG59apVH0VDQmKg5LAYwWkRGiEglgEsAzO60zWwAX7JGLU0EsE9Vc/fKEQWE6eccgqLQmsOP573tTSAUSEUnB1VtA3AtgGcArAbwuKquFJGrReRqa7O5ANYDqAfwGwBfT+4vIo8CeA3AcSLSICJXFhsTdT1Nre1Y0bCv5OctxbTXXp2jkNzQ1NqOequTnLoGI885qOpcVT1WVUep6u3WZ7NUdZb1WlX1Guv7E1V1Sdq+l6pqrapWqOpQVb3fREzkD79Gtfxp8SZ84pevlPy8v1xQX9BoIhOryJlSyPMoE26fj9Vb96feXzzrX16ERAHCJ6TJqHd8uruMeDj/T762+T2NzkcT3TbHeZv9k8syZ241acGa7KP+/uvRN3Luu3hDcJIceYPJgYyK+jBJW1NrOx5fnBgp7UWBmu8Gu5Bmn3wL8KS77rFljrd149anVqGlzb7W43b5UyofTA5klNPkUEwK2X6g4+I7r63fhRWbE/0NXhSoeZNDAT9Mu4vxo5wDifzA5EBGlWJ65wm3z0fDniPDXwu5G3cjX+HsdM1mAHD1sLOHPx4TD2XD5EBGOW37d1skrXk/Mc9P8gY8Hlc8umijy6M5Ezc4e4WbROZl7ivmweemVrNTiFOwMDlQqHzs/70EAFhuDVvdd7jV0ZKYxXhnR+5O9kJG/WzYdajg85u6uzddw/rMvRyxVM6YHMioUk3Bk1yIxstRSknf/NOynN9f/uBix8dqztIBnIupa3rZg4uMHvutLfvx8ML3ioiIgozJgYzyci2Hwy02zRgBaDJfsXmfo5/b7Z17WxFLh+440Jx6/fK6nZkxFfnvdffza4van4KLyYGMcjMaJ122QvaNjXtwwg+e7vDZ0vd22xZudTPn5D3HrBfNTvTn5MducTn19jl3LnC1HwBc+VDuWk2xuXXnwRbUzZyDF9dypuRyw+RARuVaq8CJ1ix3ybfNWZ3x2R//vcnd0FAF7pj3ttFajpM78LYi2vzfc9FXARzpm8nG1DW47IFF2Ly3+JXqKDiYHMioVVv2598oh6Y2+xEwdg9ribhrFknu0W6wg9bJoYppwjn3zhdc75uLyVa5b1hPVTe3tWPxBq7fFXZMDmRUsd3DJ938rO3ndiN29ja24Om33i/4HMm75WdXbSt436zHdFDMqjcLuhXFZBdRa3sc81dvw6P/3oiLZ3HNh7AzsZ4DUYpXU1jbTVHx/OrtroaxJsvDXQebc25X0DE9rjl4xWTT2vKGfbjyoSX5N6RQYM2BClI3cw4eXvgeTrv9eTz9VuaSHINrunlyXpNNQMnysJg+gM6yFfz/eHNLapSVX8lh7bYDWb8LYL6igGByoIKt3rofOw40Y9G7mTNzXjx+mM0exWsr8DHlvTlmSk02AZWiz+G/Hn0Dz6563zqvP5bkmEG1XdXodaDyweRABct1t2mimWLT7kas7/RU8tpthU0F/tTy7AsNZqs5XPOH1zHzr8sLOk9SrlpBsvD1q+ZQGcv+a371w0txoQ/rYFDwMTmQCx0LuVufWoU3NibuTk0UgJ/61av4yF0vpkYovbuz8GGc1RXRvNvcMe/tDvMDzVmxFY8v2eQqwXXubH61fidunp0Y1pvMQX414fzPn9+0/bwyFsHyzfuwMm2EWUtbPO9zIk799uX1Ro5D/mByoIKlJr1TxWvv7ML9r7yLP/57o/VZ8cffeTDRJHTsjfMAAFf9vvBOzvRVyzpLL6QbOz11HVfgL0sbCj7fybd0HGX18Gvv4Xf/2mAd03wzVqFu/PuKjM8iQEZbVyGr2uVj92wKhQeTAxXsMWthnd/9awMu/c1CAMCbDXsBmG86UVVXD7rd/8q72Y+ZViLe+cyajO9NzBeUPmorWROZ7eMCOq/W78r4rLVdXT+1TeWPyYGMSPYJmJ75865n12L9DndPB2eTHuLiDbvxzo6DHeZtWt6wDy+s2Y4rHlzk+m4/fY2HZPn7ruGfoxB2TXN2STeIw23JH0wOZJTJ4aGAN3fb6X0K9dsPYvJdL+LH8zo2gTy6aCMWrNmBPy/Z5O4kaTWHZCHcanJhCI+YTg0/mfe24SNSqTA5kFGmJ7TbuLsx/0ZZZJvrx64A3HWw49DXLXsTS5HuaWx1de70R/ZarY71oR49A2KS6ae4733xHSxcn9mkRcHH5EDGxOOKptbg3B3/5iX70TJ2LSdzVnQc+ppck3qezYN+Tkhas1KyXX/kgJ6ujlVKXjQrXXLfQuPHJO8xOZAxB5rb/A6hg9/9awP++bbN/EkFlH/5ZjVNt21/U+p1es0hOVw2rorulfmH2PpBVfF/n1sbhOUxKCCYHMiYV+szF5Pxm93TwQpFRdT8JFBXpK0Il95Xsv9wImkG+UnkEdfPxd3z1+GQRwk+2c+zcZf7ZkIqLSYHMmbN+9nn8PHLr154J+OhNtWOzT6mrNq6H/ubMvsoHnj1XTS1tuOldTuNPkfghZ0GJyNMN+L6uaibOQfn3LkAzVmmZadgYXIgIwTA3fPX+R2Grf/o1OatKH5q8Wy2ZOkEb26N4x9vbsm6mFFQfOpX/4LXy3Ifd+PT+Tci33HKbjIiyEXeond348FX38Vxg3rhtBFHebrO9RUPLsakY/pnfP7a+uA1uWUT4NYvKiHx8hfFK+PHj9clSzhvvB9Mzbvjly9MHI5vTjkWk+74J5rb4hAEO7GVuwcvPw3nHT/Q7zC6DBFZqqrjnWxrpFlJRKaKyBoRqReRmTbfi4j83Pp+uYiMc7ovBcuI/j1yfu91k0SxHlm4Eb95aX2qWYmJwV9X/G4xLn9wEepmzkHdzDnYcyj7VOtUWkUnBxGJArgHwDQAYwBcKiJjOm02DcBo689VAO4tYF8KkHw1zTA0Sfz6pfVMCgHywpodqdf/+dBi1M2cgyk/exFA4v9b0Dvxy5WJPocJAOpVdT0AiMhjAGYAWJW2zQwAv9dEybJQRGpEpBZAnYN9bcXjChGgqTWO1ngcldEIqmKR1CgUVUVbXFERPZL/VBVxBaKRI9skeTF6xaTkz5srzqbW9g7XADjyMza2tKNHVSzjcxFJzYcUiQj2HW7F7GWbMaRvN0wc2Q8REextbEVEgPd2N2JDmQxFbG5jgRNEb2zcCyAxrUl6E+Y1543Chl2NOHf0AIgk1v8ePbAnohHB5j2HcfmkOvTtXomdB5vx1pb9UFW8sXEvzh8zCLV9qhGNCOr690AsItiwsxEDe1elhu327VGJqlgEuw62IBoR1HSvQEQEbe2Kg81tqIxGUF0ZQSwSwcHmNkQjglhEUBmNQCTxfE9VLIKISKq8OdzSjlg0sZ2TskVVO5Rd2fZpa48jFs1/T5/rGE6ZSA5DAKRPQNMA4HQH2wxxuC8AQESuQqLWgWjvARj5vbnFRU1EoXHPgsS0LHPSFnF6btWRBxz/9sZm2/2eyPJ5VxWrqR3heFsD57NLT51r7dm2cbJv4kPV+wDcBwAnnTJOH75mEiIi2N3YgrgqelfHAAh6VsXQ0hZHuypUj9Qckkm0Pa6pDJ9eXU3WJtrjimhEoApURBNZvy0eR3NrHD2qomiz9k/+UIojM3C2xeNQBWIRQVwT52xpi2ddeCY5VUFcFbFIJHX+9riiMiYAEudujyvi8cTxe1k/p3VNUudvi8ext7EV3SqiqKqIQDVxrLgqWtsV+w+3ol/PSkRE0G7VQlQTC74k76JVFfXbD+JXL7yDoX274bIz6tCuiu37m9CjKoYX1uzwddpp6rpG9O+Bd3cewpmj+uGYgT3xyML30LMqhto+3fD+/iZ89dyR6FVdgXe2H8SyTXvRHles2LwPHx0zCKMG9kT3iigG9alGRATb9jdhQM8q7DrUgp7VMfTpVpGYGj6uqd+feByIRgW7DragT7cK9KiMoiIWwYGmVsQiEVTGIojHFZWxCPY2tqJndQyqQM+qGEQSNdPW9jh6WrX1aEQQV01N3VJdEUGb9XsdjQha2+OoiEagUDS3xhGLJsqgaERQEZXUEOhDzW2o6V6BZBnQ3NaeOkY0kvjdjkQSQ6crYxFURCNoam1HRAQKxdifbtvo9JqbSA4NANIXDh4KoHMJkm2bSgf7ZqiMRnDysBo3sVIepwzvm3Ud6IvGDcXyhr1l0bRUGYukVpqjYFr/owvQFlfsbWzBwN7VHb67ZcZYn6IKOY07fgLRRHJYDGC0iIwAsBnAJQA+12mb2QCutfoUTgewT1W3isgOB/tSgAS9b8aJkf17ZH1Yjfy18PrJ6NujAlWxRG27MiIZiYFKo+jkoKptInItgGcARAE8oKorReRq6/tZAOYCuABAPYBGAFfk2rfYmMg7btZzDpILTjwaP7xwLM76yT/9DoUA3PSJMbhikuNmcCohI09Iq+pcJBJA+mez0l4rgGuc7ktk2lnH9McZo/rhi2d8ILW+QildN3l0YKcX8cOqWz6GbhXRsqiJlivOrURGBP1X/JEvn45rzjsGvasrPC2Q5l13NjbcMT3j8ysm1Xl2TtOiJSiwu1fGmBgCjsmBjFAkxqIHUf3t0zq893LKjAG9qmw/r4xFMKJ/j8A/Qf7gFafZri1t0qIbJnt6fDKDE++RMXX9ck+t4YdrzhuV8dCQeJQdBvepRv+emcnhwpMHo3tlDF/78Cjc/ORKNLYGd8rqER79G669bRoqYxG8tHYHBvZiB3MYsOZAxkw5YZDfIWT4gE1hJ5DU0p0m3felI/OZXXjy4NTrOms+qqhI1vY3v1tY1v/oApxQ29t6jsa8yliiqDnn2AGeHJ/MY3IgY3p6VLC4Nfn4gfis3TMbBRTEfbpVON527JA+qdfpFZNu1kOQ0YigscW+1uD35MiRiGDedWenHugkYnIgYyoczPlSSt+ddrzt53bl3/QTazu8H2nd7X/13JGuzp0+b1fyrvn9tDWmg8qL5PD9j3MuzTAK1m8zhd51k0cbPd7Qvt1c73vsoF62n9sVf8kCPOkD/boDQOphrEKlVwSSx1637aCrY5WSGC4RTh9xFK48i88xhBGTAxlVETV75zlxZD+jxwM6PuVd1687/viV03HD9BM6bDPtxFrUdKvA508f7uoc6TWHmDVEKWAVK1um6w1/+uoZho9IpRKC/64UJqbHrv/oUyeiX49Ko8dMj3D0oF44c1T/DqOMIgJ8dvwwLLvpo1knTSxEcvhqP5uRTKUy7ChnNTD2OVASkwMV7NIJiU7ez58+HDdad9wXnzoUwJHZbU2pjEVwlIvkcJbNOs5J6eXfLTM+mPH99y44IeOzQqV3MCcTpttaiAljantnfFYdi6DSbpgvEZgcqAhVsSi+fPZInDK8BlPGJIaxmsgNyWaYf838CADgRhcdmheNG5L1u/S745pumYnn8jPrCj7fy985r8P7KScMwinDazqcz88O+7svOSXjM0VmMjBZc/jomOANbSbngjX2kELCWk/C6nZ94uuTUt+YKFz+8OXT0dQWx+CaRFPIuS7Gxje15n+O4WsfHoVulUeajcbU9kZN9wpHK2111qd7xyGvnz51KD596lDUzZyTSph+3ZTfdfHJts1jzW1xDD+qO/Yfbk19Vl0RxYY7pndYhc2t9Oc+KHyYHKhgucp/E30Op9t0Qg/t2w0Ne5xPsz3pmOwd2ckQO/dlPHntJJutncmVFFOLQ/nUZpPrgb9Hrjy9oGc5qOtgcqCCDbKmPxg1oGfGd/NXb8v4zITe1RUAnCcHuyejkwTJ0UMdC+timn2yFfuXThiGM61E5de8SscMzPx3SupVHcuo9RABTA5UoNe/fz56VyfmCbIbtvrW5n2enDdmcIhs8gbeZOd5tprDjy86Ke82Xjut7qis37EDmrJhcqCC5Bs55NU0EHGbA588rAZV0QgWbdhd0LGS5aGJYaqpYzooZIM4TFQM9oTU9euODx83EFUVEfz6xfXGjkv+YHIgo4rNDS99+zzbz+2SzrEDe+LbHzsOE340v6BzJNv+Z3xocJ4tnXNS8Jt++tgEkzH171mFmy/8IHYfakEtl/YMvQD+d6UwG9S7uAe9BvWx378qlvlfNa6JCeMKldyj8xj/YjgJo5iawyNXnu5631xM1mW+/bHjACRql5dz6c/QY3Igo+767IeK2j9bgX3lWZkT4E05YaCrAlcE+NCwGqOjh5zEUcwKa2eNzv5QXy5983Q2m7oGt35yrO0oMwovNiuRUT0qi2vHz1ZYTT+pFifUnouP3PVi6rNpJ9ZiX2NrxrZvfP/8vOf4+zXuh63aHzP/Nna1Hyf+crX7+Yn+8OWJOb8vNjX0qo5h4fWT0aOKRUm5Yc2BjPJyLP9Im6Gzdm3mfQ3PxeSEk5/bTRMYANTWuJ+ZdszgI9Nm2A1pLfaf67PjhzExlCkmBzKqVANybrDmP4rHvV8l55tTck9DvvTGKZ6e39SI2ye+fqbNsd0ffGCvKq7VUMaYHChUfmtNyTB17NEAUJK71o8cPzDn94XUlo7LssZEzuMb6jbuVW32Ybc53zjb6PEoWJgcyCind/Jui7vkBH9t1nkqopFUwvCK0Yfl3Iyu8rA2VsyxB/Tybwpy8h6TAxnVVoJmnr99/UzUWSu1AeanCe8s3527FvDkn5vRs54mB9+mA6SgY08SGdXuMDkUk0LGDe/b4f3Jw2pSr91Mt51PvsK5kHzoaugtC3DyAWsOZJTdNBdeO6pHJW795FgAwM0XZi7eU6x85bkWkOoKSQ7TT6p1dH63PnL8wKzLun5wcObiQNS1MDmQUYOLGHZZjKaWds+One/OvXcBHb1XTKpzvO09nxvneFs3bph+QtbO9CfzPAfC/obyx+RARvX3aZ3ki8cPxS8uzVztzGvXnndMQRP4zfhQ9hXqsvGqMparFtN5waOXv3MeatKetu688h2Vn6KSg4gcJSLPicg66+++WbabKiJrRKReRGamfX6xiKwUkbiIcNkocq2meyU+cbK5ifScKqRJKWjnKKS1qk/3Cpw9+siKfCZntKVgKrbmMBPAfFUdDWC+9b4DEYkCuAfANABjAFwqIsknZ94CcBGAl4qMg8gzuQpnH7pYjCm0L6OQJjEKv2KTwwwAD1mvHwLwSZttJgCoV9X1qtoC4DFrP6jqalVdU2QMVAbyrRMRVCHODQWPgho3vC+uPGsEenG6jC6h2OQwSFW3AoD1t92jpEMAbEp732B9VhARuUpElojIkh07drgKloJp1S0fw02fCOc0DKZrDheNs/nV8CgDuRkFdeP0E7Dspo+aD4YCJ29yEJHnReQtmz8zHJ7D7r9gwf/dVfU+VR2vquMHDBiQfwfyzVXnZE6vnUv3ypjnD7J5xXR/wCdOHtzhWvSojKJ3N//XeE4mQREJ7b8VFSZvclDVKao61ubPkwC2iUgtAFh/b7c5RAOAYWnvhwLYYiJ4CqYvTvxAwfuMG94XXzk7mAvE5KwduMgNuTrOBUDv6hj6WAlh5S1TPev8dTqVx+Vn1qF3NZuSuppim5VmA7jMen0ZgCdttlkMYLSIjBCRSgCXWPtRmXLTXDG4phtumB7MpqVcycFNvSFfE9q8687BM988x8WR80tP3E7/mc4fM8jTqdgpmIpNDncAOF9E1gE433oPERksInMBQFXbAFwL4BkAqwE8rqorre0+JSINAM4AMEdEnikyHgqArlSQFDKvUlKuqyMiOLpPNY7uk7kGc8xAc07ySfLEuYo+HJWxouqKqroLwGSbz7cAuCDt/VwAc222ewLAE8XEQMHTlcocN/MM5nr4LNe1W/i9yRh/2/OFnzDrubrSvxQVik9Ik3HldkdqutPZ7fUx/fR5vp/rS2cU3ndE5YPJgYzrSnekboay5ro+pUys+WK/ZUaiCcrpTLtUXpgcyLhyqzl0dvunjrTbu5mFtntV9tFHE0Yc5SomN5xEPv3EWhxfW/jqdRR+TA5kXLnlhs7lv5ulPtNVRCO46JTMh90m1B2FqpiZYatnj+6fdxsnnen3fH4cBvbK7Byn8sfkQOaVWXboPLVHepHqZrQSAM+v0bfOPxYLr88YK9JBmOeFIu8xOZBx5dbn0HmNivRC1W35mn6NThle4/Io9o4/uhfGDe9rOxyWyCkmBzKunPscLp0wvENtYWT/Hq6Ok36NfmitXlcZM/Pr6LQfxI9V+yg8+Ew8GVfGuQF1/bp3qC1c5nLN6s7X6NlvnWNsZtp8Zf6tnxyLB155l30JlBOTAxlXzk9IK4CxQ/qk3rv9WdN3UwWOLbKTO12+GsEXJ37A1fxX1LWwWYmMK9/UkNCzKobjjy6uME/vczDduMPWIjKByYGMyzU9RNiZ+skmjjryPIPrEU9ZHDOwp9HjUdfE5EDGSRn+rxo5INHx/NEPHm3keJ86ZWjqtekb/V9+bpzhI1JXVIa/xuS3cqw5/PoLpwIARlijk0ze7FdGzf4amhr1RF0b/xeRceW4UNjoQb2w4Y7pxo87uE91hw5uoqBgciDjyrHm4JVRhvsHvjXlWKPHo66LyYGMKyQ55FoysyswPez3uimjjR6Pui4+50DGFdKsdNuMsfk3KlP/ff6xOK2udLOwEhWCyYGMixaSHULaAmXihv8bk3mXT8HFZiUyrpCmkrB2XldXmJlamyiomBzIV2GdamPiyH6o6VbhdxhEnmGzEvkqnKkB+O7U4/Ddqcf5HQaRZ5gcyFchrTiEtsZD5BSblcgTHz+p1tF25bYwkNce/crErN+99O3zShgJlTsmB/KE02cdeANemDNG9cv63fB+3UsYCZU7JgfyhNNRSEwOxVl72zS/Q6AyxeRAnnBcc2CzUlEqYxEsv/mjfodBZYjJgTzhdGZQ1hzcS87m2qsqhns/z2m6ySwmB/LE9Rec4Gg75gZ3nv/vc7H29kSTkohg2onOBgAQOcXkQJ7o4/ABMQ4JdaegKUqIXCgqOYjIUSLynIiss/7um2W7qSKyRkTqRWRm2ud3isjbIrJcRJ4QkZpi4qHwYRnnDq8bea3YmsNMAPNVdTSA+db7DkQkCuAeANMAjAFwqYiMsb5+DsBYVT0JwFoA1xcZD1GX0K2SczuRt4pNDjMAPGS9fgjAJ222mQCgXlXXq2oLgMes/aCqz6pqm7XdQgBDbfankHrymkl5t2GzUuGW3jgFA3tV+x0Glblik8MgVd0KANbfA222GQJgU9r7Buuzzv4TwLxsJxKRq0RkiYgs2bFjRxEhU6lUVbBLywv9elb5HQJ1AXnnVhKR5wEcbfPVDQ7PYXdr2GF5dhG5AUAbgD9kO4iq3gfgPgAYP368weXdySu1vbv5HQIRuZQ3OajqlGzficg2EalV1a0iUgtgu81mDQCGpb0fCmBL2jEuA/BxAJNVlYV+GenTvQIb7piOuplz/A6FiApUbL1/NoDLrNeXAXjSZpvFAEaLyAgRqQRwibUfRGQqgO8CuFBVG4uMhYiIDCk2OdwB4HwRWQfgfOs9RGSwiMwFAKvD+VoAzwBYDeBxVV1p7f9LAL0APCciy0RkVpHxEBGRAUWt56CquwBMtvl8C4AL0t7PBTDXZrtjijk/ERF5g8NJyHMDe3F0DVHYMDmQ5846pr/fIRBRgZgcyHMcgkYUPkwO5DmOUCYKHyYH8lyEs8QRhQ6TA3kuyvmTiEKHyYE8F4syORCFDZMDec7petJEFBxMDuS5YUd1T72eOe14HyMhIqeYHMhzXzl7ZOr11eeOQt/uzpYQJSL/MDmQ5zqvdxyN8L8dUdDxt5RKLsahrUSBx+RAJfHwlRNSrzvXJIgoeJgcqCRG9O+Res3kQBR8TA5UEpI2nJXNSkTBx+RAJde9Kup3CESUB5MDlUT6FBr3X3YahtR08zEaIsqHyYFKYlDvKvzpqonW62rMvnaSzxERUS5MDlQSIoLTR/ZLve/Xswob7pjuY0RElAuTAxERZWByICKiDEwORESUgcmBiIgyMDkQEVEGJgciIsrA5EBERBmYHIiIKIOoqt8xFExEDgBY43ccLvUHsNPvIIoQ5vgZu3/CHH85xf4BVR3gZMeYN/F4bo2qjvc7CDdEZElYYwfCHT9j90+Y4++qsbNZiYiIMjA5EBFRhrAmh/v8DqAIYY4dCHf8jN0/YY6/S8Yeyg5pIiLyVlhrDkRE5CEmByIiyhCq5CAiU0VkjYjUi8hMv+PJJV+sIvJhEdknIsusPz/wI06nROQBEdkuIm/5HUsu+eIM4XUfJiILRGS1iKwUkev8jsmOkzhDeO2rRWSRiLxp/Uw/9DsmO07idHXtVTUUfwBEAbwDYCSASgBvAhjjd1xuYwXwYQBP+R1rAT/TOQDGAXjL71iKiTOE170WwDjrdS8Aa4P4/95JnCG89gKgp/W6AsC/AUz0Oy43cbq59mGqOUwAUK+q61W1BcBjAGb4HFM2YYrVEVV9CcBuv+PIJyxxOqWqW1X1dev1AQCrAQzxN6pMYYmzEJpw0HpbYf0J3Ager+IMU3IYAmBT2vsGBPc/n9NYz7CqgvNE5IOlCY0Q0usuInUATkHizjCw8sQZqmsvIlERWQZgO4DnVDWQ195hnAVd+zAlB7H5LHBZ3OIk1teRmOfkZAC/APB3r4MiACG97iLSE8BfAXxTVff7HU82eeIM3bVX1XZV/RCAoQAmiMhYn0Oy5SDOgq99mJJDA4Bhae+HAtjiUyz55I1VVfcnq4KqOhdAhYj0L12IXVMYr7uIVCBR4P5BVf/mdzzZ5IszjNc+SVX3AngBwFR/I8ktW5xurn2YksNiAKNFZISIVAK4BMBsn2PKJm+sInK0iIj1egIS/xa7Sh5pFxO2627Fej+A1ar6M7/jycZJnCG89gNEpMZ63Q3AFABv+xqUDSdxurn2oZmVVVXbRORaAM8gMRroAVVd6XNYtrLFKiJXW9/PAvAZAF8TkTYAhwFcotawgiASkUeRGPHQX0QaANykqvf7G1UmuziR6KAL5XUHMAnAFwGssNqUAeB71t1fkNjGCWA4ENprXwvgIRGJIlGYPq6qT/kckx3bOIstbzh9BhERZQhTsxIREZUIkwMREWVgciAiogxMDkRElIHJgYiIMjA5EOUgIv3SZrJ8X0Q2W68Pisiv/I6PyCscykrkkIjcDOCgqv6v37EQeY01ByIXrPnxn7Je3ywiD4nIsyKyQUQuEpGfisgKEXnamlYCInKqiLwoIktF5BkRqfX3pyDKjsmByIxRAKYjMTX7IwAWqOqJSDyNOt1KEL8A8BlVPRXAAwBu9ytYonxCM30GUcDNU9VWEVmBxJQpT1ufrwBQB+A4AGMBPGdNcRMFsNWHOIkcYXIgMqMZAFQ1LiKtafPWxJH4PRMAK1X1DL8CJCoEm5WISmMNgAEicgaQmN46DIvdUNfF5EBUAtZysZ8B8BMReRPAMgBn+hoUUQ4cykpERBlYcyAiogxMDkRElIHJgYiIMjA5EBFRBiYHIiLKwORAREQZmByIiCjD/wf0bps79arpuwAAAABJRU5ErkJggg==\n",
      "text/plain": [
       "<Figure size 432x288 with 1 Axes>"
      ]
     },
     "metadata": {
      "needs_background": "light"
     },
     "output_type": "display_data"
    }
   ],
   "source": [
    "\n",
    "import librosa\n",
    "import numpy as np\n",
    "from librosa import display\n",
    "import os\n",
    "import pandas as pd\n",
    "import glob \n",
    "\n",
    "data, sampling_rate = librosa.load('03-01-02-01-01-01-01.wav', res_type='kaiser_best')\n",
    "mfccs = np.mean(librosa.feature.mfcc(y=data, sr=sampling_rate, n_mfcc=40).T, axis=0)\n",
    "\n",
    "librosa.display.waveplot(data, sr=sampling_rate)\n",
    "x = np.expand_dims(mfccs, axis=-1)\n",
    "x = np.expand_dims(x, axis=0)\n",
    "predictions = loaded_model.predict_classes(x)\n",
    "emotion = {\n",
    "               1: 'calm',\n",
    "               2: 'happy',\n",
    "               3: 'sad',\n",
    "               4: 'angry',\n",
    "               }\n",
    "print( \"Prediction is\",emotion[predictions[0]])"
   ]
  },
  {
   "cell_type": "code",
   "execution_count": 127,
   "metadata": {
    "id": "uhRy7qsikykz"
   },
   "outputs": [
    {
     "name": "stdout",
     "output_type": "stream",
     "text": [
      "done\n"
     ]
    }
   ],
   "source": [
    "import sounddevice as sd\n",
    "from scipy.io.wavfile import write\n",
    "fs = 44100  # Sample rate\n",
    "seconds = 3  # Duration of recording\n",
    "\n",
    "myrecording = sd.rec(int(seconds * fs), samplerate=fs, channels=1)\n",
    "sd.wait()  # Wait until recording is finished\n",
    "write('examples2.wav', fs, myrecording)  # Save as WAV file \n",
    "print('done')"
   ]
  },
  {
   "cell_type": "code",
   "execution_count": null,
   "metadata": {},
   "outputs": [],
   "source": []
  }
 ],
 "metadata": {
  "colab": {
   "name": "EmotionRecognition.ipynb",
   "provenance": []
  },
  "kernelspec": {
   "display_name": "Python 3",
   "language": "python",
   "name": "python3"
  },
  "language_info": {
   "codemirror_mode": {
    "name": "ipython",
    "version": 3
   },
   "file_extension": ".py",
   "mimetype": "text/x-python",
   "name": "python",
   "nbconvert_exporter": "python",
   "pygments_lexer": "ipython3",
   "version": "3.8.8"
  }
 },
 "nbformat": 4,
 "nbformat_minor": 1
}
>>>>>>> reduced categories
